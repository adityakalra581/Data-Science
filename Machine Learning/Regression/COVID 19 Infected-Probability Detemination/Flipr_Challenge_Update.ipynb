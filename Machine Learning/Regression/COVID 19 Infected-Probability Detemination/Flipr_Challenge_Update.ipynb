{
  "nbformat": 4,
  "nbformat_minor": 0,
  "metadata": {
    "colab": {
      "name": "Copy of Flipr Challenge.ipynb",
      "provenance": [],
      "collapsed_sections": [],
      "authorship_tag": "ABX9TyNDGVzXAfaOY94ET9NVtb0/",
      "include_colab_link": true
    },
    "kernelspec": {
      "name": "python3",
      "display_name": "Python 3"
    }
  },
  "cells": [
    {
      "cell_type": "markdown",
      "metadata": {
        "id": "view-in-github",
        "colab_type": "text"
      },
      "source": [
        "<a href=\"https://colab.research.google.com/github/adityakalra581/Data-Science/blob/master/Flipr_Challenge.ipynb\" target=\"_parent\"><img src=\"https://colab.research.google.com/assets/colab-badge.svg\" alt=\"Open In Colab\"/></a>"
      ]
    },
    {
      "cell_type": "code",
      "metadata": {
        "id": "BY26d3RMPZZe",
        "colab_type": "code",
        "colab": {}
      },
      "source": [
        "import pandas as pd\n",
        "import numpy as np\n",
        "import seaborn as sns\n",
        "import matplotlib.pyplot as plt\n",
        "\n",
        "from sklearn.model_selection import train_test_split\n",
        "from sklearn.linear_model import LinearRegression\n"
      ],
      "execution_count": 0,
      "outputs": []
    },
    {
      "cell_type": "code",
      "metadata": {
        "id": "qkWZ6WuqPimA",
        "colab_type": "code",
        "colab": {}
      },
      "source": [
        "train = pd.read_excel(\"Train_dataset.xlsx\")\n",
        "test = pd.read_excel(\"Test_dataset.xlsx\")\n"
      ],
      "execution_count": 0,
      "outputs": []
    },
    {
      "cell_type": "code",
      "metadata": {
        "id": "Fl9kmIinQRQv",
        "colab_type": "code",
        "outputId": "f075ba6a-0e4c-462a-b59b-fc30b9680bde",
        "colab": {
          "base_uri": "https://localhost:8080/",
          "height": 309
        }
      },
      "source": [
        "train.head()"
      ],
      "execution_count": 110,
      "outputs": [
        {
          "output_type": "execute_result",
          "data": {
            "text/html": [
              "<div>\n",
              "<style scoped>\n",
              "    .dataframe tbody tr th:only-of-type {\n",
              "        vertical-align: middle;\n",
              "    }\n",
              "\n",
              "    .dataframe tbody tr th {\n",
              "        vertical-align: top;\n",
              "    }\n",
              "\n",
              "    .dataframe thead th {\n",
              "        text-align: right;\n",
              "    }\n",
              "</style>\n",
              "<table border=\"1\" class=\"dataframe\">\n",
              "  <thead>\n",
              "    <tr style=\"text-align: right;\">\n",
              "      <th></th>\n",
              "      <th>people_ID</th>\n",
              "      <th>Region</th>\n",
              "      <th>Gender</th>\n",
              "      <th>Designation</th>\n",
              "      <th>Name</th>\n",
              "      <th>Married</th>\n",
              "      <th>Children</th>\n",
              "      <th>Occupation</th>\n",
              "      <th>Mode_transport</th>\n",
              "      <th>cases/1M</th>\n",
              "      <th>Deaths/1M</th>\n",
              "      <th>comorbidity</th>\n",
              "      <th>Age</th>\n",
              "      <th>Coma score</th>\n",
              "      <th>Pulmonary score</th>\n",
              "      <th>cardiological pressure</th>\n",
              "      <th>Diuresis</th>\n",
              "      <th>Platelets</th>\n",
              "      <th>HBB</th>\n",
              "      <th>d-dimer</th>\n",
              "      <th>Heart rate</th>\n",
              "      <th>HDL cholesterol</th>\n",
              "      <th>Charlson Index</th>\n",
              "      <th>Blood Glucose</th>\n",
              "      <th>Insurance</th>\n",
              "      <th>salary</th>\n",
              "      <th>FT/month</th>\n",
              "      <th>Infect_Prob</th>\n",
              "    </tr>\n",
              "  </thead>\n",
              "  <tbody>\n",
              "    <tr>\n",
              "      <th>0</th>\n",
              "      <td>1</td>\n",
              "      <td>Bhubaneshwar</td>\n",
              "      <td>Female</td>\n",
              "      <td>Mrs</td>\n",
              "      <td>mansi</td>\n",
              "      <td>YES</td>\n",
              "      <td>1.0</td>\n",
              "      <td>Farmer</td>\n",
              "      <td>Public</td>\n",
              "      <td>2</td>\n",
              "      <td>0</td>\n",
              "      <td>Hypertension</td>\n",
              "      <td>68</td>\n",
              "      <td>8</td>\n",
              "      <td>&lt;400</td>\n",
              "      <td>Normal</td>\n",
              "      <td>441.0</td>\n",
              "      <td>154.0</td>\n",
              "      <td>93.0</td>\n",
              "      <td>233.0</td>\n",
              "      <td>82.0</td>\n",
              "      <td>58.0</td>\n",
              "      <td>27</td>\n",
              "      <td>7</td>\n",
              "      <td>3600000.0</td>\n",
              "      <td>1300000</td>\n",
              "      <td>2.0</td>\n",
              "      <td>49.135010</td>\n",
              "    </tr>\n",
              "    <tr>\n",
              "      <th>1</th>\n",
              "      <td>2</td>\n",
              "      <td>Bhubaneshwar</td>\n",
              "      <td>Female</td>\n",
              "      <td>Mrs</td>\n",
              "      <td>riya masi</td>\n",
              "      <td>YES</td>\n",
              "      <td>2.0</td>\n",
              "      <td>Farmer</td>\n",
              "      <td>Walk</td>\n",
              "      <td>2</td>\n",
              "      <td>0</td>\n",
              "      <td>Diabetes</td>\n",
              "      <td>64</td>\n",
              "      <td>15</td>\n",
              "      <td>&lt;100</td>\n",
              "      <td>Stage-02</td>\n",
              "      <td>NaN</td>\n",
              "      <td>121.0</td>\n",
              "      <td>56.0</td>\n",
              "      <td>328.0</td>\n",
              "      <td>89.0</td>\n",
              "      <td>68.0</td>\n",
              "      <td>5</td>\n",
              "      <td>6</td>\n",
              "      <td>1600000.0</td>\n",
              "      <td>400000</td>\n",
              "      <td>1.0</td>\n",
              "      <td>51.147880</td>\n",
              "    </tr>\n",
              "    <tr>\n",
              "      <th>2</th>\n",
              "      <td>3</td>\n",
              "      <td>Bhubaneshwar</td>\n",
              "      <td>Female</td>\n",
              "      <td>Mrs</td>\n",
              "      <td>sunita</td>\n",
              "      <td>NO</td>\n",
              "      <td>1.0</td>\n",
              "      <td>Cleaner</td>\n",
              "      <td>Public</td>\n",
              "      <td>2</td>\n",
              "      <td>0</td>\n",
              "      <td>None</td>\n",
              "      <td>19</td>\n",
              "      <td>13</td>\n",
              "      <td>&lt;300</td>\n",
              "      <td>Elevated</td>\n",
              "      <td>416.0</td>\n",
              "      <td>124.0</td>\n",
              "      <td>137.0</td>\n",
              "      <td>213.0</td>\n",
              "      <td>77.0</td>\n",
              "      <td>43.0</td>\n",
              "      <td>40</td>\n",
              "      <td>6</td>\n",
              "      <td>3400000.0</td>\n",
              "      <td>900000</td>\n",
              "      <td>1.0</td>\n",
              "      <td>73.224000</td>\n",
              "    </tr>\n",
              "    <tr>\n",
              "      <th>3</th>\n",
              "      <td>4</td>\n",
              "      <td>Bhubaneshwar</td>\n",
              "      <td>Female</td>\n",
              "      <td>Mrs</td>\n",
              "      <td>anjali @ babli</td>\n",
              "      <td>YES</td>\n",
              "      <td>1.0</td>\n",
              "      <td>Driver</td>\n",
              "      <td>Car</td>\n",
              "      <td>2</td>\n",
              "      <td>0</td>\n",
              "      <td>Coronary Heart Disease</td>\n",
              "      <td>33</td>\n",
              "      <td>9</td>\n",
              "      <td>&lt;200</td>\n",
              "      <td>Stage-01</td>\n",
              "      <td>410.0</td>\n",
              "      <td>98.0</td>\n",
              "      <td>167.0</td>\n",
              "      <td>275.0</td>\n",
              "      <td>64.0</td>\n",
              "      <td>60.0</td>\n",
              "      <td>27</td>\n",
              "      <td>7</td>\n",
              "      <td>700000.0</td>\n",
              "      <td>2300000</td>\n",
              "      <td>1.0</td>\n",
              "      <td>48.779225</td>\n",
              "    </tr>\n",
              "    <tr>\n",
              "      <th>4</th>\n",
              "      <td>5</td>\n",
              "      <td>Bhubaneshwar</td>\n",
              "      <td>Female</td>\n",
              "      <td>Mrs</td>\n",
              "      <td>champa karketta</td>\n",
              "      <td>NO</td>\n",
              "      <td>2.0</td>\n",
              "      <td>Manufacturing</td>\n",
              "      <td>Car</td>\n",
              "      <td>2</td>\n",
              "      <td>0</td>\n",
              "      <td>Diabetes</td>\n",
              "      <td>23</td>\n",
              "      <td>7</td>\n",
              "      <td>&lt;400</td>\n",
              "      <td>Normal</td>\n",
              "      <td>390.0</td>\n",
              "      <td>21.0</td>\n",
              "      <td>153.0</td>\n",
              "      <td>331.0</td>\n",
              "      <td>71.0</td>\n",
              "      <td>64.0</td>\n",
              "      <td>32</td>\n",
              "      <td>7</td>\n",
              "      <td>3200000.0</td>\n",
              "      <td>1100000</td>\n",
              "      <td>1.0</td>\n",
              "      <td>87.868800</td>\n",
              "    </tr>\n",
              "  </tbody>\n",
              "</table>\n",
              "</div>"
            ],
            "text/plain": [
              "   people_ID        Region  Gender  ...   salary FT/month Infect_Prob\n",
              "0          1  Bhubaneshwar  Female  ...  1300000      2.0   49.135010\n",
              "1          2  Bhubaneshwar  Female  ...   400000      1.0   51.147880\n",
              "2          3  Bhubaneshwar  Female  ...   900000      1.0   73.224000\n",
              "3          4  Bhubaneshwar  Female  ...  2300000      1.0   48.779225\n",
              "4          5  Bhubaneshwar  Female  ...  1100000      1.0   87.868800\n",
              "\n",
              "[5 rows x 28 columns]"
            ]
          },
          "metadata": {
            "tags": []
          },
          "execution_count": 110
        }
      ]
    },
    {
      "cell_type": "code",
      "metadata": {
        "id": "Ahnw5E6GYchb",
        "colab_type": "code",
        "outputId": "7fa666d6-dfb4-4f56-99ae-889761cf70c6",
        "colab": {
          "base_uri": "https://localhost:8080/",
          "height": 292
        }
      },
      "source": [
        "test.head()"
      ],
      "execution_count": 111,
      "outputs": [
        {
          "output_type": "execute_result",
          "data": {
            "text/html": [
              "<div>\n",
              "<style scoped>\n",
              "    .dataframe tbody tr th:only-of-type {\n",
              "        vertical-align: middle;\n",
              "    }\n",
              "\n",
              "    .dataframe tbody tr th {\n",
              "        vertical-align: top;\n",
              "    }\n",
              "\n",
              "    .dataframe thead th {\n",
              "        text-align: right;\n",
              "    }\n",
              "</style>\n",
              "<table border=\"1\" class=\"dataframe\">\n",
              "  <thead>\n",
              "    <tr style=\"text-align: right;\">\n",
              "      <th></th>\n",
              "      <th>people_ID</th>\n",
              "      <th>Region</th>\n",
              "      <th>Gender</th>\n",
              "      <th>Designation</th>\n",
              "      <th>Name</th>\n",
              "      <th>Married</th>\n",
              "      <th>Children</th>\n",
              "      <th>Occupation</th>\n",
              "      <th>Mode_transport</th>\n",
              "      <th>cases/1M</th>\n",
              "      <th>Deaths/1M</th>\n",
              "      <th>comorbidity</th>\n",
              "      <th>Age</th>\n",
              "      <th>Coma score</th>\n",
              "      <th>Pulmonary score</th>\n",
              "      <th>cardiological pressure</th>\n",
              "      <th>Diuresis</th>\n",
              "      <th>Platelets</th>\n",
              "      <th>HBB</th>\n",
              "      <th>d-dimer</th>\n",
              "      <th>Heart rate</th>\n",
              "      <th>HDL cholesterol</th>\n",
              "      <th>Charlson Index</th>\n",
              "      <th>Blood Glucose</th>\n",
              "      <th>Insurance</th>\n",
              "      <th>salary</th>\n",
              "      <th>FT/month</th>\n",
              "    </tr>\n",
              "  </thead>\n",
              "  <tbody>\n",
              "    <tr>\n",
              "      <th>0</th>\n",
              "      <td>5942</td>\n",
              "      <td>Delhi</td>\n",
              "      <td>Female</td>\n",
              "      <td>Mrs</td>\n",
              "      <td>smt rekha prajapat</td>\n",
              "      <td>YES</td>\n",
              "      <td>2</td>\n",
              "      <td>Driver</td>\n",
              "      <td>Public</td>\n",
              "      <td>4</td>\n",
              "      <td>1</td>\n",
              "      <td>Diabetes</td>\n",
              "      <td>52</td>\n",
              "      <td>3</td>\n",
              "      <td>&lt;200</td>\n",
              "      <td>Stage-01</td>\n",
              "      <td>388</td>\n",
              "      <td>153</td>\n",
              "      <td>196</td>\n",
              "      <td>240</td>\n",
              "      <td>85</td>\n",
              "      <td>53</td>\n",
              "      <td>17</td>\n",
              "      <td>3</td>\n",
              "      <td>3900000</td>\n",
              "      <td>1300000</td>\n",
              "      <td>1</td>\n",
              "    </tr>\n",
              "    <tr>\n",
              "      <th>1</th>\n",
              "      <td>18664</td>\n",
              "      <td>Delhi</td>\n",
              "      <td>Male</td>\n",
              "      <td>Mr</td>\n",
              "      <td>nirmal</td>\n",
              "      <td>YES</td>\n",
              "      <td>2</td>\n",
              "      <td>Legal</td>\n",
              "      <td>Walk</td>\n",
              "      <td>4</td>\n",
              "      <td>1</td>\n",
              "      <td>Diabetes</td>\n",
              "      <td>53</td>\n",
              "      <td>11</td>\n",
              "      <td>&lt;200</td>\n",
              "      <td>Stage-01</td>\n",
              "      <td>409</td>\n",
              "      <td>95</td>\n",
              "      <td>138</td>\n",
              "      <td>241</td>\n",
              "      <td>81</td>\n",
              "      <td>61</td>\n",
              "      <td>2</td>\n",
              "      <td>5</td>\n",
              "      <td>1800000</td>\n",
              "      <td>1300000</td>\n",
              "      <td>1</td>\n",
              "    </tr>\n",
              "    <tr>\n",
              "      <th>2</th>\n",
              "      <td>5603</td>\n",
              "      <td>Delhi</td>\n",
              "      <td>Female</td>\n",
              "      <td>Mrs</td>\n",
              "      <td>pinky</td>\n",
              "      <td>YES</td>\n",
              "      <td>2</td>\n",
              "      <td>Sales</td>\n",
              "      <td>Car</td>\n",
              "      <td>4</td>\n",
              "      <td>1</td>\n",
              "      <td>Diabetes</td>\n",
              "      <td>35</td>\n",
              "      <td>9</td>\n",
              "      <td>&lt;100</td>\n",
              "      <td>Stage-02</td>\n",
              "      <td>440</td>\n",
              "      <td>40</td>\n",
              "      <td>166</td>\n",
              "      <td>236</td>\n",
              "      <td>88</td>\n",
              "      <td>47</td>\n",
              "      <td>24</td>\n",
              "      <td>3</td>\n",
              "      <td>5000000</td>\n",
              "      <td>2000000</td>\n",
              "      <td>2</td>\n",
              "    </tr>\n",
              "    <tr>\n",
              "      <th>3</th>\n",
              "      <td>5649</td>\n",
              "      <td>Delhi</td>\n",
              "      <td>Female</td>\n",
              "      <td>Mrs</td>\n",
              "      <td>pooja @aafrin</td>\n",
              "      <td>YES</td>\n",
              "      <td>2</td>\n",
              "      <td>Sales</td>\n",
              "      <td>Car</td>\n",
              "      <td>4</td>\n",
              "      <td>1</td>\n",
              "      <td>None</td>\n",
              "      <td>31</td>\n",
              "      <td>12</td>\n",
              "      <td>&lt;300</td>\n",
              "      <td>Elevated</td>\n",
              "      <td>206</td>\n",
              "      <td>78</td>\n",
              "      <td>83</td>\n",
              "      <td>211</td>\n",
              "      <td>87</td>\n",
              "      <td>52</td>\n",
              "      <td>13</td>\n",
              "      <td>6</td>\n",
              "      <td>3100000</td>\n",
              "      <td>600000</td>\n",
              "      <td>2</td>\n",
              "    </tr>\n",
              "    <tr>\n",
              "      <th>4</th>\n",
              "      <td>5099</td>\n",
              "      <td>Delhi</td>\n",
              "      <td>Female</td>\n",
              "      <td>Mrs</td>\n",
              "      <td>anjali</td>\n",
              "      <td>YES</td>\n",
              "      <td>2</td>\n",
              "      <td>Business</td>\n",
              "      <td>Car</td>\n",
              "      <td>4</td>\n",
              "      <td>1</td>\n",
              "      <td>Diabetes</td>\n",
              "      <td>51</td>\n",
              "      <td>6</td>\n",
              "      <td>&lt;200</td>\n",
              "      <td>Stage-01</td>\n",
              "      <td>229</td>\n",
              "      <td>109</td>\n",
              "      <td>207</td>\n",
              "      <td>312</td>\n",
              "      <td>94</td>\n",
              "      <td>68</td>\n",
              "      <td>39</td>\n",
              "      <td>5</td>\n",
              "      <td>2300000</td>\n",
              "      <td>1500000</td>\n",
              "      <td>1</td>\n",
              "    </tr>\n",
              "  </tbody>\n",
              "</table>\n",
              "</div>"
            ],
            "text/plain": [
              "   people_ID Region  Gender  ... Insurance   salary FT/month\n",
              "0       5942  Delhi  Female  ...   3900000  1300000        1\n",
              "1      18664  Delhi    Male  ...   1800000  1300000        1\n",
              "2       5603  Delhi  Female  ...   5000000  2000000        2\n",
              "3       5649  Delhi  Female  ...   3100000   600000        2\n",
              "4       5099  Delhi  Female  ...   2300000  1500000        1\n",
              "\n",
              "[5 rows x 27 columns]"
            ]
          },
          "metadata": {
            "tags": []
          },
          "execution_count": 111
        }
      ]
    },
    {
      "cell_type": "markdown",
      "metadata": {
        "id": "6zRFD1BWb6PF",
        "colab_type": "text"
      },
      "source": [
        "## EDA on Training and Testing Data"
      ]
    },
    {
      "cell_type": "code",
      "metadata": {
        "id": "7WtYp_ONYet8",
        "colab_type": "code",
        "outputId": "c4773701-8f76-49d2-81d1-43e6ff6ec3d4",
        "colab": {
          "base_uri": "https://localhost:8080/",
          "height": 527
        }
      },
      "source": [
        "print(train.shape)\n",
        "print(train.nunique())"
      ],
      "execution_count": 112,
      "outputs": [
        {
          "output_type": "stream",
          "text": [
            "(10714, 28)\n",
            "people_ID                 10714\n",
            "Region                        5\n",
            "Gender                        2\n",
            "Designation                   2\n",
            "Name                       6304\n",
            "Married                       2\n",
            "Children                      3\n",
            "Occupation                    9\n",
            "Mode_transport                3\n",
            "cases/1M                      4\n",
            "Deaths/1M                     3\n",
            "comorbidity                   4\n",
            "Age                          53\n",
            "Coma score                   13\n",
            "Pulmonary score               4\n",
            "cardiological pressure        4\n",
            "Diuresis                    341\n",
            "Platelets                   146\n",
            "HBB                         191\n",
            "d-dimer                     151\n",
            "Heart rate                   51\n",
            "HDL cholesterol              36\n",
            "Charlson Index               41\n",
            "Blood Glucose                 5\n",
            "Insurance                    48\n",
            "salary                       21\n",
            "FT/month                      3\n",
            "Infect_Prob                8724\n",
            "dtype: int64\n"
          ],
          "name": "stdout"
        }
      ]
    },
    {
      "cell_type": "code",
      "metadata": {
        "id": "3o1RUZuxcHLK",
        "colab_type": "code",
        "outputId": "518644d4-6ac8-45db-fd10-fa62f4ff589b",
        "colab": {
          "base_uri": "https://localhost:8080/",
          "height": 510
        }
      },
      "source": [
        "## Estimating Missing Values in Dataset\n",
        "train.isnull().sum()"
      ],
      "execution_count": 113,
      "outputs": [
        {
          "output_type": "execute_result",
          "data": {
            "text/plain": [
              "people_ID                    0\n",
              "Region                       0\n",
              "Gender                       0\n",
              "Designation                  0\n",
              "Name                        20\n",
              "Married                      0\n",
              "Children                   311\n",
              "Occupation                 747\n",
              "Mode_transport               3\n",
              "cases/1M                     0\n",
              "Deaths/1M                    0\n",
              "comorbidity                226\n",
              "Age                          0\n",
              "Coma score                   0\n",
              "Pulmonary score              0\n",
              "cardiological pressure      97\n",
              "Diuresis                   716\n",
              "Platelets                  924\n",
              "HBB                         16\n",
              "d-dimer                   1114\n",
              "Heart rate                1114\n",
              "HDL cholesterol             35\n",
              "Charlson Index               0\n",
              "Blood Glucose                0\n",
              "Insurance                 1090\n",
              "salary                       0\n",
              "FT/month                   723\n",
              "Infect_Prob                  0\n",
              "dtype: int64"
            ]
          },
          "metadata": {
            "tags": []
          },
          "execution_count": 113
        }
      ]
    },
    {
      "cell_type": "code",
      "metadata": {
        "id": "DidW-h_k9RxA",
        "colab_type": "code",
        "outputId": "6bf6e49d-0504-46ff-fd93-ecd69f9d750c",
        "colab": {
          "base_uri": "https://localhost:8080/",
          "height": 493
        }
      },
      "source": [
        "test.isnull().sum()"
      ],
      "execution_count": 114,
      "outputs": [
        {
          "output_type": "execute_result",
          "data": {
            "text/plain": [
              "people_ID                  0\n",
              "Region                     0\n",
              "Gender                     0\n",
              "Designation                0\n",
              "Name                      32\n",
              "Married                    0\n",
              "Children                   0\n",
              "Occupation                 0\n",
              "Mode_transport             0\n",
              "cases/1M                   0\n",
              "Deaths/1M                  0\n",
              "comorbidity                0\n",
              "Age                        0\n",
              "Coma score                 0\n",
              "Pulmonary score            0\n",
              "cardiological pressure     0\n",
              "Diuresis                   0\n",
              "Platelets                  0\n",
              "HBB                        0\n",
              "d-dimer                    0\n",
              "Heart rate                 0\n",
              "HDL cholesterol            0\n",
              "Charlson Index             0\n",
              "Blood Glucose              0\n",
              "Insurance                  0\n",
              "salary                     0\n",
              "FT/month                   0\n",
              "dtype: int64"
            ]
          },
          "metadata": {
            "tags": []
          },
          "execution_count": 114
        }
      ]
    },
    {
      "cell_type": "markdown",
      "metadata": {
        "id": "KSyA5hB19Ykp",
        "colab_type": "text"
      },
      "source": [
        "**Insights**\n",
        "- Clearly test data is clean and ready nut training data need\n",
        "some preprocessing.\n",
        "- Also there are lot of Mising Values in Names in both the data, and Probability will not be dependent on name, so i'll drop the names from both the data from Modelling and Fitting.  "
      ]
    },
    {
      "cell_type": "code",
      "metadata": {
        "id": "H1MiiEi5cPYH",
        "colab_type": "code",
        "outputId": "fb295fad-3d95-4a36-f81f-943d42182204",
        "colab": {
          "base_uri": "https://localhost:8080/",
          "height": 85
        }
      },
      "source": [
        "train['Children'].value_counts()"
      ],
      "execution_count": 115,
      "outputs": [
        {
          "output_type": "execute_result",
          "data": {
            "text/plain": [
              "2.0    3829\n",
              "1.0    3398\n",
              "0.0    3176\n",
              "Name: Children, dtype: int64"
            ]
          },
          "metadata": {
            "tags": []
          },
          "execution_count": 115
        }
      ]
    },
    {
      "cell_type": "code",
      "metadata": {
        "id": "a7w6b0DJ7Q0S",
        "colab_type": "code",
        "outputId": "1111ab8f-12c8-4d7b-8928-803b606f2ad8",
        "colab": {
          "base_uri": "https://localhost:8080/",
          "height": 187
        }
      },
      "source": [
        "## Let's See Occupation\n",
        "\n",
        "train['Occupation'].value_counts()"
      ],
      "execution_count": 116,
      "outputs": [
        {
          "output_type": "execute_result",
          "data": {
            "text/plain": [
              "Legal            1174\n",
              "Sales            1131\n",
              "Manufacturing    1120\n",
              "Researcher       1115\n",
              "Farmer           1113\n",
              "Cleaner          1111\n",
              "Clerk            1078\n",
              "Driver           1072\n",
              "Business         1053\n",
              "Name: Occupation, dtype: int64"
            ]
          },
          "metadata": {
            "tags": []
          },
          "execution_count": 116
        }
      ]
    },
    {
      "cell_type": "code",
      "metadata": {
        "id": "6rgrJZV5BCeJ",
        "colab_type": "code",
        "outputId": "1d8afb0a-f7fc-4a84-f44c-0d385b71a354",
        "colab": {
          "base_uri": "https://localhost:8080/",
          "height": 34
        }
      },
      "source": [
        "train['Occupation'].isnull().sum()"
      ],
      "execution_count": 117,
      "outputs": [
        {
          "output_type": "execute_result",
          "data": {
            "text/plain": [
              "747"
            ]
          },
          "metadata": {
            "tags": []
          },
          "execution_count": 117
        }
      ]
    },
    {
      "cell_type": "markdown",
      "metadata": {
        "id": "7c3JrTIvyIqw",
        "colab_type": "text"
      },
      "source": [
        "## EDA on Children Feature"
      ]
    },
    {
      "cell_type": "code",
      "metadata": {
        "id": "lN4fRpfQBOg_",
        "colab_type": "code",
        "outputId": "8d6c2d86-73fa-4f70-ff25-c2efa18218c5",
        "colab": {
          "base_uri": "https://localhost:8080/",
          "height": 296
        }
      },
      "source": [
        "sns.countplot(x='Children',hue='Married',data=train)"
      ],
      "execution_count": 118,
      "outputs": [
        {
          "output_type": "execute_result",
          "data": {
            "text/plain": [
              "<matplotlib.axes._subplots.AxesSubplot at 0x7fb2f3ddd3c8>"
            ]
          },
          "metadata": {
            "tags": []
          },
          "execution_count": 118
        },
        {
          "output_type": "display_data",
          "data": {
            "image/png": "[encoded data removed]",
            "text/plain": [
              "<Figure size 432x288 with 1 Axes>"
            ]
          },
          "metadata": {
            "tags": []
          }
        }
      ]
    },
    {
      "cell_type": "markdown",
      "metadata": {
        "id": "yejDT_zZ3FD4",
        "colab_type": "text"
      },
      "source": [
        "- There is no conclusive evidence that Not Married person doesn't have a child or Married person definitely have a child."
      ]
    },
    {
      "cell_type": "code",
      "metadata": {
        "id": "6ezoBVJGycuG",
        "colab_type": "code",
        "outputId": "6274bf32-b983-499c-f5db-91664f240fb3",
        "colab": {
          "base_uri": "https://localhost:8080/",
          "height": 297
        }
      },
      "source": [
        "sns.countplot(x='Children',hue='Gender',data=train,palette='RdBu_r')"
      ],
      "execution_count": 119,
      "outputs": [
        {
          "output_type": "execute_result",
          "data": {
            "text/plain": [
              "<matplotlib.axes._subplots.AxesSubplot at 0x7fb2f39fd9b0>"
            ]
          },
          "metadata": {
            "tags": []
          },
          "execution_count": 119
        },
        {
          "output_type": "display_data",
          "data": {
            "image/png": "[encoded data removed]",
            "text/plain": [
              "<Figure size 432x288 with 1 Axes>"
            ]
          },
          "metadata": {
            "tags": []
          }
        }
      ]
    },
    {
      "cell_type": "markdown",
      "metadata": {
        "id": "sKdV-QW73-y9",
        "colab_type": "text"
      },
      "source": [
        "- Nothing Interesting. Almost similar for all Categories."
      ]
    },
    {
      "cell_type": "code",
      "metadata": {
        "id": "vrLh8V_TzWUk",
        "colab_type": "code",
        "outputId": "8da77cbc-030a-4efb-aee7-9cc07cb3c31d",
        "colab": {
          "base_uri": "https://localhost:8080/",
          "height": 604
        }
      },
      "source": [
        "## Let's Visualize the Missing Values.\n",
        "\n",
        "dims = (12,8)\n",
        "fig,ax = plt.subplots(figsize=dims)\n",
        "sns.heatmap(train.isnull(),cbar=True,yticklabels=False,cmap='viridis',ax=ax)\n",
        "\n",
        "## Try the cmap=\"YlGnBu\" for different style\n"
      ],
      "execution_count": 120,
      "outputs": [
        {
          "output_type": "execute_result",
          "data": {
            "text/plain": [
              "<matplotlib.axes._subplots.AxesSubplot at 0x7fb2f379e080>"
            ]
          },
          "metadata": {
            "tags": []
          },
          "execution_count": 120
        },
        {
          "output_type": "display_data",
          "data": {
            "image/png": "[encoded data removed]",
            "text/plain": [
              "<Figure size 864x576 with 2 Axes>"
            ]
          },
          "metadata": {
            "tags": []
          }
        }
      ]
    },
    {
      "cell_type": "markdown",
      "metadata": {
        "id": "lnIDoAQ97KsT",
        "colab_type": "text"
      },
      "source": [
        "**Visualizing Missing Values**\n",
        "\n",
        "- The Above Visual displays the missing Values in different Columns and different Positions.\n",
        "- The Horizontal line is a sign of missing Value.\n",
        "- [Seaborn Heatmap Docs](https://seaborn.pydata.org/generated/seaborn.heatmap.html)"
      ]
    },
    {
      "cell_type": "code",
      "metadata": {
        "id": "-SpL9upc5quD",
        "colab_type": "code",
        "outputId": "fc3dc3e9-2604-45df-8401-cae3f67d4e83",
        "colab": {
          "base_uri": "https://localhost:8080/",
          "height": 85
        }
      },
      "source": [
        "## As there are no definite answers on how to impute missing Values in Children column\n",
        "## I am gonna go with the Mode.\n",
        "\n",
        "train['Children'].fillna(2,inplace=True)\n",
        "train['Children'].value_counts()"
      ],
      "execution_count": 121,
      "outputs": [
        {
          "output_type": "execute_result",
          "data": {
            "text/plain": [
              "2.0    4140\n",
              "1.0    3398\n",
              "0.0    3176\n",
              "Name: Children, dtype: int64"
            ]
          },
          "metadata": {
            "tags": []
          },
          "execution_count": 121
        }
      ]
    },
    {
      "cell_type": "code",
      "metadata": {
        "id": "lbWZiTqY90Np",
        "colab_type": "code",
        "outputId": "2b39b405-b99f-4851-adf1-e06cd3ed2c0a",
        "colab": {
          "base_uri": "https://localhost:8080/",
          "height": 119
        }
      },
      "source": [
        "print(\"Missing Values in Mode_Transport Column:\",train['Mode_transport'].isnull().sum())\n",
        "print()\n",
        "train['Mode_transport'].value_counts()"
      ],
      "execution_count": 122,
      "outputs": [
        {
          "output_type": "stream",
          "text": [
            "Missing Values in Mode_Transport Column: 3\n",
            "\n"
          ],
          "name": "stdout"
        },
        {
          "output_type": "execute_result",
          "data": {
            "text/plain": [
              "Public    3588\n",
              "Walk      3568\n",
              "Car       3555\n",
              "Name: Mode_transport, dtype: int64"
            ]
          },
          "metadata": {
            "tags": []
          },
          "execution_count": 122
        }
      ]
    },
    {
      "cell_type": "code",
      "metadata": {
        "id": "te082sCh-nAg",
        "colab_type": "code",
        "outputId": "09ed31cb-e4bb-4543-c9c7-fa9c93c05706",
        "colab": {
          "base_uri": "https://localhost:8080/",
          "height": 85
        }
      },
      "source": [
        "## As the missing values are only three will go with mode again.\n",
        "\n",
        "train['Mode_transport'].fillna('Public',inplace=True)\n",
        "train['Mode_transport'].value_counts()"
      ],
      "execution_count": 123,
      "outputs": [
        {
          "output_type": "execute_result",
          "data": {
            "text/plain": [
              "Public    3591\n",
              "Walk      3568\n",
              "Car       3555\n",
              "Name: Mode_transport, dtype: int64"
            ]
          },
          "metadata": {
            "tags": []
          },
          "execution_count": 123
        }
      ]
    },
    {
      "cell_type": "markdown",
      "metadata": {
        "id": "L-_7iotXAf8U",
        "colab_type": "text"
      },
      "source": [
        "**OCCUPATION**\n",
        "\n",
        "- Missing Value = 747\n",
        "- Categories    =  9"
      ]
    },
    {
      "cell_type": "code",
      "metadata": {
        "id": "G0kzdc2jAU5C",
        "colab_type": "code",
        "outputId": "dad2eb95-d334-4bef-d0f9-b0fe0cb16640",
        "colab": {
          "base_uri": "https://localhost:8080/",
          "height": 514
        }
      },
      "source": [
        "dims=(12,8)\n",
        "fig,ax = plt.subplots(figsize=dims)\n",
        "sns.countplot(x='Occupation',hue='Gender',data=train,ax=ax)\n"
      ],
      "execution_count": 124,
      "outputs": [
        {
          "output_type": "execute_result",
          "data": {
            "text/plain": [
              "<matplotlib.axes._subplots.AxesSubplot at 0x7fb2f3a1d4e0>"
            ]
          },
          "metadata": {
            "tags": []
          },
          "execution_count": 124
        },
        {
          "output_type": "display_data",
          "data": {
            "image/png": "[encoded data removed]",
            "text/plain": [
              "<Figure size 864x576 with 1 Axes>"
            ]
          },
          "metadata": {
            "tags": []
          }
        }
      ]
    },
    {
      "cell_type": "code",
      "metadata": {
        "id": "I8A8KjrGBvtx",
        "colab_type": "code",
        "outputId": "e908257f-1496-453d-81a2-5b0b7c000092",
        "colab": {
          "base_uri": "https://localhost:8080/",
          "height": 514
        }
      },
      "source": [
        "dims=(12,8)\n",
        "fig,ax = plt.subplots(figsize=dims)\n",
        "sns.barplot(x='Occupation',y='Infect_Prob',data=train,ax=ax)\n"
      ],
      "execution_count": 125,
      "outputs": [
        {
          "output_type": "execute_result",
          "data": {
            "text/plain": [
              "<matplotlib.axes._subplots.AxesSubplot at 0x7fb2f35a8898>"
            ]
          },
          "metadata": {
            "tags": []
          },
          "execution_count": 125
        },
        {
          "output_type": "display_data",
          "data": {
            "image/png": "[encoded data removed]",
            "text/plain": [
              "<Figure size 864x576 with 1 Axes>"
            ]
          },
          "metadata": {
            "tags": []
          }
        }
      ]
    },
    {
      "cell_type": "code",
      "metadata": {
        "id": "rRdUzsMHCZXo",
        "colab_type": "code",
        "outputId": "63c3bc4f-fafe-4872-dfdc-1eb9c44ecb46",
        "colab": {
          "base_uri": "https://localhost:8080/",
          "height": 334
        }
      },
      "source": [
        "train.describe()"
      ],
      "execution_count": 126,
      "outputs": [
        {
          "output_type": "execute_result",
          "data": {
            "text/html": [
              "<div>\n",
              "<style scoped>\n",
              "    .dataframe tbody tr th:only-of-type {\n",
              "        vertical-align: middle;\n",
              "    }\n",
              "\n",
              "    .dataframe tbody tr th {\n",
              "        vertical-align: top;\n",
              "    }\n",
              "\n",
              "    .dataframe thead th {\n",
              "        text-align: right;\n",
              "    }\n",
              "</style>\n",
              "<table border=\"1\" class=\"dataframe\">\n",
              "  <thead>\n",
              "    <tr style=\"text-align: right;\">\n",
              "      <th></th>\n",
              "      <th>people_ID</th>\n",
              "      <th>Children</th>\n",
              "      <th>cases/1M</th>\n",
              "      <th>Deaths/1M</th>\n",
              "      <th>Age</th>\n",
              "      <th>Coma score</th>\n",
              "      <th>Diuresis</th>\n",
              "      <th>Platelets</th>\n",
              "      <th>HBB</th>\n",
              "      <th>d-dimer</th>\n",
              "      <th>Heart rate</th>\n",
              "      <th>HDL cholesterol</th>\n",
              "      <th>Charlson Index</th>\n",
              "      <th>Blood Glucose</th>\n",
              "      <th>Insurance</th>\n",
              "      <th>salary</th>\n",
              "      <th>FT/month</th>\n",
              "      <th>Infect_Prob</th>\n",
              "    </tr>\n",
              "  </thead>\n",
              "  <tbody>\n",
              "    <tr>\n",
              "      <th>count</th>\n",
              "      <td>10714.000000</td>\n",
              "      <td>10714.000000</td>\n",
              "      <td>10714.000000</td>\n",
              "      <td>10714.000000</td>\n",
              "      <td>10714.000000</td>\n",
              "      <td>10714.000000</td>\n",
              "      <td>9998.000000</td>\n",
              "      <td>9790.000000</td>\n",
              "      <td>10698.000000</td>\n",
              "      <td>9600.000000</td>\n",
              "      <td>9600.000000</td>\n",
              "      <td>10679.000000</td>\n",
              "      <td>10714.000000</td>\n",
              "      <td>10714.000000</td>\n",
              "      <td>9.624000e+03</td>\n",
              "      <td>1.071400e+04</td>\n",
              "      <td>9991.000000</td>\n",
              "      <td>10714.000000</td>\n",
              "    </tr>\n",
              "    <tr>\n",
              "      <th>mean</th>\n",
              "      <td>10084.893784</td>\n",
              "      <td>1.089976</td>\n",
              "      <td>3.285888</td>\n",
              "      <td>0.523241</td>\n",
              "      <td>42.083722</td>\n",
              "      <td>9.013067</td>\n",
              "      <td>278.806261</td>\n",
              "      <td>87.795812</td>\n",
              "      <td>116.170967</td>\n",
              "      <td>275.292292</td>\n",
              "      <td>74.847396</td>\n",
              "      <td>52.632737</td>\n",
              "      <td>20.028094</td>\n",
              "      <td>5.015027</td>\n",
              "      <td>2.644919e+06</td>\n",
              "      <td>1.304713e+06</td>\n",
              "      <td>1.004604</td>\n",
              "      <td>52.280680</td>\n",
              "    </tr>\n",
              "    <tr>\n",
              "      <th>std</th>\n",
              "      <td>7108.663645</td>\n",
              "      <td>0.821470</td>\n",
              "      <td>2.721274</td>\n",
              "      <td>0.854303</td>\n",
              "      <td>15.323397</td>\n",
              "      <td>3.714970</td>\n",
              "      <td>97.985526</td>\n",
              "      <td>41.851103</td>\n",
              "      <td>55.178811</td>\n",
              "      <td>43.669692</td>\n",
              "      <td>14.869104</td>\n",
              "      <td>10.434293</td>\n",
              "      <td>11.828445</td>\n",
              "      <td>1.399770</td>\n",
              "      <td>1.383346e+06</td>\n",
              "      <td>6.075947e+05</td>\n",
              "      <td>0.815257</td>\n",
              "      <td>10.674667</td>\n",
              "    </tr>\n",
              "    <tr>\n",
              "      <th>min</th>\n",
              "      <td>1.000000</td>\n",
              "      <td>0.000000</td>\n",
              "      <td>1.000000</td>\n",
              "      <td>0.000000</td>\n",
              "      <td>16.000000</td>\n",
              "      <td>3.000000</td>\n",
              "      <td>110.000000</td>\n",
              "      <td>15.000000</td>\n",
              "      <td>20.000000</td>\n",
              "      <td>200.000000</td>\n",
              "      <td>50.000000</td>\n",
              "      <td>35.000000</td>\n",
              "      <td>0.000000</td>\n",
              "      <td>3.000000</td>\n",
              "      <td>3.000000e+05</td>\n",
              "      <td>3.000000e+05</td>\n",
              "      <td>0.000000</td>\n",
              "      <td>29.289600</td>\n",
              "    </tr>\n",
              "    <tr>\n",
              "      <th>25%</th>\n",
              "      <td>2679.250000</td>\n",
              "      <td>0.000000</td>\n",
              "      <td>2.000000</td>\n",
              "      <td>0.000000</td>\n",
              "      <td>29.000000</td>\n",
              "      <td>6.000000</td>\n",
              "      <td>194.000000</td>\n",
              "      <td>52.000000</td>\n",
              "      <td>68.000000</td>\n",
              "      <td>237.000000</td>\n",
              "      <td>62.000000</td>\n",
              "      <td>44.000000</td>\n",
              "      <td>10.000000</td>\n",
              "      <td>4.000000</td>\n",
              "      <td>1.400000e+06</td>\n",
              "      <td>8.000000e+05</td>\n",
              "      <td>0.000000</td>\n",
              "      <td>47.277426</td>\n",
              "    </tr>\n",
              "    <tr>\n",
              "      <th>50%</th>\n",
              "      <td>10003.500000</td>\n",
              "      <td>1.000000</td>\n",
              "      <td>2.000000</td>\n",
              "      <td>0.000000</td>\n",
              "      <td>42.000000</td>\n",
              "      <td>9.000000</td>\n",
              "      <td>276.000000</td>\n",
              "      <td>88.000000</td>\n",
              "      <td>117.000000</td>\n",
              "      <td>276.000000</td>\n",
              "      <td>75.000000</td>\n",
              "      <td>53.000000</td>\n",
              "      <td>20.000000</td>\n",
              "      <td>5.000000</td>\n",
              "      <td>2.600000e+06</td>\n",
              "      <td>1.300000e+06</td>\n",
              "      <td>1.000000</td>\n",
              "      <td>49.008389</td>\n",
              "    </tr>\n",
              "    <tr>\n",
              "      <th>75%</th>\n",
              "      <td>15141.750000</td>\n",
              "      <td>2.000000</td>\n",
              "      <td>4.000000</td>\n",
              "      <td>1.000000</td>\n",
              "      <td>55.000000</td>\n",
              "      <td>12.000000</td>\n",
              "      <td>364.000000</td>\n",
              "      <td>124.000000</td>\n",
              "      <td>165.000000</td>\n",
              "      <td>313.000000</td>\n",
              "      <td>88.000000</td>\n",
              "      <td>62.000000</td>\n",
              "      <td>30.000000</td>\n",
              "      <td>6.000000</td>\n",
              "      <td>3.800000e+06</td>\n",
              "      <td>1.800000e+06</td>\n",
              "      <td>2.000000</td>\n",
              "      <td>52.762313</td>\n",
              "    </tr>\n",
              "    <tr>\n",
              "      <th>max</th>\n",
              "      <td>22695.000000</td>\n",
              "      <td>2.000000</td>\n",
              "      <td>8.000000</td>\n",
              "      <td>2.000000</td>\n",
              "      <td>68.000000</td>\n",
              "      <td>15.000000</td>\n",
              "      <td>450.000000</td>\n",
              "      <td>160.000000</td>\n",
              "      <td>210.000000</td>\n",
              "      <td>350.000000</td>\n",
              "      <td>100.000000</td>\n",
              "      <td>70.000000</td>\n",
              "      <td>40.000000</td>\n",
              "      <td>7.000000</td>\n",
              "      <td>5.000000e+06</td>\n",
              "      <td>2.300000e+06</td>\n",
              "      <td>2.000000</td>\n",
              "      <td>97.632000</td>\n",
              "    </tr>\n",
              "  </tbody>\n",
              "</table>\n",
              "</div>"
            ],
            "text/plain": [
              "          people_ID      Children  ...     FT/month   Infect_Prob\n",
              "count  10714.000000  10714.000000  ...  9991.000000  10714.000000\n",
              "mean   10084.893784      1.089976  ...     1.004604     52.280680\n",
              "std     7108.663645      0.821470  ...     0.815257     10.674667\n",
              "min        1.000000      0.000000  ...     0.000000     29.289600\n",
              "25%     2679.250000      0.000000  ...     0.000000     47.277426\n",
              "50%    10003.500000      1.000000  ...     1.000000     49.008389\n",
              "75%    15141.750000      2.000000  ...     2.000000     52.762313\n",
              "max    22695.000000      2.000000  ...     2.000000     97.632000\n",
              "\n",
              "[8 rows x 18 columns]"
            ]
          },
          "metadata": {
            "tags": []
          },
          "execution_count": 126
        }
      ]
    },
    {
      "cell_type": "code",
      "metadata": {
        "id": "nx9vS4TkCoj9",
        "colab_type": "code",
        "outputId": "2c142dcb-71f0-4c47-d9aa-6c3c74c7cf6e",
        "colab": {
          "base_uri": "https://localhost:8080/",
          "height": 514
        }
      },
      "source": [
        "plt.figure(figsize=(12,8))\n",
        "sns.boxplot(x='Occupation',y='Age',data=train)"
      ],
      "execution_count": 127,
      "outputs": [
        {
          "output_type": "execute_result",
          "data": {
            "text/plain": [
              "<matplotlib.axes._subplots.AxesSubplot at 0x7fb2f3595978>"
            ]
          },
          "metadata": {
            "tags": []
          },
          "execution_count": 127
        },
        {
          "output_type": "display_data",
          "data": {
            "image/png": "[encoded data removed]",
            "text/plain": [
              "<Figure size 864x576 with 1 Axes>"
            ]
          },
          "metadata": {
            "tags": []
          }
        }
      ]
    },
    {
      "cell_type": "markdown",
      "metadata": {
        "id": "CfQFNw5qV6ly",
        "colab_type": "text"
      },
      "source": [
        "**Comorbidity**\n",
        "\n",
        "- Missing Values = 226\n",
        "\n",
        "- Classes  = 4"
      ]
    },
    {
      "cell_type": "code",
      "metadata": {
        "id": "d83v9n4RD879",
        "colab_type": "code",
        "outputId": "5246395f-ad17-4a23-966a-37dbb760d8bd",
        "colab": {
          "base_uri": "https://localhost:8080/",
          "height": 102
        }
      },
      "source": [
        "train['comorbidity'].value_counts()"
      ],
      "execution_count": 128,
      "outputs": [
        {
          "output_type": "execute_result",
          "data": {
            "text/plain": [
              "Hypertension              2642\n",
              "None                      2637\n",
              "Diabetes                  2614\n",
              "Coronary Heart Disease    2595\n",
              "Name: comorbidity, dtype: int64"
            ]
          },
          "metadata": {
            "tags": []
          },
          "execution_count": 128
        }
      ]
    },
    {
      "cell_type": "code",
      "metadata": {
        "id": "NHfNePnmGA-b",
        "colab_type": "code",
        "outputId": "f643e942-198e-4024-f053-a79450506f56",
        "colab": {
          "base_uri": "https://localhost:8080/",
          "height": 298
        }
      },
      "source": [
        "sns.boxplot(x='comorbidity',y='Age',data=train,palette='rainbow')"
      ],
      "execution_count": 129,
      "outputs": [
        {
          "output_type": "execute_result",
          "data": {
            "text/plain": [
              "<matplotlib.axes._subplots.AxesSubplot at 0x7fb2f3053ac8>"
            ]
          },
          "metadata": {
            "tags": []
          },
          "execution_count": 129
        },
        {
          "output_type": "display_data",
          "data": {
            "image/png": "[encoded data removed]",
            "text/plain": [
              "<Figure size 432x288 with 1 Axes>"
            ]
          },
          "metadata": {
            "tags": []
          }
        }
      ]
    },
    {
      "cell_type": "code",
      "metadata": {
        "id": "vl_qTZIZGUmD",
        "colab_type": "code",
        "outputId": "0bcdcd6c-3893-430d-eafa-3311abdb59b8",
        "colab": {
          "base_uri": "https://localhost:8080/",
          "height": 119
        }
      },
      "source": [
        "train['Region'].value_counts()"
      ],
      "execution_count": 130,
      "outputs": [
        {
          "output_type": "execute_result",
          "data": {
            "text/plain": [
              "Chennai         2581\n",
              "Bengaluru       2573\n",
              "Chandigarh      2563\n",
              "Bhubaneshwar    2537\n",
              "Delhi            460\n",
              "Name: Region, dtype: int64"
            ]
          },
          "metadata": {
            "tags": []
          },
          "execution_count": 130
        }
      ]
    },
    {
      "cell_type": "code",
      "metadata": {
        "id": "qQ7AC0LFJrTs",
        "colab_type": "code",
        "outputId": "4f82ced8-41d8-45ec-9448-fbcaa7c49be7",
        "colab": {
          "base_uri": "https://localhost:8080/",
          "height": 514
        }
      },
      "source": [
        "plt.figure(figsize=(12,8))\n",
        "sns.countplot(x='comorbidity',hue='Region',data=train)"
      ],
      "execution_count": 131,
      "outputs": [
        {
          "output_type": "execute_result",
          "data": {
            "text/plain": [
              "<matplotlib.axes._subplots.AxesSubplot at 0x7fb2f2f7a160>"
            ]
          },
          "metadata": {
            "tags": []
          },
          "execution_count": 131
        },
        {
          "output_type": "display_data",
          "data": {
            "image/png": "[encoded data removed]",
            "text/plain": [
              "<Figure size 864x576 with 1 Axes>"
            ]
          },
          "metadata": {
            "tags": []
          }
        }
      ]
    },
    {
      "cell_type": "code",
      "metadata": {
        "id": "lD_TtQFPmJdV",
        "colab_type": "code",
        "colab": {}
      },
      "source": [
        ""
      ],
      "execution_count": 0,
      "outputs": []
    },
    {
      "cell_type": "markdown",
      "metadata": {
        "id": "K2UZLi3SmKKu",
        "colab_type": "text"
      },
      "source": [
        "- As there is no other feature that provide comorbidity, i will use Region for filling the missing values.\n",
        "- People belonging to Bhubaneshwar will be given value Diabetes.\n",
        "- Else: all will be given Chandigarh"
      ]
    },
    {
      "cell_type": "code",
      "metadata": {
        "id": "K__1M2h8nhTr",
        "colab_type": "code",
        "colab": {}
      },
      "source": [
        "def impute_comorbidity(cols):\n",
        "    comorbidity = cols[0]\n",
        "    Region = cols[1]\n",
        "    \n",
        "    if pd.isnull(comorbidity):\n",
        "\n",
        "        if Region == \"Bhubaneshwar\" or \"Chennai\":\n",
        "            return \"Diabetes\"\n",
        "\n",
        "        elif Region == \"Bangalore\":\n",
        "            return \"Coronary Heart Disease\"\n",
        "\n",
        "        elif Region == \"Chandigarh\":\n",
        "            return \"Hypertension\"      \n",
        "        \n",
        "        else:\n",
        "            return \"None\"\n",
        "\n",
        "    else:\n",
        "        return comorbidity"
      ],
      "execution_count": 0,
      "outputs": []
    },
    {
      "cell_type": "code",
      "metadata": {
        "id": "NFJu_6xWqkxI",
        "colab_type": "code",
        "colab": {}
      },
      "source": [
        "train['comorbidity'] = train[['comorbidity','Region']].apply(impute_comorbidity,axis=1)"
      ],
      "execution_count": 0,
      "outputs": []
    },
    {
      "cell_type": "code",
      "metadata": {
        "id": "TnlWt7DtrvR3",
        "colab_type": "code",
        "outputId": "4ac94039-0c8d-4e94-bede-e4860e31b5a0",
        "colab": {
          "base_uri": "https://localhost:8080/",
          "height": 136
        }
      },
      "source": [
        "train.columns"
      ],
      "execution_count": 134,
      "outputs": [
        {
          "output_type": "execute_result",
          "data": {
            "text/plain": [
              "Index(['people_ID', 'Region', 'Gender', 'Designation', 'Name', 'Married',\n",
              "       'Children', 'Occupation', 'Mode_transport', 'cases/1M', 'Deaths/1M',\n",
              "       'comorbidity', 'Age', 'Coma score', 'Pulmonary score',\n",
              "       'cardiological pressure', 'Diuresis', 'Platelets', 'HBB', 'd-dimer',\n",
              "       'Heart rate', 'HDL cholesterol', 'Charlson Index', 'Blood Glucose',\n",
              "       'Insurance', 'salary', 'FT/month', 'Infect_Prob'],\n",
              "      dtype='object')"
            ]
          },
          "metadata": {
            "tags": []
          },
          "execution_count": 134
        }
      ]
    },
    {
      "cell_type": "code",
      "metadata": {
        "id": "ecFZQkz3t1SB",
        "colab_type": "code",
        "colab": {}
      },
      "source": [
        ""
      ],
      "execution_count": 0,
      "outputs": []
    },
    {
      "cell_type": "code",
      "metadata": {
        "id": "UhB-3rf8rwNP",
        "colab_type": "code",
        "outputId": "f3103e32-0222-4f80-9070-99c73d8d8282",
        "colab": {
          "base_uri": "https://localhost:8080/",
          "height": 514
        }
      },
      "source": [
        "plt.figure(figsize=(12,8))\n",
        "sns.countplot(x='Occupation',hue='Mode_transport',data=train,palette='winter')"
      ],
      "execution_count": 135,
      "outputs": [
        {
          "output_type": "execute_result",
          "data": {
            "text/plain": [
              "<matplotlib.axes._subplots.AxesSubplot at 0x7fb2f2cd4160>"
            ]
          },
          "metadata": {
            "tags": []
          },
          "execution_count": 135
        },
        {
          "output_type": "display_data",
          "data": {
            "image/png": "[encoded data removed]",
            "text/plain": [
              "<Figure size 864x576 with 1 Axes>"
            ]
          },
          "metadata": {
            "tags": []
          }
        }
      ]
    },
    {
      "cell_type": "code",
      "metadata": {
        "id": "P8xfAOiKvOZm",
        "colab_type": "code",
        "outputId": "e00a2404-b653-4f30-da15-40d783325ab6",
        "colab": {
          "base_uri": "https://localhost:8080/",
          "height": 518
        }
      },
      "source": [
        "plt.figure(figsize=(12,8))\n",
        "sns.countplot(x='Occupation',hue='FT/month',data=train,palette='winter')"
      ],
      "execution_count": 136,
      "outputs": [
        {
          "output_type": "execute_result",
          "data": {
            "text/plain": [
              "<matplotlib.axes._subplots.AxesSubplot at 0x7fb2f2f7a198>"
            ]
          },
          "metadata": {
            "tags": []
          },
          "execution_count": 136
        },
        {
          "output_type": "display_data",
          "data": {
            "image/png": "[encoded data removed]",
            "text/plain": [
              "<Figure size 864x576 with 1 Axes>"
            ]
          },
          "metadata": {
            "tags": []
          }
        }
      ]
    },
    {
      "cell_type": "markdown",
      "metadata": {
        "id": "CQl2njbh91Xa",
        "colab_type": "text"
      },
      "source": [
        "**Diuresis Column**\n",
        "\n",
        "- Missing Values = 716\n",
        "- Mean = 276.00"
      ]
    },
    {
      "cell_type": "code",
      "metadata": {
        "id": "m2MC2-2cvqFU",
        "colab_type": "code",
        "outputId": "611d4044-46a4-4091-9ad0-2e90fe700f3a",
        "colab": {
          "base_uri": "https://localhost:8080/",
          "height": 296
        }
      },
      "source": [
        "sns.boxplot(x='Diuresis',data=train)"
      ],
      "execution_count": 137,
      "outputs": [
        {
          "output_type": "execute_result",
          "data": {
            "text/plain": [
              "<matplotlib.axes._subplots.AxesSubplot at 0x7fb2f2e42a90>"
            ]
          },
          "metadata": {
            "tags": []
          },
          "execution_count": 137
        },
        {
          "output_type": "display_data",
          "data": {
            "image/png": "[encoded data removed]",
            "text/plain": [
              "<Figure size 432x288 with 1 Axes>"
            ]
          },
          "metadata": {
            "tags": []
          }
        }
      ]
    },
    {
      "cell_type": "code",
      "metadata": {
        "id": "H_NsNa7o6YMP",
        "colab_type": "code",
        "outputId": "641be772-50d8-4843-9cdd-79d4422378ad",
        "colab": {
          "base_uri": "https://localhost:8080/",
          "height": 285
        }
      },
      "source": [
        "temp=train['Diuresis'].head(500)\n",
        "temp.hist(bins=30,color='darkred',alpha=0.3)\n"
      ],
      "execution_count": 138,
      "outputs": [
        {
          "output_type": "execute_result",
          "data": {
            "text/plain": [
              "<matplotlib.axes._subplots.AxesSubplot at 0x7fb2f2d3da58>"
            ]
          },
          "metadata": {
            "tags": []
          },
          "execution_count": 138
        },
        {
          "output_type": "display_data",
          "data": {
            "image/png": "[encoded data removed]",
            "text/plain": [
              "<Figure size 432x288 with 1 Axes>"
            ]
          },
          "metadata": {
            "tags": []
          }
        }
      ]
    },
    {
      "cell_type": "markdown",
      "metadata": {
        "id": "xX5Wgcdq9GOs",
        "colab_type": "text"
      },
      "source": [
        "- Diuresis is somehow normally distributed.\n",
        "- Let's fill the missing values with mean.\n",
        " "
      ]
    },
    {
      "cell_type": "markdown",
      "metadata": {
        "id": "jHOcHyTB-h1c",
        "colab_type": "text"
      },
      "source": [
        "**Platelets**\n",
        "\n",
        "- Missing Value = 924\n"
      ]
    },
    {
      "cell_type": "code",
      "metadata": {
        "id": "-_dFfPOH-1Kl",
        "colab_type": "code",
        "outputId": "69ca2756-2ba4-48be-c88c-d34d566a65fe",
        "colab": {
          "base_uri": "https://localhost:8080/",
          "height": 170
        }
      },
      "source": [
        "train['Platelets'].describe()"
      ],
      "execution_count": 139,
      "outputs": [
        {
          "output_type": "execute_result",
          "data": {
            "text/plain": [
              "count    9790.000000\n",
              "mean       87.795812\n",
              "std        41.851103\n",
              "min        15.000000\n",
              "25%        52.000000\n",
              "50%        88.000000\n",
              "75%       124.000000\n",
              "max       160.000000\n",
              "Name: Platelets, dtype: float64"
            ]
          },
          "metadata": {
            "tags": []
          },
          "execution_count": 139
        }
      ]
    },
    {
      "cell_type": "code",
      "metadata": {
        "id": "Xsfc4AkI-1Zx",
        "colab_type": "code",
        "outputId": "024f2294-46de-476b-9645-a2025258b8f0",
        "colab": {
          "base_uri": "https://localhost:8080/",
          "height": 500
        }
      },
      "source": [
        "train['Platelets'].hist(bins=40,color='green',alpha=0.3,figsize=(12,8))"
      ],
      "execution_count": 140,
      "outputs": [
        {
          "output_type": "execute_result",
          "data": {
            "text/plain": [
              "<matplotlib.axes._subplots.AxesSubplot at 0x7fb2f2bb2b00>"
            ]
          },
          "metadata": {
            "tags": []
          },
          "execution_count": 140
        },
        {
          "output_type": "display_data",
          "data": {
            "image/png": "[encoded data removed]",
            "text/plain": [
              "<Figure size 864x576 with 1 Axes>"
            ]
          },
          "metadata": {
            "tags": []
          }
        }
      ]
    },
    {
      "cell_type": "markdown",
      "metadata": {
        "id": "kuMSkx4C_wsD",
        "colab_type": "text"
      },
      "source": [
        "- Distribution is quite Uniform so we can fill the missing values by mean."
      ]
    },
    {
      "cell_type": "markdown",
      "metadata": {
        "id": "XhUu-hELBCjd",
        "colab_type": "text"
      },
      "source": [
        "**HBB Column**\n",
        "\n",
        "- Missing Value = 16"
      ]
    },
    {
      "cell_type": "code",
      "metadata": {
        "id": "1n_eCzdiBJq2",
        "colab_type": "code",
        "outputId": "c2a8bb88-52b5-41d3-ed72-7e0c4304eb46",
        "colab": {
          "base_uri": "https://localhost:8080/",
          "height": 170
        }
      },
      "source": [
        "train['HBB'].describe()"
      ],
      "execution_count": 141,
      "outputs": [
        {
          "output_type": "execute_result",
          "data": {
            "text/plain": [
              "count    10698.000000\n",
              "mean       116.170967\n",
              "std         55.178811\n",
              "min         20.000000\n",
              "25%         68.000000\n",
              "50%        117.000000\n",
              "75%        165.000000\n",
              "max        210.000000\n",
              "Name: HBB, dtype: float64"
            ]
          },
          "metadata": {
            "tags": []
          },
          "execution_count": 141
        }
      ]
    },
    {
      "cell_type": "code",
      "metadata": {
        "id": "vnVlUBDXBJ3S",
        "colab_type": "code",
        "outputId": "705c132f-e626-40be-ccb3-6d583a2f9ba6",
        "colab": {
          "base_uri": "https://localhost:8080/",
          "height": 296
        }
      },
      "source": [
        "sns.boxplot(x='HBB',data=train)"
      ],
      "execution_count": 142,
      "outputs": [
        {
          "output_type": "execute_result",
          "data": {
            "text/plain": [
              "<matplotlib.axes._subplots.AxesSubplot at 0x7fb2f2c0fc18>"
            ]
          },
          "metadata": {
            "tags": []
          },
          "execution_count": 142
        },
        {
          "output_type": "display_data",
          "data": {
            "image/png": "[encoded data removed]",
            "text/plain": [
              "<Figure size 432x288 with 1 Axes>"
            ]
          },
          "metadata": {
            "tags": []
          }
        }
      ]
    },
    {
      "cell_type": "code",
      "metadata": {
        "id": "7gl1RlwBBKE_",
        "colab_type": "code",
        "outputId": "63fb7d05-52bf-44ef-dc51-d8d2097baa71",
        "colab": {
          "base_uri": "https://localhost:8080/",
          "height": 500
        }
      },
      "source": [
        "train['HBB'].hist(bins=40,color='violet',figsize=(12,8))"
      ],
      "execution_count": 143,
      "outputs": [
        {
          "output_type": "execute_result",
          "data": {
            "text/plain": [
              "<matplotlib.axes._subplots.AxesSubplot at 0x7fb2f2a85fd0>"
            ]
          },
          "metadata": {
            "tags": []
          },
          "execution_count": 143
        },
        {
          "output_type": "display_data",
          "data": {
            "image/png": "[encoded data removed]",
            "text/plain": [
              "<Figure size 864x576 with 1 Axes>"
            ]
          },
          "metadata": {
            "tags": []
          }
        }
      ]
    },
    {
      "cell_type": "code",
      "metadata": {
        "id": "xKhcWE1FEyVz",
        "colab_type": "code",
        "outputId": "f5330063-92e5-483d-cb86-9a1696b82f50",
        "colab": {
          "base_uri": "https://localhost:8080/",
          "height": 510
        }
      },
      "source": [
        "train.dtypes"
      ],
      "execution_count": 144,
      "outputs": [
        {
          "output_type": "execute_result",
          "data": {
            "text/plain": [
              "people_ID                   int64\n",
              "Region                     object\n",
              "Gender                     object\n",
              "Designation                object\n",
              "Name                       object\n",
              "Married                    object\n",
              "Children                  float64\n",
              "Occupation                 object\n",
              "Mode_transport             object\n",
              "cases/1M                    int64\n",
              "Deaths/1M                   int64\n",
              "comorbidity                object\n",
              "Age                         int64\n",
              "Coma score                  int64\n",
              "Pulmonary score            object\n",
              "cardiological pressure     object\n",
              "Diuresis                  float64\n",
              "Platelets                 float64\n",
              "HBB                       float64\n",
              "d-dimer                   float64\n",
              "Heart rate                float64\n",
              "HDL cholesterol           float64\n",
              "Charlson Index              int64\n",
              "Blood Glucose               int64\n",
              "Insurance                 float64\n",
              "salary                      int64\n",
              "FT/month                  float64\n",
              "Infect_Prob               float64\n",
              "dtype: object"
            ]
          },
          "metadata": {
            "tags": []
          },
          "execution_count": 144
        }
      ]
    },
    {
      "cell_type": "code",
      "metadata": {
        "id": "NKjtg10P64zO",
        "colab_type": "code",
        "outputId": "bbaec97b-b24d-48d9-fa0c-e487c1ff55fd",
        "colab": {
          "base_uri": "https://localhost:8080/",
          "height": 514
        }
      },
      "source": [
        "plt.figure(figsize=(8,8))\n",
        "sns.countplot(x='cardiological pressure',hue='comorbidity',data=train,palette='RdBu_r')"
      ],
      "execution_count": 145,
      "outputs": [
        {
          "output_type": "execute_result",
          "data": {
            "text/plain": [
              "<matplotlib.axes._subplots.AxesSubplot at 0x7fb2f29919e8>"
            ]
          },
          "metadata": {
            "tags": []
          },
          "execution_count": 145
        },
        {
          "output_type": "display_data",
          "data": {
            "image/png": "[encoded data removed]",
            "text/plain": [
              "<Figure size 576x576 with 1 Axes>"
            ]
          },
          "metadata": {
            "tags": []
          }
        }
      ]
    },
    {
      "cell_type": "code",
      "metadata": {
        "id": "sh0w3eW9NGqf",
        "colab_type": "code",
        "outputId": "144b2d91-a2e0-4b30-ec7b-2fbb4c356b22",
        "colab": {
          "base_uri": "https://localhost:8080/",
          "height": 136
        }
      },
      "source": [
        "train.columns"
      ],
      "execution_count": 146,
      "outputs": [
        {
          "output_type": "execute_result",
          "data": {
            "text/plain": [
              "Index(['people_ID', 'Region', 'Gender', 'Designation', 'Name', 'Married',\n",
              "       'Children', 'Occupation', 'Mode_transport', 'cases/1M', 'Deaths/1M',\n",
              "       'comorbidity', 'Age', 'Coma score', 'Pulmonary score',\n",
              "       'cardiological pressure', 'Diuresis', 'Platelets', 'HBB', 'd-dimer',\n",
              "       'Heart rate', 'HDL cholesterol', 'Charlson Index', 'Blood Glucose',\n",
              "       'Insurance', 'salary', 'FT/month', 'Infect_Prob'],\n",
              "      dtype='object')"
            ]
          },
          "metadata": {
            "tags": []
          },
          "execution_count": 146
        }
      ]
    },
    {
      "cell_type": "code",
      "metadata": {
        "id": "0U6_RHH3wflt",
        "colab_type": "code",
        "colab": {}
      },
      "source": [
        "# ## FILLED WITH MEAN\n",
        "train['HBB'].fillna(117.000000,inplace=True)\n",
        "train['Platelets'].fillna(88.000000,inplace=True)\n",
        "train['Diuresis'].fillna(276.0000,inplace=True)\n",
        "train['d-dimer'].fillna(276.000000,inplace=True)\n",
        "train['Heart rate'].fillna(75.000000,inplace=True)\n",
        "train['HDL cholesterol'].fillna(53.0000000,inplace=True)\n",
        "train['Insurance'].fillna(2.600000e+06,inplace=True)\n",
        "\n",
        "# train.fillna(train.mean,inplace=True)\n",
        "\n",
        "## MEAN OF VARIOUS COLUMNS:\n",
        "\n",
        "# Diuresis: 276.000000\t\n",
        "# Platelets: 88.000000\n",
        "# HBB :\t117.000000\n",
        "# d-dimer :\t276.000000\n",
        "# Heart rate :\t75.000000\n",
        "# HDL cholestrol :\t53.000000\n",
        "# Insurance : 2.600000e+06\n",
        "\n",
        "\n",
        "## FILLED WITH MODE\n",
        "train['cardiological pressure'].fillna('Normal',inplace=True) \n",
        "train['FT/month'].fillna(2.0,inplace=True)\n",
        "train['Occupation'].fillna('Legal',inplace=True)\n",
        "\n",
        "\n"
      ],
      "execution_count": 0,
      "outputs": []
    },
    {
      "cell_type": "code",
      "metadata": {
        "id": "VgjXQVmlPchs",
        "colab_type": "code",
        "outputId": "76e835c7-a39c-4624-ec3f-c810a32c3687",
        "colab": {
          "base_uri": "https://localhost:8080/",
          "height": 309
        }
      },
      "source": [
        "train.head()"
      ],
      "execution_count": 148,
      "outputs": [
        {
          "output_type": "execute_result",
          "data": {
            "text/html": [
              "<div>\n",
              "<style scoped>\n",
              "    .dataframe tbody tr th:only-of-type {\n",
              "        vertical-align: middle;\n",
              "    }\n",
              "\n",
              "    .dataframe tbody tr th {\n",
              "        vertical-align: top;\n",
              "    }\n",
              "\n",
              "    .dataframe thead th {\n",
              "        text-align: right;\n",
              "    }\n",
              "</style>\n",
              "<table border=\"1\" class=\"dataframe\">\n",
              "  <thead>\n",
              "    <tr style=\"text-align: right;\">\n",
              "      <th></th>\n",
              "      <th>people_ID</th>\n",
              "      <th>Region</th>\n",
              "      <th>Gender</th>\n",
              "      <th>Designation</th>\n",
              "      <th>Name</th>\n",
              "      <th>Married</th>\n",
              "      <th>Children</th>\n",
              "      <th>Occupation</th>\n",
              "      <th>Mode_transport</th>\n",
              "      <th>cases/1M</th>\n",
              "      <th>Deaths/1M</th>\n",
              "      <th>comorbidity</th>\n",
              "      <th>Age</th>\n",
              "      <th>Coma score</th>\n",
              "      <th>Pulmonary score</th>\n",
              "      <th>cardiological pressure</th>\n",
              "      <th>Diuresis</th>\n",
              "      <th>Platelets</th>\n",
              "      <th>HBB</th>\n",
              "      <th>d-dimer</th>\n",
              "      <th>Heart rate</th>\n",
              "      <th>HDL cholesterol</th>\n",
              "      <th>Charlson Index</th>\n",
              "      <th>Blood Glucose</th>\n",
              "      <th>Insurance</th>\n",
              "      <th>salary</th>\n",
              "      <th>FT/month</th>\n",
              "      <th>Infect_Prob</th>\n",
              "    </tr>\n",
              "  </thead>\n",
              "  <tbody>\n",
              "    <tr>\n",
              "      <th>0</th>\n",
              "      <td>1</td>\n",
              "      <td>Bhubaneshwar</td>\n",
              "      <td>Female</td>\n",
              "      <td>Mrs</td>\n",
              "      <td>mansi</td>\n",
              "      <td>YES</td>\n",
              "      <td>1.0</td>\n",
              "      <td>Farmer</td>\n",
              "      <td>Public</td>\n",
              "      <td>2</td>\n",
              "      <td>0</td>\n",
              "      <td>Hypertension</td>\n",
              "      <td>68</td>\n",
              "      <td>8</td>\n",
              "      <td>&lt;400</td>\n",
              "      <td>Normal</td>\n",
              "      <td>441.0</td>\n",
              "      <td>154.0</td>\n",
              "      <td>93.0</td>\n",
              "      <td>233.0</td>\n",
              "      <td>82.0</td>\n",
              "      <td>58.0</td>\n",
              "      <td>27</td>\n",
              "      <td>7</td>\n",
              "      <td>3600000.0</td>\n",
              "      <td>1300000</td>\n",
              "      <td>2.0</td>\n",
              "      <td>49.135010</td>\n",
              "    </tr>\n",
              "    <tr>\n",
              "      <th>1</th>\n",
              "      <td>2</td>\n",
              "      <td>Bhubaneshwar</td>\n",
              "      <td>Female</td>\n",
              "      <td>Mrs</td>\n",
              "      <td>riya masi</td>\n",
              "      <td>YES</td>\n",
              "      <td>2.0</td>\n",
              "      <td>Farmer</td>\n",
              "      <td>Walk</td>\n",
              "      <td>2</td>\n",
              "      <td>0</td>\n",
              "      <td>Diabetes</td>\n",
              "      <td>64</td>\n",
              "      <td>15</td>\n",
              "      <td>&lt;100</td>\n",
              "      <td>Stage-02</td>\n",
              "      <td>276.0</td>\n",
              "      <td>121.0</td>\n",
              "      <td>56.0</td>\n",
              "      <td>328.0</td>\n",
              "      <td>89.0</td>\n",
              "      <td>68.0</td>\n",
              "      <td>5</td>\n",
              "      <td>6</td>\n",
              "      <td>1600000.0</td>\n",
              "      <td>400000</td>\n",
              "      <td>1.0</td>\n",
              "      <td>51.147880</td>\n",
              "    </tr>\n",
              "    <tr>\n",
              "      <th>2</th>\n",
              "      <td>3</td>\n",
              "      <td>Bhubaneshwar</td>\n",
              "      <td>Female</td>\n",
              "      <td>Mrs</td>\n",
              "      <td>sunita</td>\n",
              "      <td>NO</td>\n",
              "      <td>1.0</td>\n",
              "      <td>Cleaner</td>\n",
              "      <td>Public</td>\n",
              "      <td>2</td>\n",
              "      <td>0</td>\n",
              "      <td>None</td>\n",
              "      <td>19</td>\n",
              "      <td>13</td>\n",
              "      <td>&lt;300</td>\n",
              "      <td>Elevated</td>\n",
              "      <td>416.0</td>\n",
              "      <td>124.0</td>\n",
              "      <td>137.0</td>\n",
              "      <td>213.0</td>\n",
              "      <td>77.0</td>\n",
              "      <td>43.0</td>\n",
              "      <td>40</td>\n",
              "      <td>6</td>\n",
              "      <td>3400000.0</td>\n",
              "      <td>900000</td>\n",
              "      <td>1.0</td>\n",
              "      <td>73.224000</td>\n",
              "    </tr>\n",
              "    <tr>\n",
              "      <th>3</th>\n",
              "      <td>4</td>\n",
              "      <td>Bhubaneshwar</td>\n",
              "      <td>Female</td>\n",
              "      <td>Mrs</td>\n",
              "      <td>anjali @ babli</td>\n",
              "      <td>YES</td>\n",
              "      <td>1.0</td>\n",
              "      <td>Driver</td>\n",
              "      <td>Car</td>\n",
              "      <td>2</td>\n",
              "      <td>0</td>\n",
              "      <td>Coronary Heart Disease</td>\n",
              "      <td>33</td>\n",
              "      <td>9</td>\n",
              "      <td>&lt;200</td>\n",
              "      <td>Stage-01</td>\n",
              "      <td>410.0</td>\n",
              "      <td>98.0</td>\n",
              "      <td>167.0</td>\n",
              "      <td>275.0</td>\n",
              "      <td>64.0</td>\n",
              "      <td>60.0</td>\n",
              "      <td>27</td>\n",
              "      <td>7</td>\n",
              "      <td>700000.0</td>\n",
              "      <td>2300000</td>\n",
              "      <td>1.0</td>\n",
              "      <td>48.779225</td>\n",
              "    </tr>\n",
              "    <tr>\n",
              "      <th>4</th>\n",
              "      <td>5</td>\n",
              "      <td>Bhubaneshwar</td>\n",
              "      <td>Female</td>\n",
              "      <td>Mrs</td>\n",
              "      <td>champa karketta</td>\n",
              "      <td>NO</td>\n",
              "      <td>2.0</td>\n",
              "      <td>Manufacturing</td>\n",
              "      <td>Car</td>\n",
              "      <td>2</td>\n",
              "      <td>0</td>\n",
              "      <td>Diabetes</td>\n",
              "      <td>23</td>\n",
              "      <td>7</td>\n",
              "      <td>&lt;400</td>\n",
              "      <td>Normal</td>\n",
              "      <td>390.0</td>\n",
              "      <td>21.0</td>\n",
              "      <td>153.0</td>\n",
              "      <td>331.0</td>\n",
              "      <td>71.0</td>\n",
              "      <td>64.0</td>\n",
              "      <td>32</td>\n",
              "      <td>7</td>\n",
              "      <td>3200000.0</td>\n",
              "      <td>1100000</td>\n",
              "      <td>1.0</td>\n",
              "      <td>87.868800</td>\n",
              "    </tr>\n",
              "  </tbody>\n",
              "</table>\n",
              "</div>"
            ],
            "text/plain": [
              "   people_ID        Region  Gender  ...   salary FT/month Infect_Prob\n",
              "0          1  Bhubaneshwar  Female  ...  1300000      2.0   49.135010\n",
              "1          2  Bhubaneshwar  Female  ...   400000      1.0   51.147880\n",
              "2          3  Bhubaneshwar  Female  ...   900000      1.0   73.224000\n",
              "3          4  Bhubaneshwar  Female  ...  2300000      1.0   48.779225\n",
              "4          5  Bhubaneshwar  Female  ...  1100000      1.0   87.868800\n",
              "\n",
              "[5 rows x 28 columns]"
            ]
          },
          "metadata": {
            "tags": []
          },
          "execution_count": 148
        }
      ]
    },
    {
      "cell_type": "code",
      "metadata": {
        "id": "qGm5xZHEwmV7",
        "colab_type": "code",
        "outputId": "7134315f-20c4-4cc4-eb74-d42e00c6cbf9",
        "colab": {
          "base_uri": "https://localhost:8080/",
          "height": 510
        }
      },
      "source": [
        "train.isnull().sum()"
      ],
      "execution_count": 149,
      "outputs": [
        {
          "output_type": "execute_result",
          "data": {
            "text/plain": [
              "people_ID                  0\n",
              "Region                     0\n",
              "Gender                     0\n",
              "Designation                0\n",
              "Name                      20\n",
              "Married                    0\n",
              "Children                   0\n",
              "Occupation                 0\n",
              "Mode_transport             0\n",
              "cases/1M                   0\n",
              "Deaths/1M                  0\n",
              "comorbidity                0\n",
              "Age                        0\n",
              "Coma score                 0\n",
              "Pulmonary score            0\n",
              "cardiological pressure     0\n",
              "Diuresis                   0\n",
              "Platelets                  0\n",
              "HBB                        0\n",
              "d-dimer                    0\n",
              "Heart rate                 0\n",
              "HDL cholesterol            0\n",
              "Charlson Index             0\n",
              "Blood Glucose              0\n",
              "Insurance                  0\n",
              "salary                     0\n",
              "FT/month                   0\n",
              "Infect_Prob                0\n",
              "dtype: int64"
            ]
          },
          "metadata": {
            "tags": []
          },
          "execution_count": 149
        }
      ]
    },
    {
      "cell_type": "code",
      "metadata": {
        "id": "tMb2LIG8K5co",
        "colab_type": "code",
        "outputId": "83269e6f-e2bc-48cf-a36a-0cfc187afc87",
        "colab": {
          "base_uri": "https://localhost:8080/",
          "height": 604
        }
      },
      "source": [
        "## Let's Visualize the Missing Values.\n",
        "\n",
        "dims = (12,8)\n",
        "fig,ax = plt.subplots(figsize=dims)\n",
        "sns.heatmap(train.isnull(),cbar=True,yticklabels=False,cmap='viridis',ax=ax)\n",
        "\n",
        "## Try the cmap=\"YlGnBu\" for different style\n"
      ],
      "execution_count": 150,
      "outputs": [
        {
          "output_type": "execute_result",
          "data": {
            "text/plain": [
              "<matplotlib.axes._subplots.AxesSubplot at 0x7fb2f28cf710>"
            ]
          },
          "metadata": {
            "tags": []
          },
          "execution_count": 150
        },
        {
          "output_type": "display_data",
          "data": {
            "image/png": "[encoded data removed]",
            "text/plain": [
              "<Figure size 864x576 with 2 Axes>"
            ]
          },
          "metadata": {
            "tags": []
          }
        }
      ]
    },
    {
      "cell_type": "code",
      "metadata": {
        "id": "XE-suoMGklr7",
        "colab_type": "code",
        "colab": {}
      },
      "source": [
        "# sns.pairplot(train,diag_kind='kde')"
      ],
      "execution_count": 0,
      "outputs": []
    },
    {
      "cell_type": "markdown",
      "metadata": {
        "id": "UTwrwdNYf_MT",
        "colab_type": "text"
      },
      "source": [
        "### One Hot Encoding:\n",
        "\n",
        "**Converting Categorical Features into Numerical**"
      ]
    },
    {
      "cell_type": "code",
      "metadata": {
        "id": "KSt-VYBqmNir",
        "colab_type": "code",
        "outputId": "f678aa4d-2a7e-47a6-c0de-1965f09a7166",
        "colab": {
          "base_uri": "https://localhost:8080/",
          "height": 510
        }
      },
      "source": [
        "## In order to create a model:\n",
        "## Need to convert all these object dtypes columns into numerical(int or float) \n",
        "train.dtypes"
      ],
      "execution_count": 152,
      "outputs": [
        {
          "output_type": "execute_result",
          "data": {
            "text/plain": [
              "people_ID                   int64\n",
              "Region                     object\n",
              "Gender                     object\n",
              "Designation                object\n",
              "Name                       object\n",
              "Married                    object\n",
              "Children                  float64\n",
              "Occupation                 object\n",
              "Mode_transport             object\n",
              "cases/1M                    int64\n",
              "Deaths/1M                   int64\n",
              "comorbidity                object\n",
              "Age                         int64\n",
              "Coma score                  int64\n",
              "Pulmonary score            object\n",
              "cardiological pressure     object\n",
              "Diuresis                  float64\n",
              "Platelets                 float64\n",
              "HBB                       float64\n",
              "d-dimer                   float64\n",
              "Heart rate                float64\n",
              "HDL cholesterol           float64\n",
              "Charlson Index              int64\n",
              "Blood Glucose               int64\n",
              "Insurance                 float64\n",
              "salary                      int64\n",
              "FT/month                  float64\n",
              "Infect_Prob               float64\n",
              "dtype: object"
            ]
          },
          "metadata": {
            "tags": []
          },
          "execution_count": 152
        }
      ]
    },
    {
      "cell_type": "code",
      "metadata": {
        "id": "IXLcIOrerFV6",
        "colab_type": "code",
        "outputId": "1007a217-b7bb-4b83-8207-575d7d10fafb",
        "colab": {
          "base_uri": "https://localhost:8080/",
          "height": 102
        }
      },
      "source": [
        "train['Pulmonary score'].value_counts()"
      ],
      "execution_count": 153,
      "outputs": [
        {
          "output_type": "execute_result",
          "data": {
            "text/plain": [
              "<400    2702\n",
              "<200    2677\n",
              "<300    2671\n",
              "<100    2664\n",
              "Name: Pulmonary score, dtype: int64"
            ]
          },
          "metadata": {
            "tags": []
          },
          "execution_count": 153
        }
      ]
    },
    {
      "cell_type": "markdown",
      "metadata": {
        "id": "QLEA7Gp4oi6j",
        "colab_type": "text"
      },
      "source": [
        "**Label Encoding of Two Categories Features**\n",
        "\n",
        "- 1. Gender: Male = 0 , Female = 1\n",
        "\n",
        "- 2. Designation: Mr. = 0 , Mrs = 1\n",
        "\n",
        "- 3. Married: No = 0 ,Yes = 1"
      ]
    },
    {
      "cell_type": "code",
      "metadata": {
        "id": "0CaQvXoEmNez",
        "colab_type": "code",
        "outputId": "b9c377f7-74d2-4f0d-d174-01dd46caf5be",
        "colab": {
          "base_uri": "https://localhost:8080/",
          "height": 309
        }
      },
      "source": [
        "train['Gender'].replace(to_replace=['Male','Female'], value=[0,1],inplace=True)\n",
        "train['Designation'].replace(to_replace=['Mr','Mrs'], value=[0,1],inplace=True)\n",
        "train['Married'].replace(to_replace=['NO','YES'], value=[0,1],inplace=True)\n",
        "train.head()"
      ],
      "execution_count": 154,
      "outputs": [
        {
          "output_type": "execute_result",
          "data": {
            "text/html": [
              "<div>\n",
              "<style scoped>\n",
              "    .dataframe tbody tr th:only-of-type {\n",
              "        vertical-align: middle;\n",
              "    }\n",
              "\n",
              "    .dataframe tbody tr th {\n",
              "        vertical-align: top;\n",
              "    }\n",
              "\n",
              "    .dataframe thead th {\n",
              "        text-align: right;\n",
              "    }\n",
              "</style>\n",
              "<table border=\"1\" class=\"dataframe\">\n",
              "  <thead>\n",
              "    <tr style=\"text-align: right;\">\n",
              "      <th></th>\n",
              "      <th>people_ID</th>\n",
              "      <th>Region</th>\n",
              "      <th>Gender</th>\n",
              "      <th>Designation</th>\n",
              "      <th>Name</th>\n",
              "      <th>Married</th>\n",
              "      <th>Children</th>\n",
              "      <th>Occupation</th>\n",
              "      <th>Mode_transport</th>\n",
              "      <th>cases/1M</th>\n",
              "      <th>Deaths/1M</th>\n",
              "      <th>comorbidity</th>\n",
              "      <th>Age</th>\n",
              "      <th>Coma score</th>\n",
              "      <th>Pulmonary score</th>\n",
              "      <th>cardiological pressure</th>\n",
              "      <th>Diuresis</th>\n",
              "      <th>Platelets</th>\n",
              "      <th>HBB</th>\n",
              "      <th>d-dimer</th>\n",
              "      <th>Heart rate</th>\n",
              "      <th>HDL cholesterol</th>\n",
              "      <th>Charlson Index</th>\n",
              "      <th>Blood Glucose</th>\n",
              "      <th>Insurance</th>\n",
              "      <th>salary</th>\n",
              "      <th>FT/month</th>\n",
              "      <th>Infect_Prob</th>\n",
              "    </tr>\n",
              "  </thead>\n",
              "  <tbody>\n",
              "    <tr>\n",
              "      <th>0</th>\n",
              "      <td>1</td>\n",
              "      <td>Bhubaneshwar</td>\n",
              "      <td>1</td>\n",
              "      <td>1</td>\n",
              "      <td>mansi</td>\n",
              "      <td>1</td>\n",
              "      <td>1.0</td>\n",
              "      <td>Farmer</td>\n",
              "      <td>Public</td>\n",
              "      <td>2</td>\n",
              "      <td>0</td>\n",
              "      <td>Hypertension</td>\n",
              "      <td>68</td>\n",
              "      <td>8</td>\n",
              "      <td>&lt;400</td>\n",
              "      <td>Normal</td>\n",
              "      <td>441.0</td>\n",
              "      <td>154.0</td>\n",
              "      <td>93.0</td>\n",
              "      <td>233.0</td>\n",
              "      <td>82.0</td>\n",
              "      <td>58.0</td>\n",
              "      <td>27</td>\n",
              "      <td>7</td>\n",
              "      <td>3600000.0</td>\n",
              "      <td>1300000</td>\n",
              "      <td>2.0</td>\n",
              "      <td>49.135010</td>\n",
              "    </tr>\n",
              "    <tr>\n",
              "      <th>1</th>\n",
              "      <td>2</td>\n",
              "      <td>Bhubaneshwar</td>\n",
              "      <td>1</td>\n",
              "      <td>1</td>\n",
              "      <td>riya masi</td>\n",
              "      <td>1</td>\n",
              "      <td>2.0</td>\n",
              "      <td>Farmer</td>\n",
              "      <td>Walk</td>\n",
              "      <td>2</td>\n",
              "      <td>0</td>\n",
              "      <td>Diabetes</td>\n",
              "      <td>64</td>\n",
              "      <td>15</td>\n",
              "      <td>&lt;100</td>\n",
              "      <td>Stage-02</td>\n",
              "      <td>276.0</td>\n",
              "      <td>121.0</td>\n",
              "      <td>56.0</td>\n",
              "      <td>328.0</td>\n",
              "      <td>89.0</td>\n",
              "      <td>68.0</td>\n",
              "      <td>5</td>\n",
              "      <td>6</td>\n",
              "      <td>1600000.0</td>\n",
              "      <td>400000</td>\n",
              "      <td>1.0</td>\n",
              "      <td>51.147880</td>\n",
              "    </tr>\n",
              "    <tr>\n",
              "      <th>2</th>\n",
              "      <td>3</td>\n",
              "      <td>Bhubaneshwar</td>\n",
              "      <td>1</td>\n",
              "      <td>1</td>\n",
              "      <td>sunita</td>\n",
              "      <td>0</td>\n",
              "      <td>1.0</td>\n",
              "      <td>Cleaner</td>\n",
              "      <td>Public</td>\n",
              "      <td>2</td>\n",
              "      <td>0</td>\n",
              "      <td>None</td>\n",
              "      <td>19</td>\n",
              "      <td>13</td>\n",
              "      <td>&lt;300</td>\n",
              "      <td>Elevated</td>\n",
              "      <td>416.0</td>\n",
              "      <td>124.0</td>\n",
              "      <td>137.0</td>\n",
              "      <td>213.0</td>\n",
              "      <td>77.0</td>\n",
              "      <td>43.0</td>\n",
              "      <td>40</td>\n",
              "      <td>6</td>\n",
              "      <td>3400000.0</td>\n",
              "      <td>900000</td>\n",
              "      <td>1.0</td>\n",
              "      <td>73.224000</td>\n",
              "    </tr>\n",
              "    <tr>\n",
              "      <th>3</th>\n",
              "      <td>4</td>\n",
              "      <td>Bhubaneshwar</td>\n",
              "      <td>1</td>\n",
              "      <td>1</td>\n",
              "      <td>anjali @ babli</td>\n",
              "      <td>1</td>\n",
              "      <td>1.0</td>\n",
              "      <td>Driver</td>\n",
              "      <td>Car</td>\n",
              "      <td>2</td>\n",
              "      <td>0</td>\n",
              "      <td>Coronary Heart Disease</td>\n",
              "      <td>33</td>\n",
              "      <td>9</td>\n",
              "      <td>&lt;200</td>\n",
              "      <td>Stage-01</td>\n",
              "      <td>410.0</td>\n",
              "      <td>98.0</td>\n",
              "      <td>167.0</td>\n",
              "      <td>275.0</td>\n",
              "      <td>64.0</td>\n",
              "      <td>60.0</td>\n",
              "      <td>27</td>\n",
              "      <td>7</td>\n",
              "      <td>700000.0</td>\n",
              "      <td>2300000</td>\n",
              "      <td>1.0</td>\n",
              "      <td>48.779225</td>\n",
              "    </tr>\n",
              "    <tr>\n",
              "      <th>4</th>\n",
              "      <td>5</td>\n",
              "      <td>Bhubaneshwar</td>\n",
              "      <td>1</td>\n",
              "      <td>1</td>\n",
              "      <td>champa karketta</td>\n",
              "      <td>0</td>\n",
              "      <td>2.0</td>\n",
              "      <td>Manufacturing</td>\n",
              "      <td>Car</td>\n",
              "      <td>2</td>\n",
              "      <td>0</td>\n",
              "      <td>Diabetes</td>\n",
              "      <td>23</td>\n",
              "      <td>7</td>\n",
              "      <td>&lt;400</td>\n",
              "      <td>Normal</td>\n",
              "      <td>390.0</td>\n",
              "      <td>21.0</td>\n",
              "      <td>153.0</td>\n",
              "      <td>331.0</td>\n",
              "      <td>71.0</td>\n",
              "      <td>64.0</td>\n",
              "      <td>32</td>\n",
              "      <td>7</td>\n",
              "      <td>3200000.0</td>\n",
              "      <td>1100000</td>\n",
              "      <td>1.0</td>\n",
              "      <td>87.868800</td>\n",
              "    </tr>\n",
              "  </tbody>\n",
              "</table>\n",
              "</div>"
            ],
            "text/plain": [
              "   people_ID        Region  Gender  ...   salary FT/month  Infect_Prob\n",
              "0          1  Bhubaneshwar       1  ...  1300000      2.0    49.135010\n",
              "1          2  Bhubaneshwar       1  ...   400000      1.0    51.147880\n",
              "2          3  Bhubaneshwar       1  ...   900000      1.0    73.224000\n",
              "3          4  Bhubaneshwar       1  ...  2300000      1.0    48.779225\n",
              "4          5  Bhubaneshwar       1  ...  1100000      1.0    87.868800\n",
              "\n",
              "[5 rows x 28 columns]"
            ]
          },
          "metadata": {
            "tags": []
          },
          "execution_count": 154
        }
      ]
    },
    {
      "cell_type": "code",
      "metadata": {
        "id": "kfeGYYH8qBRs",
        "colab_type": "code",
        "colab": {}
      },
      "source": [
        ""
      ],
      "execution_count": 0,
      "outputs": []
    },
    {
      "cell_type": "code",
      "metadata": {
        "id": "CSu76lfepny2",
        "colab_type": "code",
        "colab": {}
      },
      "source": [
        ""
      ],
      "execution_count": 0,
      "outputs": []
    },
    {
      "cell_type": "markdown",
      "metadata": {
        "id": "jayxKEyvpoob",
        "colab_type": "text"
      },
      "source": [
        "**One Hot Encoding of Features with More than 2 Categorical Values**\n",
        "\n",
        "1. Region\n",
        "2. Occupation \n",
        "3. comorbidity\n",
        "4. Mode_transport\n",
        "5. cardiological pressure\n",
        "6. Pulmonary score"
      ]
    },
    {
      "cell_type": "code",
      "metadata": {
        "id": "HXmrzHT9mNcC",
        "colab_type": "code",
        "colab": {}
      },
      "source": [
        "train = pd.get_dummies(data=train, columns=['Region', 'Occupation','comorbidity','Mode_transport','Pulmonary score','cardiological pressure'],drop_first=True)\n"
      ],
      "execution_count": 0,
      "outputs": []
    },
    {
      "cell_type": "code",
      "metadata": {
        "id": "MWctktOxPNNH",
        "colab_type": "code",
        "outputId": "e6e6015d-8d61-4e5c-815e-29d373fac3af",
        "colab": {
          "base_uri": "https://localhost:8080/",
          "height": 309
        }
      },
      "source": [
        "train.head()"
      ],
      "execution_count": 156,
      "outputs": [
        {
          "output_type": "execute_result",
          "data": {
            "text/html": [
              "<div>\n",
              "<style scoped>\n",
              "    .dataframe tbody tr th:only-of-type {\n",
              "        vertical-align: middle;\n",
              "    }\n",
              "\n",
              "    .dataframe tbody tr th {\n",
              "        vertical-align: top;\n",
              "    }\n",
              "\n",
              "    .dataframe thead th {\n",
              "        text-align: right;\n",
              "    }\n",
              "</style>\n",
              "<table border=\"1\" class=\"dataframe\">\n",
              "  <thead>\n",
              "    <tr style=\"text-align: right;\">\n",
              "      <th></th>\n",
              "      <th>people_ID</th>\n",
              "      <th>Gender</th>\n",
              "      <th>Designation</th>\n",
              "      <th>Name</th>\n",
              "      <th>Married</th>\n",
              "      <th>Children</th>\n",
              "      <th>cases/1M</th>\n",
              "      <th>Deaths/1M</th>\n",
              "      <th>Age</th>\n",
              "      <th>Coma score</th>\n",
              "      <th>Diuresis</th>\n",
              "      <th>Platelets</th>\n",
              "      <th>HBB</th>\n",
              "      <th>d-dimer</th>\n",
              "      <th>Heart rate</th>\n",
              "      <th>HDL cholesterol</th>\n",
              "      <th>Charlson Index</th>\n",
              "      <th>Blood Glucose</th>\n",
              "      <th>Insurance</th>\n",
              "      <th>salary</th>\n",
              "      <th>FT/month</th>\n",
              "      <th>Infect_Prob</th>\n",
              "      <th>Region_Bhubaneshwar</th>\n",
              "      <th>Region_Chandigarh</th>\n",
              "      <th>Region_Chennai</th>\n",
              "      <th>Region_Delhi</th>\n",
              "      <th>Occupation_Cleaner</th>\n",
              "      <th>Occupation_Clerk</th>\n",
              "      <th>Occupation_Driver</th>\n",
              "      <th>Occupation_Farmer</th>\n",
              "      <th>Occupation_Legal</th>\n",
              "      <th>Occupation_Manufacturing</th>\n",
              "      <th>Occupation_Researcher</th>\n",
              "      <th>Occupation_Sales</th>\n",
              "      <th>comorbidity_Diabetes</th>\n",
              "      <th>comorbidity_Hypertension</th>\n",
              "      <th>comorbidity_None</th>\n",
              "      <th>Mode_transport_Public</th>\n",
              "      <th>Mode_transport_Walk</th>\n",
              "      <th>Pulmonary score_&lt;200</th>\n",
              "      <th>Pulmonary score_&lt;300</th>\n",
              "      <th>Pulmonary score_&lt;400</th>\n",
              "      <th>cardiological pressure_Normal</th>\n",
              "      <th>cardiological pressure_Stage-01</th>\n",
              "      <th>cardiological pressure_Stage-02</th>\n",
              "    </tr>\n",
              "  </thead>\n",
              "  <tbody>\n",
              "    <tr>\n",
              "      <th>0</th>\n",
              "      <td>1</td>\n",
              "      <td>1</td>\n",
              "      <td>1</td>\n",
              "      <td>mansi</td>\n",
              "      <td>1</td>\n",
              "      <td>1.0</td>\n",
              "      <td>2</td>\n",
              "      <td>0</td>\n",
              "      <td>68</td>\n",
              "      <td>8</td>\n",
              "      <td>441.0</td>\n",
              "      <td>154.0</td>\n",
              "      <td>93.0</td>\n",
              "      <td>233.0</td>\n",
              "      <td>82.0</td>\n",
              "      <td>58.0</td>\n",
              "      <td>27</td>\n",
              "      <td>7</td>\n",
              "      <td>3600000.0</td>\n",
              "      <td>1300000</td>\n",
              "      <td>2.0</td>\n",
              "      <td>49.135010</td>\n",
              "      <td>1</td>\n",
              "      <td>0</td>\n",
              "      <td>0</td>\n",
              "      <td>0</td>\n",
              "      <td>0</td>\n",
              "      <td>0</td>\n",
              "      <td>0</td>\n",
              "      <td>1</td>\n",
              "      <td>0</td>\n",
              "      <td>0</td>\n",
              "      <td>0</td>\n",
              "      <td>0</td>\n",
              "      <td>0</td>\n",
              "      <td>1</td>\n",
              "      <td>0</td>\n",
              "      <td>1</td>\n",
              "      <td>0</td>\n",
              "      <td>0</td>\n",
              "      <td>0</td>\n",
              "      <td>1</td>\n",
              "      <td>1</td>\n",
              "      <td>0</td>\n",
              "      <td>0</td>\n",
              "    </tr>\n",
              "    <tr>\n",
              "      <th>1</th>\n",
              "      <td>2</td>\n",
              "      <td>1</td>\n",
              "      <td>1</td>\n",
              "      <td>riya masi</td>\n",
              "      <td>1</td>\n",
              "      <td>2.0</td>\n",
              "      <td>2</td>\n",
              "      <td>0</td>\n",
              "      <td>64</td>\n",
              "      <td>15</td>\n",
              "      <td>276.0</td>\n",
              "      <td>121.0</td>\n",
              "      <td>56.0</td>\n",
              "      <td>328.0</td>\n",
              "      <td>89.0</td>\n",
              "      <td>68.0</td>\n",
              "      <td>5</td>\n",
              "      <td>6</td>\n",
              "      <td>1600000.0</td>\n",
              "      <td>400000</td>\n",
              "      <td>1.0</td>\n",
              "      <td>51.147880</td>\n",
              "      <td>1</td>\n",
              "      <td>0</td>\n",
              "      <td>0</td>\n",
              "      <td>0</td>\n",
              "      <td>0</td>\n",
              "      <td>0</td>\n",
              "      <td>0</td>\n",
              "      <td>1</td>\n",
              "      <td>0</td>\n",
              "      <td>0</td>\n",
              "      <td>0</td>\n",
              "      <td>0</td>\n",
              "      <td>1</td>\n",
              "      <td>0</td>\n",
              "      <td>0</td>\n",
              "      <td>0</td>\n",
              "      <td>1</td>\n",
              "      <td>0</td>\n",
              "      <td>0</td>\n",
              "      <td>0</td>\n",
              "      <td>0</td>\n",
              "      <td>0</td>\n",
              "      <td>1</td>\n",
              "    </tr>\n",
              "    <tr>\n",
              "      <th>2</th>\n",
              "      <td>3</td>\n",
              "      <td>1</td>\n",
              "      <td>1</td>\n",
              "      <td>sunita</td>\n",
              "      <td>0</td>\n",
              "      <td>1.0</td>\n",
              "      <td>2</td>\n",
              "      <td>0</td>\n",
              "      <td>19</td>\n",
              "      <td>13</td>\n",
              "      <td>416.0</td>\n",
              "      <td>124.0</td>\n",
              "      <td>137.0</td>\n",
              "      <td>213.0</td>\n",
              "      <td>77.0</td>\n",
              "      <td>43.0</td>\n",
              "      <td>40</td>\n",
              "      <td>6</td>\n",
              "      <td>3400000.0</td>\n",
              "      <td>900000</td>\n",
              "      <td>1.0</td>\n",
              "      <td>73.224000</td>\n",
              "      <td>1</td>\n",
              "      <td>0</td>\n",
              "      <td>0</td>\n",
              "      <td>0</td>\n",
              "      <td>1</td>\n",
              "      <td>0</td>\n",
              "      <td>0</td>\n",
              "      <td>0</td>\n",
              "      <td>0</td>\n",
              "      <td>0</td>\n",
              "      <td>0</td>\n",
              "      <td>0</td>\n",
              "      <td>0</td>\n",
              "      <td>0</td>\n",
              "      <td>1</td>\n",
              "      <td>1</td>\n",
              "      <td>0</td>\n",
              "      <td>0</td>\n",
              "      <td>1</td>\n",
              "      <td>0</td>\n",
              "      <td>0</td>\n",
              "      <td>0</td>\n",
              "      <td>0</td>\n",
              "    </tr>\n",
              "    <tr>\n",
              "      <th>3</th>\n",
              "      <td>4</td>\n",
              "      <td>1</td>\n",
              "      <td>1</td>\n",
              "      <td>anjali @ babli</td>\n",
              "      <td>1</td>\n",
              "      <td>1.0</td>\n",
              "      <td>2</td>\n",
              "      <td>0</td>\n",
              "      <td>33</td>\n",
              "      <td>9</td>\n",
              "      <td>410.0</td>\n",
              "      <td>98.0</td>\n",
              "      <td>167.0</td>\n",
              "      <td>275.0</td>\n",
              "      <td>64.0</td>\n",
              "      <td>60.0</td>\n",
              "      <td>27</td>\n",
              "      <td>7</td>\n",
              "      <td>700000.0</td>\n",
              "      <td>2300000</td>\n",
              "      <td>1.0</td>\n",
              "      <td>48.779225</td>\n",
              "      <td>1</td>\n",
              "      <td>0</td>\n",
              "      <td>0</td>\n",
              "      <td>0</td>\n",
              "      <td>0</td>\n",
              "      <td>0</td>\n",
              "      <td>1</td>\n",
              "      <td>0</td>\n",
              "      <td>0</td>\n",
              "      <td>0</td>\n",
              "      <td>0</td>\n",
              "      <td>0</td>\n",
              "      <td>0</td>\n",
              "      <td>0</td>\n",
              "      <td>0</td>\n",
              "      <td>0</td>\n",
              "      <td>0</td>\n",
              "      <td>1</td>\n",
              "      <td>0</td>\n",
              "      <td>0</td>\n",
              "      <td>0</td>\n",
              "      <td>1</td>\n",
              "      <td>0</td>\n",
              "    </tr>\n",
              "    <tr>\n",
              "      <th>4</th>\n",
              "      <td>5</td>\n",
              "      <td>1</td>\n",
              "      <td>1</td>\n",
              "      <td>champa karketta</td>\n",
              "      <td>0</td>\n",
              "      <td>2.0</td>\n",
              "      <td>2</td>\n",
              "      <td>0</td>\n",
              "      <td>23</td>\n",
              "      <td>7</td>\n",
              "      <td>390.0</td>\n",
              "      <td>21.0</td>\n",
              "      <td>153.0</td>\n",
              "      <td>331.0</td>\n",
              "      <td>71.0</td>\n",
              "      <td>64.0</td>\n",
              "      <td>32</td>\n",
              "      <td>7</td>\n",
              "      <td>3200000.0</td>\n",
              "      <td>1100000</td>\n",
              "      <td>1.0</td>\n",
              "      <td>87.868800</td>\n",
              "      <td>1</td>\n",
              "      <td>0</td>\n",
              "      <td>0</td>\n",
              "      <td>0</td>\n",
              "      <td>0</td>\n",
              "      <td>0</td>\n",
              "      <td>0</td>\n",
              "      <td>0</td>\n",
              "      <td>0</td>\n",
              "      <td>1</td>\n",
              "      <td>0</td>\n",
              "      <td>0</td>\n",
              "      <td>1</td>\n",
              "      <td>0</td>\n",
              "      <td>0</td>\n",
              "      <td>0</td>\n",
              "      <td>0</td>\n",
              "      <td>0</td>\n",
              "      <td>0</td>\n",
              "      <td>1</td>\n",
              "      <td>1</td>\n",
              "      <td>0</td>\n",
              "      <td>0</td>\n",
              "    </tr>\n",
              "  </tbody>\n",
              "</table>\n",
              "</div>"
            ],
            "text/plain": [
              "   people_ID  ...  cardiological pressure_Stage-02\n",
              "0          1  ...                                0\n",
              "1          2  ...                                1\n",
              "2          3  ...                                0\n",
              "3          4  ...                                0\n",
              "4          5  ...                                0\n",
              "\n",
              "[5 rows x 45 columns]"
            ]
          },
          "metadata": {
            "tags": []
          },
          "execution_count": 156
        }
      ]
    },
    {
      "cell_type": "markdown",
      "metadata": {
        "id": "OyLCZt6UsN-R",
        "colab_type": "text"
      },
      "source": [
        "**If  the values are 5 the dummies created are 4, that's in order to avoid dummy trap** \n",
        "\n",
        "Read More here:\n",
        "- [Dummy Variable Trap](https://www.geeksforgeeks.org/ml-dummy-variable-trap-in-regression-models/)"
      ]
    },
    {
      "cell_type": "markdown",
      "metadata": {
        "id": "L-TwKcduHsmq",
        "colab_type": "text"
      },
      "source": [
        "## Output Variable\n",
        "\n",
        "**Infect_Prob**"
      ]
    },
    {
      "cell_type": "code",
      "metadata": {
        "id": "SuFyiY0SH38P",
        "colab_type": "code",
        "colab": {
          "base_uri": "https://localhost:8080/",
          "height": 170
        },
        "outputId": "25f46dd9-21d4-49a5-9e2a-a218209ac8eb"
      },
      "source": [
        "train['Infect_Prob'].describe()"
      ],
      "execution_count": 157,
      "outputs": [
        {
          "output_type": "execute_result",
          "data": {
            "text/plain": [
              "count    10714.000000\n",
              "mean        52.280680\n",
              "std         10.674667\n",
              "min         29.289600\n",
              "25%         47.277426\n",
              "50%         49.008389\n",
              "75%         52.762313\n",
              "max         97.632000\n",
              "Name: Infect_Prob, dtype: float64"
            ]
          },
          "metadata": {
            "tags": []
          },
          "execution_count": 157
        }
      ]
    },
    {
      "cell_type": "code",
      "metadata": {
        "id": "YwnRX29OH4ME",
        "colab_type": "code",
        "colab": {
          "base_uri": "https://localhost:8080/",
          "height": 530
        },
        "outputId": "812feff4-3b0c-4b57-e978-6b3001d0b03b"
      },
      "source": [
        "plt.figure(figsize=(15,8))\n",
        "temp=train.head(3886)\n",
        "plt.scatter(x='people_ID',y='Infect_Prob',data=temp)\n",
        "plt.xlabel(\"PEOPLE ID\")\n",
        "plt.ylabel(\"INFECTED PROBABILITY\")\n",
        "plt.title(\"OUTPUT VARIABLE DISTRIBUTION\")"
      ],
      "execution_count": 158,
      "outputs": [
        {
          "output_type": "execute_result",
          "data": {
            "text/plain": [
              "Text(0.5, 1.0, 'OUTPUT VARIABLE DISTRIBUTION')"
            ]
          },
          "metadata": {
            "tags": []
          },
          "execution_count": 158
        },
        {
          "output_type": "display_data",
          "data": {
            "image/png": "[encoded data removed]",
            "text/plain": [
              "<Figure size 1080x576 with 1 Axes>"
            ]
          },
          "metadata": {
            "tags": []
          }
        }
      ]
    },
    {
      "cell_type": "code",
      "metadata": {
        "id": "yARw3COWH4Yp",
        "colab_type": "code",
        "colab": {}
      },
      "source": [
        ""
      ],
      "execution_count": 0,
      "outputs": []
    },
    {
      "cell_type": "markdown",
      "metadata": {
        "id": "VOcI_flBmXCn",
        "colab_type": "text"
      },
      "source": [
        "## Normalizing the Dataset:"
      ]
    },
    {
      "cell_type": "code",
      "metadata": {
        "id": "2_T12Rf5H4oI",
        "colab_type": "code",
        "colab": {}
      },
      "source": [
        "# def norm(x):\n",
        "#   return (x - train_stats['mean']) / train_stats['std']\n",
        "# normed_train_data = norm(train_dataset)\n",
        "# normed_test_data = norm(test_dataset)"
      ],
      "execution_count": 0,
      "outputs": []
    },
    {
      "cell_type": "markdown",
      "metadata": {
        "id": "jz0BEnT2WdrT",
        "colab_type": "text"
      },
      "source": [
        "## Modelling:\n",
        "\n",
        "### 1. Train-Test Split."
      ]
    },
    {
      "cell_type": "code",
      "metadata": {
        "id": "vmKui-1wVgoE",
        "colab_type": "code",
        "outputId": "bcea5f39-4fdb-435e-b800-2c248d67eacb",
        "colab": {
          "base_uri": "https://localhost:8080/",
          "height": 255
        }
      },
      "source": [
        "train.columns"
      ],
      "execution_count": 160,
      "outputs": [
        {
          "output_type": "execute_result",
          "data": {
            "text/plain": [
              "Index(['people_ID', 'Gender', 'Designation', 'Name', 'Married', 'Children',\n",
              "       'cases/1M', 'Deaths/1M', 'Age', 'Coma score', 'Diuresis', 'Platelets',\n",
              "       'HBB', 'd-dimer', 'Heart rate', 'HDL cholesterol', 'Charlson Index',\n",
              "       'Blood Glucose', 'Insurance', 'salary', 'FT/month', 'Infect_Prob',\n",
              "       'Region_Bhubaneshwar', 'Region_Chandigarh', 'Region_Chennai',\n",
              "       'Region_Delhi', 'Occupation_Cleaner', 'Occupation_Clerk',\n",
              "       'Occupation_Driver', 'Occupation_Farmer', 'Occupation_Legal',\n",
              "       'Occupation_Manufacturing', 'Occupation_Researcher', 'Occupation_Sales',\n",
              "       'comorbidity_Diabetes', 'comorbidity_Hypertension', 'comorbidity_None',\n",
              "       'Mode_transport_Public', 'Mode_transport_Walk', 'Pulmonary score_<200',\n",
              "       'Pulmonary score_<300', 'Pulmonary score_<400',\n",
              "       'cardiological pressure_Normal', 'cardiological pressure_Stage-01',\n",
              "       'cardiological pressure_Stage-02'],\n",
              "      dtype='object')"
            ]
          },
          "metadata": {
            "tags": []
          },
          "execution_count": 160
        }
      ]
    },
    {
      "cell_type": "code",
      "metadata": {
        "id": "JgfnTsHYYcbP",
        "colab_type": "code",
        "outputId": "8d5d6b52-025e-4807-d955-02058e4b312b",
        "colab": {
          "base_uri": "https://localhost:8080/",
          "height": 119
        }
      },
      "source": [
        "y = train[\"Infect_Prob\"]\n",
        "y.head()"
      ],
      "execution_count": 161,
      "outputs": [
        {
          "output_type": "execute_result",
          "data": {
            "text/plain": [
              "0    49.135010\n",
              "1    51.147880\n",
              "2    73.224000\n",
              "3    48.779225\n",
              "4    87.868800\n",
              "Name: Infect_Prob, dtype: float64"
            ]
          },
          "metadata": {
            "tags": []
          },
          "execution_count": 161
        }
      ]
    },
    {
      "cell_type": "code",
      "metadata": {
        "id": "dwRY01j2XySp",
        "colab_type": "code",
        "outputId": "b5040bf2-f624-4e86-cb9a-e634ab8d5dcb",
        "colab": {
          "base_uri": "https://localhost:8080/",
          "height": 258
        }
      },
      "source": [
        "\n",
        "x=train\n",
        "x.drop(['Name','Infect_Prob','Region_Bhubaneshwar', 'Region_Chandigarh', 'Region_Chennai',\n",
        "       'Region_Delhi'],axis=1,inplace=True)\n",
        "x.head()\n"
      ],
      "execution_count": 162,
      "outputs": [
        {
          "output_type": "execute_result",
          "data": {
            "text/html": [
              "<div>\n",
              "<style scoped>\n",
              "    .dataframe tbody tr th:only-of-type {\n",
              "        vertical-align: middle;\n",
              "    }\n",
              "\n",
              "    .dataframe tbody tr th {\n",
              "        vertical-align: top;\n",
              "    }\n",
              "\n",
              "    .dataframe thead th {\n",
              "        text-align: right;\n",
              "    }\n",
              "</style>\n",
              "<table border=\"1\" class=\"dataframe\">\n",
              "  <thead>\n",
              "    <tr style=\"text-align: right;\">\n",
              "      <th></th>\n",
              "      <th>people_ID</th>\n",
              "      <th>Gender</th>\n",
              "      <th>Designation</th>\n",
              "      <th>Married</th>\n",
              "      <th>Children</th>\n",
              "      <th>cases/1M</th>\n",
              "      <th>Deaths/1M</th>\n",
              "      <th>Age</th>\n",
              "      <th>Coma score</th>\n",
              "      <th>Diuresis</th>\n",
              "      <th>Platelets</th>\n",
              "      <th>HBB</th>\n",
              "      <th>d-dimer</th>\n",
              "      <th>Heart rate</th>\n",
              "      <th>HDL cholesterol</th>\n",
              "      <th>Charlson Index</th>\n",
              "      <th>Blood Glucose</th>\n",
              "      <th>Insurance</th>\n",
              "      <th>salary</th>\n",
              "      <th>FT/month</th>\n",
              "      <th>Occupation_Cleaner</th>\n",
              "      <th>Occupation_Clerk</th>\n",
              "      <th>Occupation_Driver</th>\n",
              "      <th>Occupation_Farmer</th>\n",
              "      <th>Occupation_Legal</th>\n",
              "      <th>Occupation_Manufacturing</th>\n",
              "      <th>Occupation_Researcher</th>\n",
              "      <th>Occupation_Sales</th>\n",
              "      <th>comorbidity_Diabetes</th>\n",
              "      <th>comorbidity_Hypertension</th>\n",
              "      <th>comorbidity_None</th>\n",
              "      <th>Mode_transport_Public</th>\n",
              "      <th>Mode_transport_Walk</th>\n",
              "      <th>Pulmonary score_&lt;200</th>\n",
              "      <th>Pulmonary score_&lt;300</th>\n",
              "      <th>Pulmonary score_&lt;400</th>\n",
              "      <th>cardiological pressure_Normal</th>\n",
              "      <th>cardiological pressure_Stage-01</th>\n",
              "      <th>cardiological pressure_Stage-02</th>\n",
              "    </tr>\n",
              "  </thead>\n",
              "  <tbody>\n",
              "    <tr>\n",
              "      <th>0</th>\n",
              "      <td>1</td>\n",
              "      <td>1</td>\n",
              "      <td>1</td>\n",
              "      <td>1</td>\n",
              "      <td>1.0</td>\n",
              "      <td>2</td>\n",
              "      <td>0</td>\n",
              "      <td>68</td>\n",
              "      <td>8</td>\n",
              "      <td>441.0</td>\n",
              "      <td>154.0</td>\n",
              "      <td>93.0</td>\n",
              "      <td>233.0</td>\n",
              "      <td>82.0</td>\n",
              "      <td>58.0</td>\n",
              "      <td>27</td>\n",
              "      <td>7</td>\n",
              "      <td>3600000.0</td>\n",
              "      <td>1300000</td>\n",
              "      <td>2.0</td>\n",
              "      <td>0</td>\n",
              "      <td>0</td>\n",
              "      <td>0</td>\n",
              "      <td>1</td>\n",
              "      <td>0</td>\n",
              "      <td>0</td>\n",
              "      <td>0</td>\n",
              "      <td>0</td>\n",
              "      <td>0</td>\n",
              "      <td>1</td>\n",
              "      <td>0</td>\n",
              "      <td>1</td>\n",
              "      <td>0</td>\n",
              "      <td>0</td>\n",
              "      <td>0</td>\n",
              "      <td>1</td>\n",
              "      <td>1</td>\n",
              "      <td>0</td>\n",
              "      <td>0</td>\n",
              "    </tr>\n",
              "    <tr>\n",
              "      <th>1</th>\n",
              "      <td>2</td>\n",
              "      <td>1</td>\n",
              "      <td>1</td>\n",
              "      <td>1</td>\n",
              "      <td>2.0</td>\n",
              "      <td>2</td>\n",
              "      <td>0</td>\n",
              "      <td>64</td>\n",
              "      <td>15</td>\n",
              "      <td>276.0</td>\n",
              "      <td>121.0</td>\n",
              "      <td>56.0</td>\n",
              "      <td>328.0</td>\n",
              "      <td>89.0</td>\n",
              "      <td>68.0</td>\n",
              "      <td>5</td>\n",
              "      <td>6</td>\n",
              "      <td>1600000.0</td>\n",
              "      <td>400000</td>\n",
              "      <td>1.0</td>\n",
              "      <td>0</td>\n",
              "      <td>0</td>\n",
              "      <td>0</td>\n",
              "      <td>1</td>\n",
              "      <td>0</td>\n",
              "      <td>0</td>\n",
              "      <td>0</td>\n",
              "      <td>0</td>\n",
              "      <td>1</td>\n",
              "      <td>0</td>\n",
              "      <td>0</td>\n",
              "      <td>0</td>\n",
              "      <td>1</td>\n",
              "      <td>0</td>\n",
              "      <td>0</td>\n",
              "      <td>0</td>\n",
              "      <td>0</td>\n",
              "      <td>0</td>\n",
              "      <td>1</td>\n",
              "    </tr>\n",
              "    <tr>\n",
              "      <th>2</th>\n",
              "      <td>3</td>\n",
              "      <td>1</td>\n",
              "      <td>1</td>\n",
              "      <td>0</td>\n",
              "      <td>1.0</td>\n",
              "      <td>2</td>\n",
              "      <td>0</td>\n",
              "      <td>19</td>\n",
              "      <td>13</td>\n",
              "      <td>416.0</td>\n",
              "      <td>124.0</td>\n",
              "      <td>137.0</td>\n",
              "      <td>213.0</td>\n",
              "      <td>77.0</td>\n",
              "      <td>43.0</td>\n",
              "      <td>40</td>\n",
              "      <td>6</td>\n",
              "      <td>3400000.0</td>\n",
              "      <td>900000</td>\n",
              "      <td>1.0</td>\n",
              "      <td>1</td>\n",
              "      <td>0</td>\n",
              "      <td>0</td>\n",
              "      <td>0</td>\n",
              "      <td>0</td>\n",
              "      <td>0</td>\n",
              "      <td>0</td>\n",
              "      <td>0</td>\n",
              "      <td>0</td>\n",
              "      <td>0</td>\n",
              "      <td>1</td>\n",
              "      <td>1</td>\n",
              "      <td>0</td>\n",
              "      <td>0</td>\n",
              "      <td>1</td>\n",
              "      <td>0</td>\n",
              "      <td>0</td>\n",
              "      <td>0</td>\n",
              "      <td>0</td>\n",
              "    </tr>\n",
              "    <tr>\n",
              "      <th>3</th>\n",
              "      <td>4</td>\n",
              "      <td>1</td>\n",
              "      <td>1</td>\n",
              "      <td>1</td>\n",
              "      <td>1.0</td>\n",
              "      <td>2</td>\n",
              "      <td>0</td>\n",
              "      <td>33</td>\n",
              "      <td>9</td>\n",
              "      <td>410.0</td>\n",
              "      <td>98.0</td>\n",
              "      <td>167.0</td>\n",
              "      <td>275.0</td>\n",
              "      <td>64.0</td>\n",
              "      <td>60.0</td>\n",
              "      <td>27</td>\n",
              "      <td>7</td>\n",
              "      <td>700000.0</td>\n",
              "      <td>2300000</td>\n",
              "      <td>1.0</td>\n",
              "      <td>0</td>\n",
              "      <td>0</td>\n",
              "      <td>1</td>\n",
              "      <td>0</td>\n",
              "      <td>0</td>\n",
              "      <td>0</td>\n",
              "      <td>0</td>\n",
              "      <td>0</td>\n",
              "      <td>0</td>\n",
              "      <td>0</td>\n",
              "      <td>0</td>\n",
              "      <td>0</td>\n",
              "      <td>0</td>\n",
              "      <td>1</td>\n",
              "      <td>0</td>\n",
              "      <td>0</td>\n",
              "      <td>0</td>\n",
              "      <td>1</td>\n",
              "      <td>0</td>\n",
              "    </tr>\n",
              "    <tr>\n",
              "      <th>4</th>\n",
              "      <td>5</td>\n",
              "      <td>1</td>\n",
              "      <td>1</td>\n",
              "      <td>0</td>\n",
              "      <td>2.0</td>\n",
              "      <td>2</td>\n",
              "      <td>0</td>\n",
              "      <td>23</td>\n",
              "      <td>7</td>\n",
              "      <td>390.0</td>\n",
              "      <td>21.0</td>\n",
              "      <td>153.0</td>\n",
              "      <td>331.0</td>\n",
              "      <td>71.0</td>\n",
              "      <td>64.0</td>\n",
              "      <td>32</td>\n",
              "      <td>7</td>\n",
              "      <td>3200000.0</td>\n",
              "      <td>1100000</td>\n",
              "      <td>1.0</td>\n",
              "      <td>0</td>\n",
              "      <td>0</td>\n",
              "      <td>0</td>\n",
              "      <td>0</td>\n",
              "      <td>0</td>\n",
              "      <td>1</td>\n",
              "      <td>0</td>\n",
              "      <td>0</td>\n",
              "      <td>1</td>\n",
              "      <td>0</td>\n",
              "      <td>0</td>\n",
              "      <td>0</td>\n",
              "      <td>0</td>\n",
              "      <td>0</td>\n",
              "      <td>0</td>\n",
              "      <td>1</td>\n",
              "      <td>1</td>\n",
              "      <td>0</td>\n",
              "      <td>0</td>\n",
              "    </tr>\n",
              "  </tbody>\n",
              "</table>\n",
              "</div>"
            ],
            "text/plain": [
              "   people_ID  ...  cardiological pressure_Stage-02\n",
              "0          1  ...                                0\n",
              "1          2  ...                                1\n",
              "2          3  ...                                0\n",
              "3          4  ...                                0\n",
              "4          5  ...                                0\n",
              "\n",
              "[5 rows x 39 columns]"
            ]
          },
          "metadata": {
            "tags": []
          },
          "execution_count": 162
        }
      ]
    },
    {
      "cell_type": "code",
      "metadata": {
        "id": "TMPSjKxznD1e",
        "colab_type": "code",
        "colab": {}
      },
      "source": [
        "# from sklearn import preprocessing\n",
        "# x= preprocessing.StandardScaler().fit(x).transform(x)\n",
        "# x[0:5]"
      ],
      "execution_count": 0,
      "outputs": []
    },
    {
      "cell_type": "code",
      "metadata": {
        "id": "g1u7-y8QY_qn",
        "colab_type": "code",
        "colab": {}
      },
      "source": [
        "train_x,test_x,train_y,test_y = train_test_split(x,y,test_size=0.2,random_state=10)"
      ],
      "execution_count": 0,
      "outputs": []
    },
    {
      "cell_type": "code",
      "metadata": {
        "id": "PlWuWnBKZXM1",
        "colab_type": "code",
        "outputId": "8cbf9793-77e6-4535-a34b-4ba118909316",
        "colab": {
          "base_uri": "https://localhost:8080/",
          "height": 85
        }
      },
      "source": [
        "print(\"Shape of Train-x:\",train_x.shape)\n",
        "print(\"Shape of Train-y:\",train_y.shape)\n",
        "print(\"Shape of Test-x:\",test_x.shape)\n",
        "print(\"Shape of Test-y:\",test_y.shape)"
      ],
      "execution_count": 165,
      "outputs": [
        {
          "output_type": "stream",
          "text": [
            "Shape of Train-x: (8571, 39)\n",
            "Shape of Train-y: (8571,)\n",
            "Shape of Test-x: (2143, 39)\n",
            "Shape of Test-y: (2143,)\n"
          ],
          "name": "stdout"
        }
      ]
    },
    {
      "cell_type": "markdown",
      "metadata": {
        "id": "l5NBCQI3aBIS",
        "colab_type": "text"
      },
      "source": [
        "### 2. Build a Model"
      ]
    },
    {
      "cell_type": "code",
      "metadata": {
        "id": "2eVM2CMxZpPu",
        "colab_type": "code",
        "outputId": "ac2456bd-3f0f-4760-a2ef-f0c1a45be065",
        "colab": {
          "base_uri": "https://localhost:8080/",
          "height": 34
        }
      },
      "source": [
        "lr = LinearRegression()\n",
        "lr.fit(train_x,train_y)\n",
        "pred = lr.predict(test_x)\n",
        "pred.shape"
      ],
      "execution_count": 166,
      "outputs": [
        {
          "output_type": "execute_result",
          "data": {
            "text/plain": [
              "(2143,)"
            ]
          },
          "metadata": {
            "tags": []
          },
          "execution_count": 166
        }
      ]
    },
    {
      "cell_type": "code",
      "metadata": {
        "id": "cjINbsZvcbxl",
        "colab_type": "code",
        "outputId": "ae818bb8-f8de-46ca-96e6-cae02477b6a3",
        "colab": {
          "base_uri": "https://localhost:8080/",
          "height": 34
        }
      },
      "source": [
        "lr.score(test_x,test_y)"
      ],
      "execution_count": 167,
      "outputs": [
        {
          "output_type": "execute_result",
          "data": {
            "text/plain": [
              "0.2666900885250141"
            ]
          },
          "metadata": {
            "tags": []
          },
          "execution_count": 167
        }
      ]
    },
    {
      "cell_type": "code",
      "metadata": {
        "id": "OSZ6xzxbeqn_",
        "colab_type": "code",
        "outputId": "006b0372-e818-4dda-c8e1-edb327a0e939",
        "colab": {
          "base_uri": "https://localhost:8080/",
          "height": 68
        }
      },
      "source": [
        "from sklearn.metrics import mean_squared_error,mean_absolute_error, r2_score\n",
        "\n",
        "print('mean squared error:',mean_squared_error(test_y,lr.predict(test_x)))\n",
        "print('mean Absolute error:',mean_absolute_error(test_y,lr.predict(test_x)))\n",
        "print('R squared',r2_score(test_y,lr.predict(test_x)))"
      ],
      "execution_count": 168,
      "outputs": [
        {
          "output_type": "stream",
          "text": [
            "mean squared error: 85.71622620166232\n",
            "mean Absolute error: 4.719280564400315\n",
            "R squared 0.2666900885250141\n"
          ],
          "name": "stdout"
        }
      ]
    },
    {
      "cell_type": "code",
      "metadata": {
        "id": "crBKU5alNwVo",
        "colab_type": "code",
        "colab": {
          "base_uri": "https://localhost:8080/",
          "height": 500
        },
        "outputId": "1572b812-5e07-49e3-fc39-994a05b07f08"
      },
      "source": [
        "plt.figure(figsize=(15,8))\n",
        "plt.scatter(x=test_x['people_ID'],y=pred,label=\"Predictions\")\n",
        "plt.scatter(x=test_x['people_ID'],y=test_y,label=\"Test\")\n",
        "plt.legend()"
      ],
      "execution_count": 169,
      "outputs": [
        {
          "output_type": "execute_result",
          "data": {
            "text/plain": [
              "<matplotlib.legend.Legend at 0x7fb2f273efd0>"
            ]
          },
          "metadata": {
            "tags": []
          },
          "execution_count": 169
        },
        {
          "output_type": "display_data",
          "data": {
            "image/png": "[encoded data removed]",
            "text/plain": [
              "<Figure size 1080x576 with 1 Axes>"
            ]
          },
          "metadata": {
            "tags": []
          }
        }
      ]
    },
    {
      "cell_type": "code",
      "metadata": {
        "id": "jSNYAVqTPJFE",
        "colab_type": "code",
        "colab": {
          "base_uri": "https://localhost:8080/",
          "height": 51
        },
        "outputId": "a062cf40-e55c-4ef3-ae78-e5fc14cffce5"
      },
      "source": [
        "pred[0:10]"
      ],
      "execution_count": 170,
      "outputs": [
        {
          "output_type": "execute_result",
          "data": {
            "text/plain": [
              "array([52.15811034, 51.29636973, 57.20728051, 46.74526373, 47.19604884,\n",
              "       47.33058043, 54.17568517, 63.91942915, 47.02448513, 44.42398769])"
            ]
          },
          "metadata": {
            "tags": []
          },
          "execution_count": 170
        }
      ]
    },
    {
      "cell_type": "code",
      "metadata": {
        "id": "6D8SBA2HeM_T",
        "colab_type": "code",
        "colab": {}
      },
      "source": [
        ""
      ],
      "execution_count": 0,
      "outputs": []
    },
    {
      "cell_type": "markdown",
      "metadata": {
        "id": "rnPWKK-hjUho",
        "colab_type": "text"
      },
      "source": [
        "### Applying Grid Search:"
      ]
    },
    {
      "cell_type": "code",
      "metadata": {
        "id": "tZqvInN6w10U",
        "colab_type": "code",
        "outputId": "4b9bac4f-6c70-4b78-d3ac-06c5fe91b8f3",
        "colab": {
          "base_uri": "https://localhost:8080/",
          "height": 142
        }
      },
      "source": [
        "from sklearn.model_selection import GridSearchCV\n",
        "from sklearn.model_selection import ShuffleSplit\n",
        "from sklearn.linear_model import Lasso\n",
        "from sklearn.tree import DecisionTreeRegressor\n",
        "\n",
        "def find_best_model_using_gridsearchcv(x,y):\n",
        "    algos = {\n",
        "        'linear_regression' : {\n",
        "            'model': LinearRegression(),\n",
        "            'params': {\n",
        "                'normalize': [True, False]\n",
        "            }\n",
        "        },\n",
        "        'lasso': {\n",
        "            'model': Lasso(),\n",
        "            'params': {\n",
        "                'alpha': [1,2],\n",
        "                'selection': ['random', 'cyclic']\n",
        "            }\n",
        "        },\n",
        "        'decision_tree': {\n",
        "            'model': DecisionTreeRegressor(),\n",
        "            'params': {\n",
        "                'criterion' : ['mse','friedman_mse'],\n",
        "                'splitter': ['best','random']\n",
        "            }\n",
        "        }\n",
        "    }\n",
        "    scores = []\n",
        "    cv = ShuffleSplit(n_splits=5, test_size=0.2, random_state=0)\n",
        "    for algo_name, config in algos.items():\n",
        "        gs =  GridSearchCV(config['model'], config['params'], cv=cv, return_train_score=False)\n",
        "        gs.fit(x,y)\n",
        "        scores.append({\n",
        "            'model': algo_name,\n",
        "            'best_score': gs.best_score_,\n",
        "            'best_params': gs.best_params_\n",
        "        })\n",
        "\n",
        "    return pd.DataFrame(scores,columns=['model','best_score','best_params'])\n",
        "\n",
        "find_best_model_using_gridsearchcv(x,y)"
      ],
      "execution_count": 171,
      "outputs": [
        {
          "output_type": "execute_result",
          "data": {
            "text/html": [
              "<div>\n",
              "<style scoped>\n",
              "    .dataframe tbody tr th:only-of-type {\n",
              "        vertical-align: middle;\n",
              "    }\n",
              "\n",
              "    .dataframe tbody tr th {\n",
              "        vertical-align: top;\n",
              "    }\n",
              "\n",
              "    .dataframe thead th {\n",
              "        text-align: right;\n",
              "    }\n",
              "</style>\n",
              "<table border=\"1\" class=\"dataframe\">\n",
              "  <thead>\n",
              "    <tr style=\"text-align: right;\">\n",
              "      <th></th>\n",
              "      <th>model</th>\n",
              "      <th>best_score</th>\n",
              "      <th>best_params</th>\n",
              "    </tr>\n",
              "  </thead>\n",
              "  <tbody>\n",
              "    <tr>\n",
              "      <th>0</th>\n",
              "      <td>linear_regression</td>\n",
              "      <td>0.271583</td>\n",
              "      <td>{'normalize': True}</td>\n",
              "    </tr>\n",
              "    <tr>\n",
              "      <th>1</th>\n",
              "      <td>lasso</td>\n",
              "      <td>0.168197</td>\n",
              "      <td>{'alpha': 1, 'selection': 'cyclic'}</td>\n",
              "    </tr>\n",
              "    <tr>\n",
              "      <th>2</th>\n",
              "      <td>decision_tree</td>\n",
              "      <td>-0.385126</td>\n",
              "      <td>{'criterion': 'friedman_mse', 'splitter': 'ran...</td>\n",
              "    </tr>\n",
              "  </tbody>\n",
              "</table>\n",
              "</div>"
            ],
            "text/plain": [
              "               model  ...                                        best_params\n",
              "0  linear_regression  ...                                {'normalize': True}\n",
              "1              lasso  ...                {'alpha': 1, 'selection': 'cyclic'}\n",
              "2      decision_tree  ...  {'criterion': 'friedman_mse', 'splitter': 'ran...\n",
              "\n",
              "[3 rows x 3 columns]"
            ]
          },
          "metadata": {
            "tags": []
          },
          "execution_count": 171
        }
      ]
    },
    {
      "cell_type": "markdown",
      "metadata": {
        "id": "AeTlLzOsjakp",
        "colab_type": "text"
      },
      "source": [
        "## Stochastic Gradient Descent Regressor Model"
      ]
    },
    {
      "cell_type": "code",
      "metadata": {
        "id": "IB3GGP7peVs8",
        "colab_type": "code",
        "outputId": "b11f5d0e-931d-48ab-d15c-43ca21180d24",
        "colab": {
          "base_uri": "https://localhost:8080/",
          "height": 346
        }
      },
      "source": [
        "from sklearn.linear_model import SGDRegressor\n",
        "\n",
        "clf= SGDRegressor(alpha=0.8,l1_ratio=0.3,eta0=0.04,\n",
        "                   learning_rate='constant',loss='squared_loss',fit_intercept=True,random_state=10)\n",
        "\n",
        "\n",
        "clf.fit(train_x,train_y)  \n",
        "\n",
        "# Scatter plot command\n",
        "plt.scatter(test_y,clf.predict(test_x))     \n",
        "\n",
        "# for grid lines\n",
        "plt.grid()                                  \n",
        "\n",
        "# label and titles(Just like matlab)\n",
        "plt.xlabel('Actual y')                  \n",
        "plt.ylabel('predicted y')\n",
        "plt.title('scatter plot between actual y and predicted y')\n",
        "plt.show()\n",
        "\n",
        "\n",
        "print('mean squared error:',mean_squared_error(test_y,clf.predict(test_x)))\n",
        "print('mean Absolute error:',mean_absolute_error(test_y,clf.predict(test_x)))\n",
        "print('R squared',r2_score(test_y,clf.predict(test_x)))"
      ],
      "execution_count": 172,
      "outputs": [
        {
          "output_type": "display_data",
          "data": {
            "image/png": "[encoded data removed]",
            "text/plain": [
              "<Figure size 432x288 with 1 Axes>"
            ]
          },
          "metadata": {
            "tags": []
          }
        },
        {
          "output_type": "stream",
          "text": [
            "mean squared error: 2.4822998332710396e+45\n",
            "mean Absolute error: 4.207893870032401e+22\n",
            "R squared -2.1236295059325147e+43\n"
          ],
          "name": "stdout"
        }
      ]
    },
    {
      "cell_type": "code",
      "metadata": {
        "id": "7IzICLCZej15",
        "colab_type": "code",
        "outputId": "34e97329-6239-4bbb-fa12-04f134754241",
        "colab": {
          "base_uri": "https://localhost:8080/",
          "height": 34
        }
      },
      "source": [
        "clf.score(test_x,test_y)"
      ],
      "execution_count": 173,
      "outputs": [
        {
          "output_type": "execute_result",
          "data": {
            "text/plain": [
              "-2.1236295059325147e+43"
            ]
          },
          "metadata": {
            "tags": []
          },
          "execution_count": 173
        }
      ]
    },
    {
      "cell_type": "markdown",
      "metadata": {
        "id": "Gk2a4c3ZjjO9",
        "colab_type": "text"
      },
      "source": [
        "## Decision Tree Model"
      ]
    },
    {
      "cell_type": "code",
      "metadata": {
        "id": "LXzV97_FfX5J",
        "colab_type": "code",
        "colab": {
          "base_uri": "https://localhost:8080/",
          "height": 85
        },
        "outputId": "02381404-316c-44de-f38f-e5a82937fdd1"
      },
      "source": [
        "## DECISION TREE MODEL\n",
        "\n",
        "reg=DecisionTreeRegressor(max_depth=5,random_state=10,min_samples_split=7)\n",
        "reg.fit( train_x, train_y)\n",
        "y_p = reg.predict(test_x )\n",
        "print(reg.score(test_x,test_y))\n",
        "print('mean squared error:',mean_squared_error(test_y,y_p))\n",
        "print('mean Absolute error:',mean_absolute_error(test_y,reg.predict(test_x)))\n",
        "from math import sqrt\n",
        "\n",
        "rms = sqrt(mean_squared_error(test_y,y_p))\n",
        "print(\"The Root Mean Squared Error(RMSE) is : \",rms)"
      ],
      "execution_count": 174,
      "outputs": [
        {
          "output_type": "stream",
          "text": [
            "0.2747224025746706\n",
            "mean squared error: 84.77733305808228\n",
            "mean Absolute error: 4.097518807039091\n",
            "The Root Mean Squared Error(RMSE) is :  9.207460728022808\n"
          ],
          "name": "stdout"
        }
      ]
    },
    {
      "cell_type": "code",
      "metadata": {
        "id": "HldKxkQqnyoZ",
        "colab_type": "code",
        "colab": {
          "base_uri": "https://localhost:8080/",
          "height": 34
        },
        "outputId": "2dac49b0-9baf-429c-a848-9a1046b87097"
      },
      "source": [
        "type(y_p)"
      ],
      "execution_count": 175,
      "outputs": [
        {
          "output_type": "execute_result",
          "data": {
            "text/plain": [
              "numpy.ndarray"
            ]
          },
          "metadata": {
            "tags": []
          },
          "execution_count": 175
        }
      ]
    },
    {
      "cell_type": "code",
      "metadata": {
        "id": "I_OOQclxn33e",
        "colab_type": "code",
        "colab": {
          "base_uri": "https://localhost:8080/",
          "height": 51
        },
        "outputId": "f9ffe733-9125-4ea1-d6f2-5ec26c5d4216"
      },
      "source": [
        "y_p[0:10]"
      ],
      "execution_count": 176,
      "outputs": [
        {
          "output_type": "execute_result",
          "data": {
            "text/plain": [
              "array([53.26102482, 47.4569476 , 63.78523865, 47.63367479, 47.63367479,\n",
              "       47.63367479, 59.93259885, 63.78523865, 46.64222526, 45.78491508])"
            ]
          },
          "metadata": {
            "tags": []
          },
          "execution_count": 176
        }
      ]
    },
    {
      "cell_type": "code",
      "metadata": {
        "id": "Z3mq32yhhvTK",
        "colab_type": "code",
        "colab": {
          "base_uri": "https://localhost:8080/",
          "height": 500
        },
        "outputId": "8d7a983f-fefc-497b-eb84-ffd756c47687"
      },
      "source": [
        "plt.figure(figsize=(15,8))\n",
        "plt.scatter(x=test_x['people_ID'],y=y_p,label=\"Predictions\")\n",
        "plt.scatter(x=test_x['people_ID'],y=test_y,label=\"Test\")\n",
        "plt.legend()"
      ],
      "execution_count": 177,
      "outputs": [
        {
          "output_type": "execute_result",
          "data": {
            "text/plain": [
              "<matplotlib.legend.Legend at 0x7fb2f26269e8>"
            ]
          },
          "metadata": {
            "tags": []
          },
          "execution_count": 177
        },
        {
          "output_type": "display_data",
          "data": {
            "image/png": "[encoded data removed]",
            "text/plain": [
              "<Figure size 1080x576 with 1 Axes>"
            ]
          },
          "metadata": {
            "tags": []
          }
        }
      ]
    },
    {
      "cell_type": "code",
      "metadata": {
        "id": "ak7dy11wiAiX",
        "colab_type": "code",
        "colab": {}
      },
      "source": [
        ""
      ],
      "execution_count": 0,
      "outputs": []
    },
    {
      "cell_type": "markdown",
      "metadata": {
        "id": "uwL5XIPFphI0",
        "colab_type": "text"
      },
      "source": [
        "## TensorFlow Model"
      ]
    },
    {
      "cell_type": "code",
      "metadata": {
        "id": "HepD_eYlpkFB",
        "colab_type": "code",
        "colab": {}
      },
      "source": [
        "import tensorflow as tf\n",
        "\n",
        "from tensorflow import keras\n",
        "from tensorflow.keras import layers\n"
      ],
      "execution_count": 0,
      "outputs": []
    },
    {
      "cell_type": "code",
      "metadata": {
        "id": "2bv0f_oBqFqj",
        "colab_type": "code",
        "colab": {}
      },
      "source": [
        "def build_model():\n",
        "  model = keras.Sequential([\n",
        "    layers.Dense(64, activation='relu', input_shape=[len(train_x.keys())]),\n",
        "    layers.Dense(64, activation='relu'),\n",
        "    layers.Dense(1)\n",
        "  ])\n",
        "\n",
        "  optimizer = tf.keras.optimizers.RMSprop(0.001)\n",
        "\n",
        "  model.compile(loss='mse',\n",
        "                optimizer=optimizer,\n",
        "                metrics=['mae', 'mse'])\n",
        "  return model\n",
        "\n",
        "model = build_model()"
      ],
      "execution_count": 0,
      "outputs": []
    },
    {
      "cell_type": "code",
      "metadata": {
        "id": "ugqMjS2bpvX0",
        "colab_type": "code",
        "colab": {
          "base_uri": "https://localhost:8080/",
          "height": 255
        },
        "outputId": "7f6a952c-8c1a-4ce5-bce9-c87bf7388125"
      },
      "source": [
        "model.summary()"
      ],
      "execution_count": 180,
      "outputs": [
        {
          "output_type": "stream",
          "text": [
            "Model: \"sequential_3\"\n",
            "_________________________________________________________________\n",
            "Layer (type)                 Output Shape              Param #   \n",
            "=================================================================\n",
            "dense_9 (Dense)              (None, 64)                2560      \n",
            "_________________________________________________________________\n",
            "dense_10 (Dense)             (None, 64)                4160      \n",
            "_________________________________________________________________\n",
            "dense_11 (Dense)             (None, 1)                 65        \n",
            "=================================================================\n",
            "Total params: 6,785\n",
            "Trainable params: 6,785\n",
            "Non-trainable params: 0\n",
            "_________________________________________________________________\n"
          ],
          "name": "stdout"
        }
      ]
    },
    {
      "cell_type": "code",
      "metadata": {
        "id": "r1tCx_gur-Ob",
        "colab_type": "code",
        "colab": {}
      },
      "source": [
        "# import tensorflow_docs as tfdocs\n",
        "# import tensorflow_docs.plots\n",
        "# import tensorflow_docs.modeling"
      ],
      "execution_count": 0,
      "outputs": []
    },
    {
      "cell_type": "code",
      "metadata": {
        "id": "ARvPAg0wpvkZ",
        "colab_type": "code",
        "colab": {}
      },
      "source": [
        "# ## Train the Model\n",
        "# EPOCHS = 1000\n",
        "\n",
        "# history = model.fit(\n",
        "#   train_x, train_y,\n",
        "#   epochs=EPOCHS, validation_split = 0.2, verbose=0)\n"
      ],
      "execution_count": 0,
      "outputs": []
    },
    {
      "cell_type": "code",
      "metadata": {
        "id": "MOYIhAeVtAEf",
        "colab_type": "code",
        "colab": {}
      },
      "source": [
        "# hist = pd.DataFrame(history.history)\n",
        "# hist['epoch'] = history.epoch\n",
        "# hist.tail()"
      ],
      "execution_count": 0,
      "outputs": []
    },
    {
      "cell_type": "code",
      "metadata": {
        "id": "OIgJ7CYbz32L",
        "colab_type": "code",
        "colab": {}
      },
      "source": [
        ""
      ],
      "execution_count": 0,
      "outputs": []
    },
    {
      "cell_type": "code",
      "metadata": {
        "id": "_q8RPSivv23n",
        "colab_type": "code",
        "colab": {}
      },
      "source": [
        "# plotter = tfdocs.plots.HistoryPlotter(smoothing_std=2)"
      ],
      "execution_count": 0,
      "outputs": []
    },
    {
      "cell_type": "code",
      "metadata": {
        "id": "gljFxNExpvr3",
        "colab_type": "code",
        "colab": {}
      },
      "source": [
        "# plt.plot({'Basic': history}, metric = \"mae\")\n",
        "# plt.ylim([0, 10])\n",
        "# plt.ylabel('Infect_Prob')"
      ],
      "execution_count": 0,
      "outputs": []
    },
    {
      "cell_type": "code",
      "metadata": {
        "id": "CRrkqm1ypv19",
        "colab_type": "code",
        "colab": {}
      },
      "source": [
        "# plt.plot({'Basic': history}, metric = \"mse\")\n",
        "# plt.ylim([0, 20])\n",
        "# plt.ylabel('Infect_Prob')"
      ],
      "execution_count": 0,
      "outputs": []
    },
    {
      "cell_type": "code",
      "metadata": {
        "id": "8-yPzYZ-pvyr",
        "colab_type": "code",
        "colab": {}
      },
      "source": [
        "# model = build_model()\n",
        "\n",
        "# # The patience parameter is the amount of epochs to check for improvement\n",
        "# early_stop = keras.callbacks.EarlyStopping(monitor='val_loss', patience=10)\n",
        "\n",
        "# early_history = model.fit(train_x, train_y, \n",
        "#                     epochs=EPOCHS, validation_split = 0.2, verbose=0, )"
      ],
      "execution_count": 0,
      "outputs": []
    },
    {
      "cell_type": "code",
      "metadata": {
        "id": "fLQxNgXzz58-",
        "colab_type": "code",
        "colab": {}
      },
      "source": [
        "# loss, mae, mse = model.evaluate(test_x, test_y, verbose=2)\n",
        "\n",
        "# print(\"Testing set Mean Abs Error: {:5.2f} \".format(mae))"
      ],
      "execution_count": 0,
      "outputs": []
    },
    {
      "cell_type": "code",
      "metadata": {
        "id": "isrUpv7q2Cfg",
        "colab_type": "code",
        "colab": {}
      },
      "source": [
        ""
      ],
      "execution_count": 0,
      "outputs": []
    },
    {
      "cell_type": "code",
      "metadata": {
        "id": "YVUZBbhetzDj",
        "colab_type": "code",
        "colab": {}
      },
      "source": [
        "# tf.__version__"
      ],
      "execution_count": 0,
      "outputs": []
    },
    {
      "cell_type": "code",
      "metadata": {
        "id": "VXiwQ3SftzkH",
        "colab_type": "code",
        "colab": {}
      },
      "source": [
        "# !pip uninstall tensorflow"
      ],
      "execution_count": 0,
      "outputs": []
    },
    {
      "cell_type": "code",
      "metadata": {
        "id": "n49da0i0t-xG",
        "colab_type": "code",
        "colab": {}
      },
      "source": [
        "# !pip install tensorflow==2.0.0"
      ],
      "execution_count": 0,
      "outputs": []
    },
    {
      "cell_type": "code",
      "metadata": {
        "id": "6aQjvM0JuPh1",
        "colab_type": "code",
        "colab": {}
      },
      "source": [
        "# import tensorflow as tf\n",
        "# tf.__version__"
      ],
      "execution_count": 0,
      "outputs": []
    },
    {
      "cell_type": "code",
      "metadata": {
        "id": "Mnd-K_XUulmv",
        "colab_type": "code",
        "colab": {}
      },
      "source": [
        "# test_predictions = model.predict(test_x).flatten()\n",
        "\n",
        "# a = plt.axes(aspect='equal')\n",
        "# plt.scatter(test_y, test_predictions)\n",
        "# plt.xlabel('True Values ')\n",
        "# plt.ylabel('Predictions ')\n",
        "# lims = [0, 50]\n",
        "# plt.xlim(lims)\n",
        "# plt.ylim(lims)\n",
        "# _ = plt.plot(lims, lims)"
      ],
      "execution_count": 0,
      "outputs": []
    },
    {
      "cell_type": "code",
      "metadata": {
        "id": "J77yMXuE2gdZ",
        "colab_type": "code",
        "colab": {}
      },
      "source": [
        "# error = test_predictions - test_y\n",
        "# plt.hist(error, bins = 25)\n",
        "# plt.xlabel(\"Prediction Error \")\n",
        "# _ = plt.ylabel(\"Count\")"
      ],
      "execution_count": 0,
      "outputs": []
    },
    {
      "cell_type": "markdown",
      "metadata": {
        "id": "fkukqN13245F",
        "colab_type": "text"
      },
      "source": [
        "## Preprocessing Test Data"
      ]
    },
    {
      "cell_type": "code",
      "metadata": {
        "id": "de12Wddv2rcX",
        "colab_type": "code",
        "colab": {
          "base_uri": "https://localhost:8080/",
          "height": 292
        },
        "outputId": "95d17f76-b3ee-466f-9515-116f3811d333"
      },
      "source": [
        "test['Gender'].replace(to_replace=['Male','Female'], value=[0,1],inplace=True)\n",
        "test['Designation'].replace(to_replace=['Mr','Mrs'], value=[0,1],inplace=True)\n",
        "test['Married'].replace(to_replace=['NO','YES'], value=[0,1],inplace=True)\n",
        "test.head()"
      ],
      "execution_count": 194,
      "outputs": [
        {
          "output_type": "execute_result",
          "data": {
            "text/html": [
              "<div>\n",
              "<style scoped>\n",
              "    .dataframe tbody tr th:only-of-type {\n",
              "        vertical-align: middle;\n",
              "    }\n",
              "\n",
              "    .dataframe tbody tr th {\n",
              "        vertical-align: top;\n",
              "    }\n",
              "\n",
              "    .dataframe thead th {\n",
              "        text-align: right;\n",
              "    }\n",
              "</style>\n",
              "<table border=\"1\" class=\"dataframe\">\n",
              "  <thead>\n",
              "    <tr style=\"text-align: right;\">\n",
              "      <th></th>\n",
              "      <th>people_ID</th>\n",
              "      <th>Region</th>\n",
              "      <th>Gender</th>\n",
              "      <th>Designation</th>\n",
              "      <th>Name</th>\n",
              "      <th>Married</th>\n",
              "      <th>Children</th>\n",
              "      <th>Occupation</th>\n",
              "      <th>Mode_transport</th>\n",
              "      <th>cases/1M</th>\n",
              "      <th>Deaths/1M</th>\n",
              "      <th>comorbidity</th>\n",
              "      <th>Age</th>\n",
              "      <th>Coma score</th>\n",
              "      <th>Pulmonary score</th>\n",
              "      <th>cardiological pressure</th>\n",
              "      <th>Diuresis</th>\n",
              "      <th>Platelets</th>\n",
              "      <th>HBB</th>\n",
              "      <th>d-dimer</th>\n",
              "      <th>Heart rate</th>\n",
              "      <th>HDL cholesterol</th>\n",
              "      <th>Charlson Index</th>\n",
              "      <th>Blood Glucose</th>\n",
              "      <th>Insurance</th>\n",
              "      <th>salary</th>\n",
              "      <th>FT/month</th>\n",
              "    </tr>\n",
              "  </thead>\n",
              "  <tbody>\n",
              "    <tr>\n",
              "      <th>0</th>\n",
              "      <td>5942</td>\n",
              "      <td>Delhi</td>\n",
              "      <td>1</td>\n",
              "      <td>1</td>\n",
              "      <td>smt rekha prajapat</td>\n",
              "      <td>1</td>\n",
              "      <td>2</td>\n",
              "      <td>Driver</td>\n",
              "      <td>Public</td>\n",
              "      <td>4</td>\n",
              "      <td>1</td>\n",
              "      <td>Diabetes</td>\n",
              "      <td>52</td>\n",
              "      <td>3</td>\n",
              "      <td>&lt;200</td>\n",
              "      <td>Stage-01</td>\n",
              "      <td>388</td>\n",
              "      <td>153</td>\n",
              "      <td>196</td>\n",
              "      <td>240</td>\n",
              "      <td>85</td>\n",
              "      <td>53</td>\n",
              "      <td>17</td>\n",
              "      <td>3</td>\n",
              "      <td>3900000</td>\n",
              "      <td>1300000</td>\n",
              "      <td>1</td>\n",
              "    </tr>\n",
              "    <tr>\n",
              "      <th>1</th>\n",
              "      <td>18664</td>\n",
              "      <td>Delhi</td>\n",
              "      <td>0</td>\n",
              "      <td>0</td>\n",
              "      <td>nirmal</td>\n",
              "      <td>1</td>\n",
              "      <td>2</td>\n",
              "      <td>Legal</td>\n",
              "      <td>Walk</td>\n",
              "      <td>4</td>\n",
              "      <td>1</td>\n",
              "      <td>Diabetes</td>\n",
              "      <td>53</td>\n",
              "      <td>11</td>\n",
              "      <td>&lt;200</td>\n",
              "      <td>Stage-01</td>\n",
              "      <td>409</td>\n",
              "      <td>95</td>\n",
              "      <td>138</td>\n",
              "      <td>241</td>\n",
              "      <td>81</td>\n",
              "      <td>61</td>\n",
              "      <td>2</td>\n",
              "      <td>5</td>\n",
              "      <td>1800000</td>\n",
              "      <td>1300000</td>\n",
              "      <td>1</td>\n",
              "    </tr>\n",
              "    <tr>\n",
              "      <th>2</th>\n",
              "      <td>5603</td>\n",
              "      <td>Delhi</td>\n",
              "      <td>1</td>\n",
              "      <td>1</td>\n",
              "      <td>pinky</td>\n",
              "      <td>1</td>\n",
              "      <td>2</td>\n",
              "      <td>Sales</td>\n",
              "      <td>Car</td>\n",
              "      <td>4</td>\n",
              "      <td>1</td>\n",
              "      <td>Diabetes</td>\n",
              "      <td>35</td>\n",
              "      <td>9</td>\n",
              "      <td>&lt;100</td>\n",
              "      <td>Stage-02</td>\n",
              "      <td>440</td>\n",
              "      <td>40</td>\n",
              "      <td>166</td>\n",
              "      <td>236</td>\n",
              "      <td>88</td>\n",
              "      <td>47</td>\n",
              "      <td>24</td>\n",
              "      <td>3</td>\n",
              "      <td>5000000</td>\n",
              "      <td>2000000</td>\n",
              "      <td>2</td>\n",
              "    </tr>\n",
              "    <tr>\n",
              "      <th>3</th>\n",
              "      <td>5649</td>\n",
              "      <td>Delhi</td>\n",
              "      <td>1</td>\n",
              "      <td>1</td>\n",
              "      <td>pooja @aafrin</td>\n",
              "      <td>1</td>\n",
              "      <td>2</td>\n",
              "      <td>Sales</td>\n",
              "      <td>Car</td>\n",
              "      <td>4</td>\n",
              "      <td>1</td>\n",
              "      <td>None</td>\n",
              "      <td>31</td>\n",
              "      <td>12</td>\n",
              "      <td>&lt;300</td>\n",
              "      <td>Elevated</td>\n",
              "      <td>206</td>\n",
              "      <td>78</td>\n",
              "      <td>83</td>\n",
              "      <td>211</td>\n",
              "      <td>87</td>\n",
              "      <td>52</td>\n",
              "      <td>13</td>\n",
              "      <td>6</td>\n",
              "      <td>3100000</td>\n",
              "      <td>600000</td>\n",
              "      <td>2</td>\n",
              "    </tr>\n",
              "    <tr>\n",
              "      <th>4</th>\n",
              "      <td>5099</td>\n",
              "      <td>Delhi</td>\n",
              "      <td>1</td>\n",
              "      <td>1</td>\n",
              "      <td>anjali</td>\n",
              "      <td>1</td>\n",
              "      <td>2</td>\n",
              "      <td>Business</td>\n",
              "      <td>Car</td>\n",
              "      <td>4</td>\n",
              "      <td>1</td>\n",
              "      <td>Diabetes</td>\n",
              "      <td>51</td>\n",
              "      <td>6</td>\n",
              "      <td>&lt;200</td>\n",
              "      <td>Stage-01</td>\n",
              "      <td>229</td>\n",
              "      <td>109</td>\n",
              "      <td>207</td>\n",
              "      <td>312</td>\n",
              "      <td>94</td>\n",
              "      <td>68</td>\n",
              "      <td>39</td>\n",
              "      <td>5</td>\n",
              "      <td>2300000</td>\n",
              "      <td>1500000</td>\n",
              "      <td>1</td>\n",
              "    </tr>\n",
              "  </tbody>\n",
              "</table>\n",
              "</div>"
            ],
            "text/plain": [
              "   people_ID Region  Gender  ...  Insurance   salary  FT/month\n",
              "0       5942  Delhi       1  ...    3900000  1300000         1\n",
              "1      18664  Delhi       0  ...    1800000  1300000         1\n",
              "2       5603  Delhi       1  ...    5000000  2000000         2\n",
              "3       5649  Delhi       1  ...    3100000   600000         2\n",
              "4       5099  Delhi       1  ...    2300000  1500000         1\n",
              "\n",
              "[5 rows x 27 columns]"
            ]
          },
          "metadata": {
            "tags": []
          },
          "execution_count": 194
        }
      ]
    },
    {
      "cell_type": "code",
      "metadata": {
        "id": "xGSLKoAW8I6x",
        "colab_type": "code",
        "colab": {
          "base_uri": "https://localhost:8080/",
          "height": 309
        },
        "outputId": "b7efe805-4698-45c5-ae1e-51399d6bd926"
      },
      "source": [
        "test = pd.get_dummies(data=test, columns=['Region', 'Occupation','comorbidity','Mode_transport','Pulmonary score','cardiological pressure'],drop_first=True)\n",
        "test.head()"
      ],
      "execution_count": 195,
      "outputs": [
        {
          "output_type": "execute_result",
          "data": {
            "text/html": [
              "<div>\n",
              "<style scoped>\n",
              "    .dataframe tbody tr th:only-of-type {\n",
              "        vertical-align: middle;\n",
              "    }\n",
              "\n",
              "    .dataframe tbody tr th {\n",
              "        vertical-align: top;\n",
              "    }\n",
              "\n",
              "    .dataframe thead th {\n",
              "        text-align: right;\n",
              "    }\n",
              "</style>\n",
              "<table border=\"1\" class=\"dataframe\">\n",
              "  <thead>\n",
              "    <tr style=\"text-align: right;\">\n",
              "      <th></th>\n",
              "      <th>people_ID</th>\n",
              "      <th>Gender</th>\n",
              "      <th>Designation</th>\n",
              "      <th>Name</th>\n",
              "      <th>Married</th>\n",
              "      <th>Children</th>\n",
              "      <th>cases/1M</th>\n",
              "      <th>Deaths/1M</th>\n",
              "      <th>Age</th>\n",
              "      <th>Coma score</th>\n",
              "      <th>Diuresis</th>\n",
              "      <th>Platelets</th>\n",
              "      <th>HBB</th>\n",
              "      <th>d-dimer</th>\n",
              "      <th>Heart rate</th>\n",
              "      <th>HDL cholesterol</th>\n",
              "      <th>Charlson Index</th>\n",
              "      <th>Blood Glucose</th>\n",
              "      <th>Insurance</th>\n",
              "      <th>salary</th>\n",
              "      <th>FT/month</th>\n",
              "      <th>Region_Hyderabad</th>\n",
              "      <th>Region_Kolkata</th>\n",
              "      <th>Region_Mumbai</th>\n",
              "      <th>Region_Pune</th>\n",
              "      <th>Region_Thiruvananthapuram</th>\n",
              "      <th>Occupation_Cleaner</th>\n",
              "      <th>Occupation_Clerk</th>\n",
              "      <th>Occupation_Driver</th>\n",
              "      <th>Occupation_Farmer</th>\n",
              "      <th>Occupation_Legal</th>\n",
              "      <th>Occupation_Manufacturing</th>\n",
              "      <th>Occupation_Researcher</th>\n",
              "      <th>Occupation_Sales</th>\n",
              "      <th>comorbidity_Diabetes</th>\n",
              "      <th>comorbidity_Hypertension</th>\n",
              "      <th>comorbidity_None</th>\n",
              "      <th>Mode_transport_Public</th>\n",
              "      <th>Mode_transport_Walk</th>\n",
              "      <th>Pulmonary score_&lt;200</th>\n",
              "      <th>Pulmonary score_&lt;300</th>\n",
              "      <th>Pulmonary score_&lt;400</th>\n",
              "      <th>cardiological pressure_Normal</th>\n",
              "      <th>cardiological pressure_Stage-01</th>\n",
              "      <th>cardiological pressure_Stage-02</th>\n",
              "    </tr>\n",
              "  </thead>\n",
              "  <tbody>\n",
              "    <tr>\n",
              "      <th>0</th>\n",
              "      <td>5942</td>\n",
              "      <td>1</td>\n",
              "      <td>1</td>\n",
              "      <td>smt rekha prajapat</td>\n",
              "      <td>1</td>\n",
              "      <td>2</td>\n",
              "      <td>4</td>\n",
              "      <td>1</td>\n",
              "      <td>52</td>\n",
              "      <td>3</td>\n",
              "      <td>388</td>\n",
              "      <td>153</td>\n",
              "      <td>196</td>\n",
              "      <td>240</td>\n",
              "      <td>85</td>\n",
              "      <td>53</td>\n",
              "      <td>17</td>\n",
              "      <td>3</td>\n",
              "      <td>3900000</td>\n",
              "      <td>1300000</td>\n",
              "      <td>1</td>\n",
              "      <td>0</td>\n",
              "      <td>0</td>\n",
              "      <td>0</td>\n",
              "      <td>0</td>\n",
              "      <td>0</td>\n",
              "      <td>0</td>\n",
              "      <td>0</td>\n",
              "      <td>1</td>\n",
              "      <td>0</td>\n",
              "      <td>0</td>\n",
              "      <td>0</td>\n",
              "      <td>0</td>\n",
              "      <td>0</td>\n",
              "      <td>1</td>\n",
              "      <td>0</td>\n",
              "      <td>0</td>\n",
              "      <td>1</td>\n",
              "      <td>0</td>\n",
              "      <td>1</td>\n",
              "      <td>0</td>\n",
              "      <td>0</td>\n",
              "      <td>0</td>\n",
              "      <td>1</td>\n",
              "      <td>0</td>\n",
              "    </tr>\n",
              "    <tr>\n",
              "      <th>1</th>\n",
              "      <td>18664</td>\n",
              "      <td>0</td>\n",
              "      <td>0</td>\n",
              "      <td>nirmal</td>\n",
              "      <td>1</td>\n",
              "      <td>2</td>\n",
              "      <td>4</td>\n",
              "      <td>1</td>\n",
              "      <td>53</td>\n",
              "      <td>11</td>\n",
              "      <td>409</td>\n",
              "      <td>95</td>\n",
              "      <td>138</td>\n",
              "      <td>241</td>\n",
              "      <td>81</td>\n",
              "      <td>61</td>\n",
              "      <td>2</td>\n",
              "      <td>5</td>\n",
              "      <td>1800000</td>\n",
              "      <td>1300000</td>\n",
              "      <td>1</td>\n",
              "      <td>0</td>\n",
              "      <td>0</td>\n",
              "      <td>0</td>\n",
              "      <td>0</td>\n",
              "      <td>0</td>\n",
              "      <td>0</td>\n",
              "      <td>0</td>\n",
              "      <td>0</td>\n",
              "      <td>0</td>\n",
              "      <td>1</td>\n",
              "      <td>0</td>\n",
              "      <td>0</td>\n",
              "      <td>0</td>\n",
              "      <td>1</td>\n",
              "      <td>0</td>\n",
              "      <td>0</td>\n",
              "      <td>0</td>\n",
              "      <td>1</td>\n",
              "      <td>1</td>\n",
              "      <td>0</td>\n",
              "      <td>0</td>\n",
              "      <td>0</td>\n",
              "      <td>1</td>\n",
              "      <td>0</td>\n",
              "    </tr>\n",
              "    <tr>\n",
              "      <th>2</th>\n",
              "      <td>5603</td>\n",
              "      <td>1</td>\n",
              "      <td>1</td>\n",
              "      <td>pinky</td>\n",
              "      <td>1</td>\n",
              "      <td>2</td>\n",
              "      <td>4</td>\n",
              "      <td>1</td>\n",
              "      <td>35</td>\n",
              "      <td>9</td>\n",
              "      <td>440</td>\n",
              "      <td>40</td>\n",
              "      <td>166</td>\n",
              "      <td>236</td>\n",
              "      <td>88</td>\n",
              "      <td>47</td>\n",
              "      <td>24</td>\n",
              "      <td>3</td>\n",
              "      <td>5000000</td>\n",
              "      <td>2000000</td>\n",
              "      <td>2</td>\n",
              "      <td>0</td>\n",
              "      <td>0</td>\n",
              "      <td>0</td>\n",
              "      <td>0</td>\n",
              "      <td>0</td>\n",
              "      <td>0</td>\n",
              "      <td>0</td>\n",
              "      <td>0</td>\n",
              "      <td>0</td>\n",
              "      <td>0</td>\n",
              "      <td>0</td>\n",
              "      <td>0</td>\n",
              "      <td>1</td>\n",
              "      <td>1</td>\n",
              "      <td>0</td>\n",
              "      <td>0</td>\n",
              "      <td>0</td>\n",
              "      <td>0</td>\n",
              "      <td>0</td>\n",
              "      <td>0</td>\n",
              "      <td>0</td>\n",
              "      <td>0</td>\n",
              "      <td>0</td>\n",
              "      <td>1</td>\n",
              "    </tr>\n",
              "    <tr>\n",
              "      <th>3</th>\n",
              "      <td>5649</td>\n",
              "      <td>1</td>\n",
              "      <td>1</td>\n",
              "      <td>pooja @aafrin</td>\n",
              "      <td>1</td>\n",
              "      <td>2</td>\n",
              "      <td>4</td>\n",
              "      <td>1</td>\n",
              "      <td>31</td>\n",
              "      <td>12</td>\n",
              "      <td>206</td>\n",
              "      <td>78</td>\n",
              "      <td>83</td>\n",
              "      <td>211</td>\n",
              "      <td>87</td>\n",
              "      <td>52</td>\n",
              "      <td>13</td>\n",
              "      <td>6</td>\n",
              "      <td>3100000</td>\n",
              "      <td>600000</td>\n",
              "      <td>2</td>\n",
              "      <td>0</td>\n",
              "      <td>0</td>\n",
              "      <td>0</td>\n",
              "      <td>0</td>\n",
              "      <td>0</td>\n",
              "      <td>0</td>\n",
              "      <td>0</td>\n",
              "      <td>0</td>\n",
              "      <td>0</td>\n",
              "      <td>0</td>\n",
              "      <td>0</td>\n",
              "      <td>0</td>\n",
              "      <td>1</td>\n",
              "      <td>0</td>\n",
              "      <td>0</td>\n",
              "      <td>1</td>\n",
              "      <td>0</td>\n",
              "      <td>0</td>\n",
              "      <td>0</td>\n",
              "      <td>1</td>\n",
              "      <td>0</td>\n",
              "      <td>0</td>\n",
              "      <td>0</td>\n",
              "      <td>0</td>\n",
              "    </tr>\n",
              "    <tr>\n",
              "      <th>4</th>\n",
              "      <td>5099</td>\n",
              "      <td>1</td>\n",
              "      <td>1</td>\n",
              "      <td>anjali</td>\n",
              "      <td>1</td>\n",
              "      <td>2</td>\n",
              "      <td>4</td>\n",
              "      <td>1</td>\n",
              "      <td>51</td>\n",
              "      <td>6</td>\n",
              "      <td>229</td>\n",
              "      <td>109</td>\n",
              "      <td>207</td>\n",
              "      <td>312</td>\n",
              "      <td>94</td>\n",
              "      <td>68</td>\n",
              "      <td>39</td>\n",
              "      <td>5</td>\n",
              "      <td>2300000</td>\n",
              "      <td>1500000</td>\n",
              "      <td>1</td>\n",
              "      <td>0</td>\n",
              "      <td>0</td>\n",
              "      <td>0</td>\n",
              "      <td>0</td>\n",
              "      <td>0</td>\n",
              "      <td>0</td>\n",
              "      <td>0</td>\n",
              "      <td>0</td>\n",
              "      <td>0</td>\n",
              "      <td>0</td>\n",
              "      <td>0</td>\n",
              "      <td>0</td>\n",
              "      <td>0</td>\n",
              "      <td>1</td>\n",
              "      <td>0</td>\n",
              "      <td>0</td>\n",
              "      <td>0</td>\n",
              "      <td>0</td>\n",
              "      <td>1</td>\n",
              "      <td>0</td>\n",
              "      <td>0</td>\n",
              "      <td>0</td>\n",
              "      <td>1</td>\n",
              "      <td>0</td>\n",
              "    </tr>\n",
              "  </tbody>\n",
              "</table>\n",
              "</div>"
            ],
            "text/plain": [
              "   people_ID  ...  cardiological pressure_Stage-02\n",
              "0       5942  ...                                0\n",
              "1      18664  ...                                0\n",
              "2       5603  ...                                1\n",
              "3       5649  ...                                0\n",
              "4       5099  ...                                0\n",
              "\n",
              "[5 rows x 45 columns]"
            ]
          },
          "metadata": {
            "tags": []
          },
          "execution_count": 195
        }
      ]
    },
    {
      "cell_type": "code",
      "metadata": {
        "id": "T9QEaI368ULW",
        "colab_type": "code",
        "colab": {}
      },
      "source": [
        "test.drop(['Name','Region_Hyderabad',\n",
        "       'Region_Kolkata', 'Region_Mumbai', 'Region_Pune',\n",
        "       'Region_Thiruvananthapuram'],axis=1,inplace=True)"
      ],
      "execution_count": 0,
      "outputs": []
    },
    {
      "cell_type": "code",
      "metadata": {
        "id": "3dFu-vzHDeYP",
        "colab_type": "code",
        "colab": {
          "base_uri": "https://localhost:8080/",
          "height": 255
        },
        "outputId": "ea892778-8e8b-488b-cb7c-9840134a2e2d"
      },
      "source": [
        "test.columns"
      ],
      "execution_count": 200,
      "outputs": [
        {
          "output_type": "execute_result",
          "data": {
            "text/plain": [
              "Index(['people_ID', 'Gender', 'Designation', 'Married', 'Children', 'cases/1M',\n",
              "       'Deaths/1M', 'Age', 'Coma score', 'Diuresis', 'Platelets', 'HBB',\n",
              "       'd-dimer', 'Heart rate', 'HDL cholesterol', 'Charlson Index',\n",
              "       'Blood Glucose', 'Insurance', 'salary', 'FT/month', 'Region_Hyderabad',\n",
              "       'Region_Kolkata', 'Region_Mumbai', 'Region_Pune',\n",
              "       'Region_Thiruvananthapuram', 'Occupation_Cleaner', 'Occupation_Clerk',\n",
              "       'Occupation_Driver', 'Occupation_Farmer', 'Occupation_Legal',\n",
              "       'Occupation_Manufacturing', 'Occupation_Researcher', 'Occupation_Sales',\n",
              "       'comorbidity_Diabetes', 'comorbidity_Hypertension', 'comorbidity_None',\n",
              "       'Mode_transport_Public', 'Mode_transport_Walk', 'Pulmonary score_<200',\n",
              "       'Pulmonary score_<300', 'Pulmonary score_<400',\n",
              "       'cardiological pressure_Normal', 'cardiological pressure_Stage-01',\n",
              "       'cardiological pressure_Stage-02'],\n",
              "      dtype='object')"
            ]
          },
          "metadata": {
            "tags": []
          },
          "execution_count": 200
        }
      ]
    },
    {
      "cell_type": "code",
      "metadata": {
        "id": "gObwNNjuBLCd",
        "colab_type": "code",
        "colab": {
          "base_uri": "https://localhost:8080/",
          "height": 258
        },
        "outputId": "22bb4604-a5e8-48f7-f1a0-6ca3fe1b49b7"
      },
      "source": [
        "test.head()"
      ],
      "execution_count": 202,
      "outputs": [
        {
          "output_type": "execute_result",
          "data": {
            "text/html": [
              "<div>\n",
              "<style scoped>\n",
              "    .dataframe tbody tr th:only-of-type {\n",
              "        vertical-align: middle;\n",
              "    }\n",
              "\n",
              "    .dataframe tbody tr th {\n",
              "        vertical-align: top;\n",
              "    }\n",
              "\n",
              "    .dataframe thead th {\n",
              "        text-align: right;\n",
              "    }\n",
              "</style>\n",
              "<table border=\"1\" class=\"dataframe\">\n",
              "  <thead>\n",
              "    <tr style=\"text-align: right;\">\n",
              "      <th></th>\n",
              "      <th>people_ID</th>\n",
              "      <th>Gender</th>\n",
              "      <th>Designation</th>\n",
              "      <th>Married</th>\n",
              "      <th>Children</th>\n",
              "      <th>cases/1M</th>\n",
              "      <th>Deaths/1M</th>\n",
              "      <th>Age</th>\n",
              "      <th>Coma score</th>\n",
              "      <th>Diuresis</th>\n",
              "      <th>Platelets</th>\n",
              "      <th>HBB</th>\n",
              "      <th>d-dimer</th>\n",
              "      <th>Heart rate</th>\n",
              "      <th>HDL cholesterol</th>\n",
              "      <th>Charlson Index</th>\n",
              "      <th>Blood Glucose</th>\n",
              "      <th>Insurance</th>\n",
              "      <th>salary</th>\n",
              "      <th>FT/month</th>\n",
              "      <th>Occupation_Cleaner</th>\n",
              "      <th>Occupation_Clerk</th>\n",
              "      <th>Occupation_Driver</th>\n",
              "      <th>Occupation_Farmer</th>\n",
              "      <th>Occupation_Legal</th>\n",
              "      <th>Occupation_Manufacturing</th>\n",
              "      <th>Occupation_Researcher</th>\n",
              "      <th>Occupation_Sales</th>\n",
              "      <th>comorbidity_Diabetes</th>\n",
              "      <th>comorbidity_Hypertension</th>\n",
              "      <th>comorbidity_None</th>\n",
              "      <th>Mode_transport_Public</th>\n",
              "      <th>Mode_transport_Walk</th>\n",
              "      <th>Pulmonary score_&lt;200</th>\n",
              "      <th>Pulmonary score_&lt;300</th>\n",
              "      <th>Pulmonary score_&lt;400</th>\n",
              "      <th>cardiological pressure_Normal</th>\n",
              "      <th>cardiological pressure_Stage-01</th>\n",
              "      <th>cardiological pressure_Stage-02</th>\n",
              "    </tr>\n",
              "  </thead>\n",
              "  <tbody>\n",
              "    <tr>\n",
              "      <th>0</th>\n",
              "      <td>5942</td>\n",
              "      <td>1</td>\n",
              "      <td>1</td>\n",
              "      <td>1</td>\n",
              "      <td>2</td>\n",
              "      <td>4</td>\n",
              "      <td>1</td>\n",
              "      <td>52</td>\n",
              "      <td>3</td>\n",
              "      <td>388</td>\n",
              "      <td>153</td>\n",
              "      <td>196</td>\n",
              "      <td>240</td>\n",
              "      <td>85</td>\n",
              "      <td>53</td>\n",
              "      <td>17</td>\n",
              "      <td>3</td>\n",
              "      <td>3900000</td>\n",
              "      <td>1300000</td>\n",
              "      <td>1</td>\n",
              "      <td>0</td>\n",
              "      <td>0</td>\n",
              "      <td>1</td>\n",
              "      <td>0</td>\n",
              "      <td>0</td>\n",
              "      <td>0</td>\n",
              "      <td>0</td>\n",
              "      <td>0</td>\n",
              "      <td>1</td>\n",
              "      <td>0</td>\n",
              "      <td>0</td>\n",
              "      <td>1</td>\n",
              "      <td>0</td>\n",
              "      <td>1</td>\n",
              "      <td>0</td>\n",
              "      <td>0</td>\n",
              "      <td>0</td>\n",
              "      <td>1</td>\n",
              "      <td>0</td>\n",
              "    </tr>\n",
              "    <tr>\n",
              "      <th>1</th>\n",
              "      <td>18664</td>\n",
              "      <td>0</td>\n",
              "      <td>0</td>\n",
              "      <td>1</td>\n",
              "      <td>2</td>\n",
              "      <td>4</td>\n",
              "      <td>1</td>\n",
              "      <td>53</td>\n",
              "      <td>11</td>\n",
              "      <td>409</td>\n",
              "      <td>95</td>\n",
              "      <td>138</td>\n",
              "      <td>241</td>\n",
              "      <td>81</td>\n",
              "      <td>61</td>\n",
              "      <td>2</td>\n",
              "      <td>5</td>\n",
              "      <td>1800000</td>\n",
              "      <td>1300000</td>\n",
              "      <td>1</td>\n",
              "      <td>0</td>\n",
              "      <td>0</td>\n",
              "      <td>0</td>\n",
              "      <td>0</td>\n",
              "      <td>1</td>\n",
              "      <td>0</td>\n",
              "      <td>0</td>\n",
              "      <td>0</td>\n",
              "      <td>1</td>\n",
              "      <td>0</td>\n",
              "      <td>0</td>\n",
              "      <td>0</td>\n",
              "      <td>1</td>\n",
              "      <td>1</td>\n",
              "      <td>0</td>\n",
              "      <td>0</td>\n",
              "      <td>0</td>\n",
              "      <td>1</td>\n",
              "      <td>0</td>\n",
              "    </tr>\n",
              "    <tr>\n",
              "      <th>2</th>\n",
              "      <td>5603</td>\n",
              "      <td>1</td>\n",
              "      <td>1</td>\n",
              "      <td>1</td>\n",
              "      <td>2</td>\n",
              "      <td>4</td>\n",
              "      <td>1</td>\n",
              "      <td>35</td>\n",
              "      <td>9</td>\n",
              "      <td>440</td>\n",
              "      <td>40</td>\n",
              "      <td>166</td>\n",
              "      <td>236</td>\n",
              "      <td>88</td>\n",
              "      <td>47</td>\n",
              "      <td>24</td>\n",
              "      <td>3</td>\n",
              "      <td>5000000</td>\n",
              "      <td>2000000</td>\n",
              "      <td>2</td>\n",
              "      <td>0</td>\n",
              "      <td>0</td>\n",
              "      <td>0</td>\n",
              "      <td>0</td>\n",
              "      <td>0</td>\n",
              "      <td>0</td>\n",
              "      <td>0</td>\n",
              "      <td>1</td>\n",
              "      <td>1</td>\n",
              "      <td>0</td>\n",
              "      <td>0</td>\n",
              "      <td>0</td>\n",
              "      <td>0</td>\n",
              "      <td>0</td>\n",
              "      <td>0</td>\n",
              "      <td>0</td>\n",
              "      <td>0</td>\n",
              "      <td>0</td>\n",
              "      <td>1</td>\n",
              "    </tr>\n",
              "    <tr>\n",
              "      <th>3</th>\n",
              "      <td>5649</td>\n",
              "      <td>1</td>\n",
              "      <td>1</td>\n",
              "      <td>1</td>\n",
              "      <td>2</td>\n",
              "      <td>4</td>\n",
              "      <td>1</td>\n",
              "      <td>31</td>\n",
              "      <td>12</td>\n",
              "      <td>206</td>\n",
              "      <td>78</td>\n",
              "      <td>83</td>\n",
              "      <td>211</td>\n",
              "      <td>87</td>\n",
              "      <td>52</td>\n",
              "      <td>13</td>\n",
              "      <td>6</td>\n",
              "      <td>3100000</td>\n",
              "      <td>600000</td>\n",
              "      <td>2</td>\n",
              "      <td>0</td>\n",
              "      <td>0</td>\n",
              "      <td>0</td>\n",
              "      <td>0</td>\n",
              "      <td>0</td>\n",
              "      <td>0</td>\n",
              "      <td>0</td>\n",
              "      <td>1</td>\n",
              "      <td>0</td>\n",
              "      <td>0</td>\n",
              "      <td>1</td>\n",
              "      <td>0</td>\n",
              "      <td>0</td>\n",
              "      <td>0</td>\n",
              "      <td>1</td>\n",
              "      <td>0</td>\n",
              "      <td>0</td>\n",
              "      <td>0</td>\n",
              "      <td>0</td>\n",
              "    </tr>\n",
              "    <tr>\n",
              "      <th>4</th>\n",
              "      <td>5099</td>\n",
              "      <td>1</td>\n",
              "      <td>1</td>\n",
              "      <td>1</td>\n",
              "      <td>2</td>\n",
              "      <td>4</td>\n",
              "      <td>1</td>\n",
              "      <td>51</td>\n",
              "      <td>6</td>\n",
              "      <td>229</td>\n",
              "      <td>109</td>\n",
              "      <td>207</td>\n",
              "      <td>312</td>\n",
              "      <td>94</td>\n",
              "      <td>68</td>\n",
              "      <td>39</td>\n",
              "      <td>5</td>\n",
              "      <td>2300000</td>\n",
              "      <td>1500000</td>\n",
              "      <td>1</td>\n",
              "      <td>0</td>\n",
              "      <td>0</td>\n",
              "      <td>0</td>\n",
              "      <td>0</td>\n",
              "      <td>0</td>\n",
              "      <td>0</td>\n",
              "      <td>0</td>\n",
              "      <td>0</td>\n",
              "      <td>1</td>\n",
              "      <td>0</td>\n",
              "      <td>0</td>\n",
              "      <td>0</td>\n",
              "      <td>0</td>\n",
              "      <td>1</td>\n",
              "      <td>0</td>\n",
              "      <td>0</td>\n",
              "      <td>0</td>\n",
              "      <td>1</td>\n",
              "      <td>0</td>\n",
              "    </tr>\n",
              "  </tbody>\n",
              "</table>\n",
              "</div>"
            ],
            "text/plain": [
              "   people_ID  ...  cardiological pressure_Stage-02\n",
              "0       5942  ...                                0\n",
              "1      18664  ...                                0\n",
              "2       5603  ...                                1\n",
              "3       5649  ...                                0\n",
              "4       5099  ...                                0\n",
              "\n",
              "[5 rows x 39 columns]"
            ]
          },
          "metadata": {
            "tags": []
          },
          "execution_count": 202
        }
      ]
    },
    {
      "cell_type": "code",
      "metadata": {
        "id": "uihovW418eu5",
        "colab_type": "code",
        "colab": {}
      },
      "source": [
        "# reg=DecisionTreeRegressor(max_depth=5,random_state=10,min_samples_split=7)\n",
        "# reg.fit( train_x, train_y)\n",
        "# predictions = reg.predict(test)\n",
        "# # print(reg.score(test_x,test_y))\n",
        "\n",
        "predictions = reg.predict(test)\n"
      ],
      "execution_count": 0,
      "outputs": []
    },
    {
      "cell_type": "code",
      "metadata": {
        "id": "C8hBNN_ID192",
        "colab_type": "code",
        "colab": {}
      },
      "source": [
        "submission = pd.DataFrame(predictions,test['people_ID'])"
      ],
      "execution_count": 0,
      "outputs": []
    },
    {
      "cell_type": "code",
      "metadata": {
        "id": "zWsX9qQS8cGP",
        "colab_type": "code",
        "colab": {
          "base_uri": "https://localhost:8080/",
          "height": 235
        },
        "outputId": "dfa8ff49-5180-48bb-df21-e03ccf59d48b"
      },
      "source": [
        "submission.columns=['Infect_Prob']\n",
        "submission.head()"
      ],
      "execution_count": 211,
      "outputs": [
        {
          "output_type": "execute_result",
          "data": {
            "text/html": [
              "<div>\n",
              "<style scoped>\n",
              "    .dataframe tbody tr th:only-of-type {\n",
              "        vertical-align: middle;\n",
              "    }\n",
              "\n",
              "    .dataframe tbody tr th {\n",
              "        vertical-align: top;\n",
              "    }\n",
              "\n",
              "    .dataframe thead th {\n",
              "        text-align: right;\n",
              "    }\n",
              "</style>\n",
              "<table border=\"1\" class=\"dataframe\">\n",
              "  <thead>\n",
              "    <tr style=\"text-align: right;\">\n",
              "      <th></th>\n",
              "      <th>Infect_Prob</th>\n",
              "    </tr>\n",
              "    <tr>\n",
              "      <th>people_ID</th>\n",
              "      <th></th>\n",
              "    </tr>\n",
              "  </thead>\n",
              "  <tbody>\n",
              "    <tr>\n",
              "      <th>5942</th>\n",
              "      <td>52.701762</td>\n",
              "    </tr>\n",
              "    <tr>\n",
              "      <th>18664</th>\n",
              "      <td>52.701762</td>\n",
              "    </tr>\n",
              "    <tr>\n",
              "      <th>5603</th>\n",
              "      <td>52.701762</td>\n",
              "    </tr>\n",
              "    <tr>\n",
              "      <th>5649</th>\n",
              "      <td>52.701762</td>\n",
              "    </tr>\n",
              "    <tr>\n",
              "      <th>5099</th>\n",
              "      <td>52.701762</td>\n",
              "    </tr>\n",
              "  </tbody>\n",
              "</table>\n",
              "</div>"
            ],
            "text/plain": [
              "           Infect_Prob\n",
              "people_ID             \n",
              "5942         52.701762\n",
              "18664        52.701762\n",
              "5603         52.701762\n",
              "5649         52.701762\n",
              "5099         52.701762"
            ]
          },
          "metadata": {
            "tags": []
          },
          "execution_count": 211
        }
      ]
    },
    {
      "cell_type": "code",
      "metadata": {
        "id": "45iph1BZAoT_",
        "colab_type": "code",
        "colab": {
          "base_uri": "https://localhost:8080/",
          "height": 51
        },
        "outputId": "7605f702-58f0-48e7-938b-2dc686abaf28"
      },
      "source": [
        "submission.nunique()"
      ],
      "execution_count": 213,
      "outputs": [
        {
          "output_type": "execute_result",
          "data": {
            "text/plain": [
              "Infect_Prob    31\n",
              "dtype: int64"
            ]
          },
          "metadata": {
            "tags": []
          },
          "execution_count": 213
        }
      ]
    },
    {
      "cell_type": "code",
      "metadata": {
        "id": "JbxfCzFyA1cL",
        "colab_type": "code",
        "colab": {
          "base_uri": "https://localhost:8080/",
          "height": 51
        },
        "outputId": "bc82daac-c273-4600-f468-9b7e622cce27"
      },
      "source": [
        "predictions"
      ],
      "execution_count": 208,
      "outputs": [
        {
          "output_type": "execute_result",
          "data": {
            "text/plain": [
              "array([52.70176247, 52.70176247, 52.70176247, ..., 46.42916857,\n",
              "       46.42916857, 46.42916857])"
            ]
          },
          "metadata": {
            "tags": []
          },
          "execution_count": 208
        }
      ]
    },
    {
      "cell_type": "code",
      "metadata": {
        "id": "OMyOzCqgChxt",
        "colab_type": "code",
        "colab": {}
      },
      "source": [
        "submission.to_csv('Submission.csv')"
      ],
      "execution_count": 0,
      "outputs": []
    },
    {
      "cell_type": "code",
      "metadata": {
        "id": "havBUx93FOop",
        "colab_type": "code",
        "colab": {}
      },
      "source": [
        ""
      ],
      "execution_count": 0,
      "outputs": []
    }
  ]
}
