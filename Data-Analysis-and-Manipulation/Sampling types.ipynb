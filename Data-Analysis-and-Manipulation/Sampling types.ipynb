{
 "cells": [
  {
   "cell_type": "markdown",
   "metadata": {},
   "source": [
    "# Statistics 3 Important Points:\n",
    "\n",
    "### 1. Types of sampling:\n",
    "\n",
    "#### Simple random sampling. \n",
    "#### Systematic sampling. \n",
    "#### Stratified sampling. \n",
    "#### Clustered sampling. \n",
    "#### Convenience sampling. \n",
    "#### Quota sampling. \n",
    "#### Judgement (or Purposive) Sampling.\n",
    "#### Snowball sampling."
   ]
  },
  {
   "cell_type": "markdown",
   "metadata": {},
   "source": [
    "# Probability Sampling Methods\n",
    "\n",
    "## 1. Simple random sampling\n",
    "\n",
    "In this case each individual is chosen entirely by chance and each member of the population has an equal chance, or probability, of being selected. \n",
    "\n",
    "## 2. Systematic sampling\n",
    "\n",
    "Individuals are selected at regular intervals from the sampling frame. The intervals are chosen to ensure an adequate sample size. If you need a sample size n from a population of size x, you should select every x/nth individual for the sample.  For example, if you wanted a sample size of 100 from a population of 1000, select every 1000/100 = 10th member of the sampling frame.\n",
    "\n",
    "Systematic sampling is often more convenient than simple random sampling, and it is easy to administer.\n",
    "\n",
    "## 3. Stratified sampling\n",
    "\n",
    "In this method, the population is first divided into subgroups (or strata) who all share a similar characteristic. It is used when we might reasonably expect the measurement of interest to vary between the different subgroups, and we want to ensure representation from all the subgroups. For example, in a study of stroke outcomes, we may stratify the population by sex, to ensure equal representation of men and women. The study sample is then obtained by taking equal sample sizes from each stratum.\n",
    "\n",
    "\n",
    "## 4. Clustered sampling\n",
    "\n",
    "In a clustered sample, subgroups of the population are used as the sampling unit, rather than individuals. The population is divided into subgroups, known as clusters, which are randomly selected to be included in the study. Clusters are usually already defined, for example individual GP practices or towns could be identified as clusters.\n",
    "\n",
    "## 5. Convenience sampling\n",
    "\n",
    "Convenience sampling is perhaps the easiest method of sampling, because participants are selected based on availability and willingness to take part. Useful results can be obtained, but the results are prone to significant bias, because those who volunteer to take part may be different from those who choose not to (volunteer bias), and the sample may not be representative of other characteristics, such as age or sex. Note: volunteer bias is a risk of all non-probability sampling methods."
   ]
  },
  {
   "cell_type": "code",
   "execution_count": null,
   "metadata": {},
   "outputs": [],
   "source": []
  }
 ],
 "metadata": {
  "kernelspec": {
   "display_name": "Python 3",
   "language": "python",
   "name": "python3"
  },
  "language_info": {
   "codemirror_mode": {
    "name": "ipython",
    "version": 3
   },
   "file_extension": ".py",
   "mimetype": "text/x-python",
   "name": "python",
   "nbconvert_exporter": "python",
   "pygments_lexer": "ipython3",
   "version": "3.7.3"
  }
 },
 "nbformat": 4,
 "nbformat_minor": 2
}
