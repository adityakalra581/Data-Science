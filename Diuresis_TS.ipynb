{
  "nbformat": 4,
  "nbformat_minor": 0,
  "metadata": {
    "colab": {
      "name": "Diuresis_TS.ipynb",
      "provenance": [],
      "collapsed_sections": [],
      "authorship_tag": "ABX9TyNybC9MDPeNbrarxp/oyS7n",
      "include_colab_link": true
    },
    "kernelspec": {
      "name": "python3",
      "display_name": "Python 3"
    }
  },
  "cells": [
    {
      "cell_type": "markdown",
      "metadata": {
        "id": "view-in-github",
        "colab_type": "text"
      },
      "source": [
        "<a href=\"https://colab.research.google.com/github/adityakalra581/Data-Science/blob/master/Diuresis_TS.ipynb\" target=\"_parent\"><img src=\"https://colab.research.google.com/assets/colab-badge.svg\" alt=\"Open In Colab\"/></a>"
      ]
    },
    {
      "cell_type": "code",
      "metadata": {
        "id": "TTxelpCmZyVw",
        "colab_type": "code",
        "colab": {}
      },
      "source": [
        "import pandas as pd\n",
        "import numpy as np\n",
        "import matplotlib.pyplot as plt\n",
        "import seaborn as sns\n"
      ],
      "execution_count": 0,
      "outputs": []
    },
    {
      "cell_type": "markdown",
      "metadata": {
        "id": "D0vq5gQWbfpS",
        "colab_type": "text"
      },
      "source": [
        "## Reading a Different Sheet in Pandas"
      ]
    },
    {
      "cell_type": "code",
      "metadata": {
        "id": "0WeMfNORZ9Ea",
        "colab_type": "code",
        "colab": {}
      },
      "source": [
        "\n",
        "\n",
        "# xls = pd.ExcelFile('path_to_file.xls')\n",
        "# df1 = pd.read_excel(xls, 'Sheet1')\n",
        "# df2 = pd.read_excel(xls, 'Sheet2')\n",
        "\n",
        "\n",
        "\n",
        "xls = pd.ExcelFile(\"Train_dataset.xlsx\")\n",
        "data = pd.read_excel(xls,'Diuresis_TS')\n"
      ],
      "execution_count": 0,
      "outputs": []
    },
    {
      "cell_type": "code",
      "metadata": {
        "id": "hcikIMH3bYyJ",
        "colab_type": "code",
        "colab": {
          "base_uri": "https://localhost:8080/",
          "height": 221
        },
        "outputId": "34bc99ca-41ab-42b8-805c-abfb138a9db5"
      },
      "source": [
        "data.head()"
      ],
      "execution_count": 46,
      "outputs": [
        {
          "output_type": "execute_result",
          "data": {
            "text/html": [
              "<div>\n",
              "<style scoped>\n",
              "    .dataframe tbody tr th:only-of-type {\n",
              "        vertical-align: middle;\n",
              "    }\n",
              "\n",
              "    .dataframe tbody tr th {\n",
              "        vertical-align: top;\n",
              "    }\n",
              "\n",
              "    .dataframe thead th {\n",
              "        text-align: right;\n",
              "    }\n",
              "</style>\n",
              "<table border=\"1\" class=\"dataframe\">\n",
              "  <thead>\n",
              "    <tr style=\"text-align: right;\">\n",
              "      <th></th>\n",
              "      <th>people_ID</th>\n",
              "      <th>2020-03-20 00:00:00</th>\n",
              "      <th>2020-03-21 00:00:00</th>\n",
              "      <th>2020-03-22 00:00:00</th>\n",
              "      <th>2020-03-23 00:00:00</th>\n",
              "      <th>2020-03-24 00:00:00</th>\n",
              "      <th>2020-03-25 00:00:00</th>\n",
              "      <th>2020-03-26 00:00:00</th>\n",
              "    </tr>\n",
              "  </thead>\n",
              "  <tbody>\n",
              "    <tr>\n",
              "      <th>0</th>\n",
              "      <td>1</td>\n",
              "      <td>441</td>\n",
              "      <td>544.2</td>\n",
              "      <td>669.64</td>\n",
              "      <td>821.368</td>\n",
              "      <td>1002.2416</td>\n",
              "      <td>1215.68992</td>\n",
              "      <td>1472.627904</td>\n",
              "    </tr>\n",
              "    <tr>\n",
              "      <th>1</th>\n",
              "      <td>2</td>\n",
              "      <td>151</td>\n",
              "      <td>197.2</td>\n",
              "      <td>253.24</td>\n",
              "      <td>321.688</td>\n",
              "      <td>399.9256</td>\n",
              "      <td>492.91072</td>\n",
              "      <td>606.892864</td>\n",
              "    </tr>\n",
              "    <tr>\n",
              "      <th>2</th>\n",
              "      <td>3</td>\n",
              "      <td>416</td>\n",
              "      <td>515.2</td>\n",
              "      <td>632.44</td>\n",
              "      <td>776.728</td>\n",
              "      <td>947.7736</td>\n",
              "      <td>1150.32832</td>\n",
              "      <td>1395.793984</td>\n",
              "    </tr>\n",
              "    <tr>\n",
              "      <th>3</th>\n",
              "      <td>4</td>\n",
              "      <td>410</td>\n",
              "      <td>506.0</td>\n",
              "      <td>621.40</td>\n",
              "      <td>761.880</td>\n",
              "      <td>928.1560</td>\n",
              "      <td>1126.78720</td>\n",
              "      <td>1368.344640</td>\n",
              "    </tr>\n",
              "    <tr>\n",
              "      <th>4</th>\n",
              "      <td>5</td>\n",
              "      <td>390</td>\n",
              "      <td>483.0</td>\n",
              "      <td>595.00</td>\n",
              "      <td>730.200</td>\n",
              "      <td>892.8400</td>\n",
              "      <td>1084.40800</td>\n",
              "      <td>1315.889600</td>\n",
              "    </tr>\n",
              "  </tbody>\n",
              "</table>\n",
              "</div>"
            ],
            "text/plain": [
              "   people_ID  2020-03-20 00:00:00  ...  2020-03-25 00:00:00  2020-03-26 00:00:00\n",
              "0          1                  441  ...           1215.68992          1472.627904\n",
              "1          2                  151  ...            492.91072           606.892864\n",
              "2          3                  416  ...           1150.32832          1395.793984\n",
              "3          4                  410  ...           1126.78720          1368.344640\n",
              "4          5                  390  ...           1084.40800          1315.889600\n",
              "\n",
              "[5 rows x 8 columns]"
            ]
          },
          "metadata": {
            "tags": []
          },
          "execution_count": 46
        }
      ]
    },
    {
      "cell_type": "code",
      "metadata": {
        "id": "xy1YeFOdbbXw",
        "colab_type": "code",
        "colab": {
          "base_uri": "https://localhost:8080/",
          "height": 34
        },
        "outputId": "aacf24e0-e262-45c3-a471-dce8211d0b75"
      },
      "source": [
        "data.shape"
      ],
      "execution_count": 47,
      "outputs": [
        {
          "output_type": "execute_result",
          "data": {
            "text/plain": [
              "(10714, 8)"
            ]
          },
          "metadata": {
            "tags": []
          },
          "execution_count": 47
        }
      ]
    },
    {
      "cell_type": "code",
      "metadata": {
        "id": "EsrTJzsvqjTF",
        "colab_type": "code",
        "colab": {
          "base_uri": "https://localhost:8080/",
          "height": 170
        },
        "outputId": "bea07cda-7c8d-491f-91cb-98b7da413a95"
      },
      "source": [
        "data.dtypes"
      ],
      "execution_count": 48,
      "outputs": [
        {
          "output_type": "execute_result",
          "data": {
            "text/plain": [
              "people_ID                int64\n",
              "2020-03-20 00:00:00      int64\n",
              "2020-03-21 00:00:00    float64\n",
              "2020-03-22 00:00:00    float64\n",
              "2020-03-23 00:00:00    float64\n",
              "2020-03-24 00:00:00    float64\n",
              "2020-03-25 00:00:00    float64\n",
              "2020-03-26 00:00:00    float64\n",
              "dtype: object"
            ]
          },
          "metadata": {
            "tags": []
          },
          "execution_count": 48
        }
      ]
    },
    {
      "cell_type": "code",
      "metadata": {
        "id": "J5itP6X1rdQO",
        "colab_type": "code",
        "colab": {
          "base_uri": "https://localhost:8080/",
          "height": 85
        },
        "outputId": "316fba39-f464-4e19-acd7-17252bfeb724"
      },
      "source": [
        "data.columns"
      ],
      "execution_count": 49,
      "outputs": [
        {
          "output_type": "execute_result",
          "data": {
            "text/plain": [
              "Index([        'people_ID', 2020-03-20 00:00:00, 2020-03-21 00:00:00,\n",
              "       2020-03-22 00:00:00, 2020-03-23 00:00:00, 2020-03-24 00:00:00,\n",
              "       2020-03-25 00:00:00, 2020-03-26 00:00:00],\n",
              "      dtype='object')"
            ]
          },
          "metadata": {
            "tags": []
          },
          "execution_count": 49
        }
      ]
    },
    {
      "cell_type": "code",
      "metadata": {
        "id": "BNJDVu38qoIy",
        "colab_type": "code",
        "colab": {
          "base_uri": "https://localhost:8080/",
          "height": 204
        },
        "outputId": "8cbf401f-d035-4442-831f-296582651e18"
      },
      "source": [
        "data.columns=['people_ID','20','21','22','23','24','25','26']\n",
        "data.head()"
      ],
      "execution_count": 50,
      "outputs": [
        {
          "output_type": "execute_result",
          "data": {
            "text/html": [
              "<div>\n",
              "<style scoped>\n",
              "    .dataframe tbody tr th:only-of-type {\n",
              "        vertical-align: middle;\n",
              "    }\n",
              "\n",
              "    .dataframe tbody tr th {\n",
              "        vertical-align: top;\n",
              "    }\n",
              "\n",
              "    .dataframe thead th {\n",
              "        text-align: right;\n",
              "    }\n",
              "</style>\n",
              "<table border=\"1\" class=\"dataframe\">\n",
              "  <thead>\n",
              "    <tr style=\"text-align: right;\">\n",
              "      <th></th>\n",
              "      <th>people_ID</th>\n",
              "      <th>20</th>\n",
              "      <th>21</th>\n",
              "      <th>22</th>\n",
              "      <th>23</th>\n",
              "      <th>24</th>\n",
              "      <th>25</th>\n",
              "      <th>26</th>\n",
              "    </tr>\n",
              "  </thead>\n",
              "  <tbody>\n",
              "    <tr>\n",
              "      <th>0</th>\n",
              "      <td>1</td>\n",
              "      <td>441</td>\n",
              "      <td>544.2</td>\n",
              "      <td>669.64</td>\n",
              "      <td>821.368</td>\n",
              "      <td>1002.2416</td>\n",
              "      <td>1215.68992</td>\n",
              "      <td>1472.627904</td>\n",
              "    </tr>\n",
              "    <tr>\n",
              "      <th>1</th>\n",
              "      <td>2</td>\n",
              "      <td>151</td>\n",
              "      <td>197.2</td>\n",
              "      <td>253.24</td>\n",
              "      <td>321.688</td>\n",
              "      <td>399.9256</td>\n",
              "      <td>492.91072</td>\n",
              "      <td>606.892864</td>\n",
              "    </tr>\n",
              "    <tr>\n",
              "      <th>2</th>\n",
              "      <td>3</td>\n",
              "      <td>416</td>\n",
              "      <td>515.2</td>\n",
              "      <td>632.44</td>\n",
              "      <td>776.728</td>\n",
              "      <td>947.7736</td>\n",
              "      <td>1150.32832</td>\n",
              "      <td>1395.793984</td>\n",
              "    </tr>\n",
              "    <tr>\n",
              "      <th>3</th>\n",
              "      <td>4</td>\n",
              "      <td>410</td>\n",
              "      <td>506.0</td>\n",
              "      <td>621.40</td>\n",
              "      <td>761.880</td>\n",
              "      <td>928.1560</td>\n",
              "      <td>1126.78720</td>\n",
              "      <td>1368.344640</td>\n",
              "    </tr>\n",
              "    <tr>\n",
              "      <th>4</th>\n",
              "      <td>5</td>\n",
              "      <td>390</td>\n",
              "      <td>483.0</td>\n",
              "      <td>595.00</td>\n",
              "      <td>730.200</td>\n",
              "      <td>892.8400</td>\n",
              "      <td>1084.40800</td>\n",
              "      <td>1315.889600</td>\n",
              "    </tr>\n",
              "  </tbody>\n",
              "</table>\n",
              "</div>"
            ],
            "text/plain": [
              "   people_ID   20     21      22       23         24          25           26\n",
              "0          1  441  544.2  669.64  821.368  1002.2416  1215.68992  1472.627904\n",
              "1          2  151  197.2  253.24  321.688   399.9256   492.91072   606.892864\n",
              "2          3  416  515.2  632.44  776.728   947.7736  1150.32832  1395.793984\n",
              "3          4  410  506.0  621.40  761.880   928.1560  1126.78720  1368.344640\n",
              "4          5  390  483.0  595.00  730.200   892.8400  1084.40800  1315.889600"
            ]
          },
          "metadata": {
            "tags": []
          },
          "execution_count": 50
        }
      ]
    },
    {
      "cell_type": "code",
      "metadata": {
        "id": "Xv4bCfLXs8ek",
        "colab_type": "code",
        "colab": {}
      },
      "source": [
        "\n"
      ],
      "execution_count": 0,
      "outputs": []
    },
    {
      "cell_type": "code",
      "metadata": {
        "id": "aMaDNGDut-m-",
        "colab_type": "code",
        "colab": {
          "base_uri": "https://localhost:8080/",
          "height": 170
        },
        "outputId": "bf05273d-86ee-4344-e1d1-a9cee3c17a91"
      },
      "source": [
        "data.dtypes"
      ],
      "execution_count": 51,
      "outputs": [
        {
          "output_type": "execute_result",
          "data": {
            "text/plain": [
              "people_ID      int64\n",
              "20             int64\n",
              "21           float64\n",
              "22           float64\n",
              "23           float64\n",
              "24           float64\n",
              "25           float64\n",
              "26           float64\n",
              "dtype: object"
            ]
          },
          "metadata": {
            "tags": []
          },
          "execution_count": 51
        }
      ]
    },
    {
      "cell_type": "markdown",
      "metadata": {
        "id": "17pao3iZ0xgv",
        "colab_type": "text"
      },
      "source": [
        "## Melting the Data\n",
        "\n",
        "- To make analysis of data in table easier, we can reshape the data into a more computer-friendly form using Pandas in Python. Pandas.melt() is one of the function to do so..\n",
        "Pandas.melt() unpivots a DataFrame from wide format to long format.\n",
        "\n",
        "- Read more here:  \n",
        "\n",
        "- [pandas.melt](https://www.geeksforgeeks.org/python-pandas-melt/)"
      ]
    },
    {
      "cell_type": "code",
      "metadata": {
        "id": "GOkhXNE7eFCU",
        "colab_type": "code",
        "colab": {
          "base_uri": "https://localhost:8080/",
          "height": 204
        },
        "outputId": "aaf172d9-84de-4a2c-e579-6ec0661c7011"
      },
      "source": [
        "melt = data.melt(id_vars='people_ID', var_name='Date', value_name='Diuresis')\n",
        "\n",
        "melt.head()"
      ],
      "execution_count": 52,
      "outputs": [
        {
          "output_type": "execute_result",
          "data": {
            "text/html": [
              "<div>\n",
              "<style scoped>\n",
              "    .dataframe tbody tr th:only-of-type {\n",
              "        vertical-align: middle;\n",
              "    }\n",
              "\n",
              "    .dataframe tbody tr th {\n",
              "        vertical-align: top;\n",
              "    }\n",
              "\n",
              "    .dataframe thead th {\n",
              "        text-align: right;\n",
              "    }\n",
              "</style>\n",
              "<table border=\"1\" class=\"dataframe\">\n",
              "  <thead>\n",
              "    <tr style=\"text-align: right;\">\n",
              "      <th></th>\n",
              "      <th>people_ID</th>\n",
              "      <th>Date</th>\n",
              "      <th>Diuresis</th>\n",
              "    </tr>\n",
              "  </thead>\n",
              "  <tbody>\n",
              "    <tr>\n",
              "      <th>0</th>\n",
              "      <td>1</td>\n",
              "      <td>20</td>\n",
              "      <td>441.0</td>\n",
              "    </tr>\n",
              "    <tr>\n",
              "      <th>1</th>\n",
              "      <td>2</td>\n",
              "      <td>20</td>\n",
              "      <td>151.0</td>\n",
              "    </tr>\n",
              "    <tr>\n",
              "      <th>2</th>\n",
              "      <td>3</td>\n",
              "      <td>20</td>\n",
              "      <td>416.0</td>\n",
              "    </tr>\n",
              "    <tr>\n",
              "      <th>3</th>\n",
              "      <td>4</td>\n",
              "      <td>20</td>\n",
              "      <td>410.0</td>\n",
              "    </tr>\n",
              "    <tr>\n",
              "      <th>4</th>\n",
              "      <td>5</td>\n",
              "      <td>20</td>\n",
              "      <td>390.0</td>\n",
              "    </tr>\n",
              "  </tbody>\n",
              "</table>\n",
              "</div>"
            ],
            "text/plain": [
              "   people_ID Date  Diuresis\n",
              "0          1   20     441.0\n",
              "1          2   20     151.0\n",
              "2          3   20     416.0\n",
              "3          4   20     410.0\n",
              "4          5   20     390.0"
            ]
          },
          "metadata": {
            "tags": []
          },
          "execution_count": 52
        }
      ]
    },
    {
      "cell_type": "code",
      "metadata": {
        "id": "8kDIJjyEpb1m",
        "colab_type": "code",
        "colab": {
          "base_uri": "https://localhost:8080/",
          "height": 34
        },
        "outputId": "0bafc49e-5b7b-4705-c5d7-f69c1f93778f"
      },
      "source": [
        "melt.shape"
      ],
      "execution_count": 53,
      "outputs": [
        {
          "output_type": "execute_result",
          "data": {
            "text/plain": [
              "(74998, 3)"
            ]
          },
          "metadata": {
            "tags": []
          },
          "execution_count": 53
        }
      ]
    },
    {
      "cell_type": "code",
      "metadata": {
        "id": "_2KndDrovaUI",
        "colab_type": "code",
        "colab": {
          "base_uri": "https://localhost:8080/",
          "height": 204
        },
        "outputId": "833f3871-57b0-42dd-9537-6611b5211882"
      },
      "source": [
        "melt.head()"
      ],
      "execution_count": 55,
      "outputs": [
        {
          "output_type": "execute_result",
          "data": {
            "text/html": [
              "<div>\n",
              "<style scoped>\n",
              "    .dataframe tbody tr th:only-of-type {\n",
              "        vertical-align: middle;\n",
              "    }\n",
              "\n",
              "    .dataframe tbody tr th {\n",
              "        vertical-align: top;\n",
              "    }\n",
              "\n",
              "    .dataframe thead th {\n",
              "        text-align: right;\n",
              "    }\n",
              "</style>\n",
              "<table border=\"1\" class=\"dataframe\">\n",
              "  <thead>\n",
              "    <tr style=\"text-align: right;\">\n",
              "      <th></th>\n",
              "      <th>people_ID</th>\n",
              "      <th>Date</th>\n",
              "      <th>Diuresis</th>\n",
              "    </tr>\n",
              "  </thead>\n",
              "  <tbody>\n",
              "    <tr>\n",
              "      <th>0</th>\n",
              "      <td>1</td>\n",
              "      <td>20</td>\n",
              "      <td>441.0</td>\n",
              "    </tr>\n",
              "    <tr>\n",
              "      <th>1</th>\n",
              "      <td>2</td>\n",
              "      <td>20</td>\n",
              "      <td>151.0</td>\n",
              "    </tr>\n",
              "    <tr>\n",
              "      <th>2</th>\n",
              "      <td>3</td>\n",
              "      <td>20</td>\n",
              "      <td>416.0</td>\n",
              "    </tr>\n",
              "    <tr>\n",
              "      <th>3</th>\n",
              "      <td>4</td>\n",
              "      <td>20</td>\n",
              "      <td>410.0</td>\n",
              "    </tr>\n",
              "    <tr>\n",
              "      <th>4</th>\n",
              "      <td>5</td>\n",
              "      <td>20</td>\n",
              "      <td>390.0</td>\n",
              "    </tr>\n",
              "  </tbody>\n",
              "</table>\n",
              "</div>"
            ],
            "text/plain": [
              "   people_ID Date  Diuresis\n",
              "0          1   20     441.0\n",
              "1          2   20     151.0\n",
              "2          3   20     416.0\n",
              "3          4   20     410.0\n",
              "4          5   20     390.0"
            ]
          },
          "metadata": {
            "tags": []
          },
          "execution_count": 55
        }
      ]
    },
    {
      "cell_type": "code",
      "metadata": {
        "id": "gSeT0HHh7XYQ",
        "colab_type": "code",
        "colab": {}
      },
      "source": [
        ""
      ],
      "execution_count": 0,
      "outputs": []
    },
    {
      "cell_type": "markdown",
      "metadata": {
        "id": "2XO-FQri7YTi",
        "colab_type": "text"
      },
      "source": [
        "## Sorting a Dataframe w.r.t a Column\n",
        "\n",
        "- [pd.sort_values](https://pandas.pydata.org/pandas-docs/stable/reference/api/pandas.DataFrame.sort_values.html)"
      ]
    },
    {
      "cell_type": "code",
      "metadata": {
        "id": "gaJM6Xh8vhzP",
        "colab_type": "code",
        "colab": {
          "base_uri": "https://localhost:8080/",
          "height": 669
        },
        "outputId": "0e6bc6a2-cc95-4e66-fb56-d30e8069d180"
      },
      "source": [
        "data = melt.sort_values(by=['people_ID','Date'])\n",
        "data.head(20)"
      ],
      "execution_count": 62,
      "outputs": [
        {
          "output_type": "execute_result",
          "data": {
            "text/html": [
              "<div>\n",
              "<style scoped>\n",
              "    .dataframe tbody tr th:only-of-type {\n",
              "        vertical-align: middle;\n",
              "    }\n",
              "\n",
              "    .dataframe tbody tr th {\n",
              "        vertical-align: top;\n",
              "    }\n",
              "\n",
              "    .dataframe thead th {\n",
              "        text-align: right;\n",
              "    }\n",
              "</style>\n",
              "<table border=\"1\" class=\"dataframe\">\n",
              "  <thead>\n",
              "    <tr style=\"text-align: right;\">\n",
              "      <th></th>\n",
              "      <th>people_ID</th>\n",
              "      <th>Date</th>\n",
              "      <th>Diuresis</th>\n",
              "    </tr>\n",
              "  </thead>\n",
              "  <tbody>\n",
              "    <tr>\n",
              "      <th>0</th>\n",
              "      <td>1</td>\n",
              "      <td>20</td>\n",
              "      <td>441.000000</td>\n",
              "    </tr>\n",
              "    <tr>\n",
              "      <th>10714</th>\n",
              "      <td>1</td>\n",
              "      <td>21</td>\n",
              "      <td>544.200000</td>\n",
              "    </tr>\n",
              "    <tr>\n",
              "      <th>21428</th>\n",
              "      <td>1</td>\n",
              "      <td>22</td>\n",
              "      <td>669.640000</td>\n",
              "    </tr>\n",
              "    <tr>\n",
              "      <th>32142</th>\n",
              "      <td>1</td>\n",
              "      <td>23</td>\n",
              "      <td>821.368000</td>\n",
              "    </tr>\n",
              "    <tr>\n",
              "      <th>42856</th>\n",
              "      <td>1</td>\n",
              "      <td>24</td>\n",
              "      <td>1002.241600</td>\n",
              "    </tr>\n",
              "    <tr>\n",
              "      <th>53570</th>\n",
              "      <td>1</td>\n",
              "      <td>25</td>\n",
              "      <td>1215.689920</td>\n",
              "    </tr>\n",
              "    <tr>\n",
              "      <th>64284</th>\n",
              "      <td>1</td>\n",
              "      <td>26</td>\n",
              "      <td>1472.627904</td>\n",
              "    </tr>\n",
              "    <tr>\n",
              "      <th>1</th>\n",
              "      <td>2</td>\n",
              "      <td>20</td>\n",
              "      <td>151.000000</td>\n",
              "    </tr>\n",
              "    <tr>\n",
              "      <th>10715</th>\n",
              "      <td>2</td>\n",
              "      <td>21</td>\n",
              "      <td>197.200000</td>\n",
              "    </tr>\n",
              "    <tr>\n",
              "      <th>21429</th>\n",
              "      <td>2</td>\n",
              "      <td>22</td>\n",
              "      <td>253.240000</td>\n",
              "    </tr>\n",
              "    <tr>\n",
              "      <th>32143</th>\n",
              "      <td>2</td>\n",
              "      <td>23</td>\n",
              "      <td>321.688000</td>\n",
              "    </tr>\n",
              "    <tr>\n",
              "      <th>42857</th>\n",
              "      <td>2</td>\n",
              "      <td>24</td>\n",
              "      <td>399.925600</td>\n",
              "    </tr>\n",
              "    <tr>\n",
              "      <th>53571</th>\n",
              "      <td>2</td>\n",
              "      <td>25</td>\n",
              "      <td>492.910720</td>\n",
              "    </tr>\n",
              "    <tr>\n",
              "      <th>64285</th>\n",
              "      <td>2</td>\n",
              "      <td>26</td>\n",
              "      <td>606.892864</td>\n",
              "    </tr>\n",
              "    <tr>\n",
              "      <th>2</th>\n",
              "      <td>3</td>\n",
              "      <td>20</td>\n",
              "      <td>416.000000</td>\n",
              "    </tr>\n",
              "    <tr>\n",
              "      <th>10716</th>\n",
              "      <td>3</td>\n",
              "      <td>21</td>\n",
              "      <td>515.200000</td>\n",
              "    </tr>\n",
              "    <tr>\n",
              "      <th>21430</th>\n",
              "      <td>3</td>\n",
              "      <td>22</td>\n",
              "      <td>632.440000</td>\n",
              "    </tr>\n",
              "    <tr>\n",
              "      <th>32144</th>\n",
              "      <td>3</td>\n",
              "      <td>23</td>\n",
              "      <td>776.728000</td>\n",
              "    </tr>\n",
              "    <tr>\n",
              "      <th>42858</th>\n",
              "      <td>3</td>\n",
              "      <td>24</td>\n",
              "      <td>947.773600</td>\n",
              "    </tr>\n",
              "    <tr>\n",
              "      <th>53572</th>\n",
              "      <td>3</td>\n",
              "      <td>25</td>\n",
              "      <td>1150.328320</td>\n",
              "    </tr>\n",
              "  </tbody>\n",
              "</table>\n",
              "</div>"
            ],
            "text/plain": [
              "       people_ID Date     Diuresis\n",
              "0              1   20   441.000000\n",
              "10714          1   21   544.200000\n",
              "21428          1   22   669.640000\n",
              "32142          1   23   821.368000\n",
              "42856          1   24  1002.241600\n",
              "53570          1   25  1215.689920\n",
              "64284          1   26  1472.627904\n",
              "1              2   20   151.000000\n",
              "10715          2   21   197.200000\n",
              "21429          2   22   253.240000\n",
              "32143          2   23   321.688000\n",
              "42857          2   24   399.925600\n",
              "53571          2   25   492.910720\n",
              "64285          2   26   606.892864\n",
              "2              3   20   416.000000\n",
              "10716          3   21   515.200000\n",
              "21430          3   22   632.440000\n",
              "32144          3   23   776.728000\n",
              "42858          3   24   947.773600\n",
              "53572          3   25  1150.328320"
            ]
          },
          "metadata": {
            "tags": []
          },
          "execution_count": 62
        }
      ]
    },
    {
      "cell_type": "code",
      "metadata": {
        "id": "X9H-YKoG8dDn",
        "colab_type": "code",
        "colab": {
          "base_uri": "https://localhost:8080/",
          "height": 85
        },
        "outputId": "cf1eaf4b-b89d-473d-cda8-059faf3efbb5"
      },
      "source": [
        "data.isnull().sum()"
      ],
      "execution_count": 63,
      "outputs": [
        {
          "output_type": "execute_result",
          "data": {
            "text/plain": [
              "people_ID    0\n",
              "Date         0\n",
              "Diuresis     0\n",
              "dtype: int64"
            ]
          },
          "metadata": {
            "tags": []
          },
          "execution_count": 63
        }
      ]
    },
    {
      "cell_type": "markdown",
      "metadata": {
        "id": "ixsSTBq98iTg",
        "colab_type": "text"
      },
      "source": [
        "- Thank god there are no missing Values."
      ]
    },
    {
      "cell_type": "code",
      "metadata": {
        "id": "eFMzSsI_4eUp",
        "colab_type": "code",
        "colab": {
          "base_uri": "https://localhost:8080/",
          "height": 530
        },
        "outputId": "a6e97f7a-6393-4a1c-989f-c7db94cd74a7"
      },
      "source": [
        "plt.figure(figsize=(15,8))\n",
        "plt.scatter(x='Date',y='Diuresis',data=data)\n",
        "plt.xlabel(\"DATES\")\n",
        "plt.ylabel(\"DIURESIS\")\n",
        "plt.title(\"INCREASING DIURESIS WITH INCREASE IN DAYS\")"
      ],
      "execution_count": 68,
      "outputs": [
        {
          "output_type": "execute_result",
          "data": {
            "text/plain": [
              "Text(0.5, 1.0, 'INCREASING DIURESIS WITH INCREASE IN DAYS')"
            ]
          },
          "metadata": {
            "tags": []
          },
          "execution_count": 68
        },
        {
          "output_type": "display_data",
          "data": {
            "image/png": "[encoded data removed]",
            "text/plain": [
              "<Figure size 1080x576 with 1 Axes>"
            ]
          },
          "metadata": {
            "tags": []
          }
        }
      ]
    },
    {
      "cell_type": "markdown",
      "metadata": {
        "id": "tHn2X2Ja90H2",
        "colab_type": "text"
      },
      "source": [
        "- Clearly we can see the Trend."
      ]
    },
    {
      "cell_type": "code",
      "metadata": {
        "id": "UGTsagXu6Vyn",
        "colab_type": "code",
        "colab": {
          "base_uri": "https://localhost:8080/",
          "height": 332
        },
        "outputId": "25fb9e5f-4b44-4546-cafc-666e2f237b7a"
      },
      "source": [
        "data.hist(bins=30)"
      ],
      "execution_count": 70,
      "outputs": [
        {
          "output_type": "execute_result",
          "data": {
            "text/plain": [
              "array([[<matplotlib.axes._subplots.AxesSubplot object at 0x7fa899b41cf8>,\n",
              "        <matplotlib.axes._subplots.AxesSubplot object at 0x7fa899b6b6d8>]],\n",
              "      dtype=object)"
            ]
          },
          "metadata": {
            "tags": []
          },
          "execution_count": 70
        },
        {
          "output_type": "display_data",
          "data": {
            "image/png": "[encoded data removed]",
            "text/plain": [
              "<Figure size 432x288 with 2 Axes>"
            ]
          },
          "metadata": {
            "tags": []
          }
        }
      ]
    },
    {
      "cell_type": "code",
      "metadata": {
        "id": "HyNrOi6t-Odb",
        "colab_type": "code",
        "colab": {}
      },
      "source": [
        ""
      ],
      "execution_count": 0,
      "outputs": []
    }
  ]
}