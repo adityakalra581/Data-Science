{
  "nbformat": 4,
  "nbformat_minor": 0,
  "metadata": {
    "colab": {
      "name": "Flipr Challenge.ipynb",
      "provenance": [],
      "collapsed_sections": [],
      "authorship_tag": "ABX9TyNNHHIP5qncVhCCut2PnPXR",
      "include_colab_link": true
    },
    "kernelspec": {
      "name": "python3",
      "display_name": "Python 3"
    }
  },
  "cells": [
    {
      "cell_type": "markdown",
      "metadata": {
        "id": "view-in-github",
        "colab_type": "text"
      },
      "source": [
        "<a href=\"https://colab.research.google.com/github/adityakalra581/Data-Science/blob/master/Flipr_Challenge.ipynb\" target=\"_parent\"><img src=\"https://colab.research.google.com/assets/colab-badge.svg\" alt=\"Open In Colab\"/></a>"
      ]
    },
    {
      "cell_type": "code",
      "metadata": {
        "id": "BY26d3RMPZZe",
        "colab_type": "code",
        "colab": {}
      },
      "source": [
        "import pandas as pd\n",
        "import numpy as np\n",
        "import seaborn as sns\n",
        "import matplotlib.pyplot as plt\n",
        "\n",
        "from sklearn.model_selection import train_test_split\n",
        "from sklearn.linear_model import LinearRegression\n"
      ],
      "execution_count": 0,
      "outputs": []
    },
    {
      "cell_type": "code",
      "metadata": {
        "id": "qkWZ6WuqPimA",
        "colab_type": "code",
        "colab": {}
      },
      "source": [
        "train = pd.read_excel(\"Train_dataset.xlsx\")\n",
        "test = pd.read_excel(\"Test_dataset.xlsx\")\n"
      ],
      "execution_count": 0,
      "outputs": []
    },
    {
      "cell_type": "code",
      "metadata": {
        "id": "Fl9kmIinQRQv",
        "colab_type": "code",
        "outputId": "26633aca-42f6-44ac-e6c9-e255ea7d55d4",
        "colab": {
          "base_uri": "https://localhost:8080/",
          "height": 309
        }
      },
      "source": [
        "train.head()"
      ],
      "execution_count": 57,
      "outputs": [
        {
          "output_type": "execute_result",
          "data": {
            "text/html": [
              "<div>\n",
              "<style scoped>\n",
              "    .dataframe tbody tr th:only-of-type {\n",
              "        vertical-align: middle;\n",
              "    }\n",
              "\n",
              "    .dataframe tbody tr th {\n",
              "        vertical-align: top;\n",
              "    }\n",
              "\n",
              "    .dataframe thead th {\n",
              "        text-align: right;\n",
              "    }\n",
              "</style>\n",
              "<table border=\"1\" class=\"dataframe\">\n",
              "  <thead>\n",
              "    <tr style=\"text-align: right;\">\n",
              "      <th></th>\n",
              "      <th>people_ID</th>\n",
              "      <th>Region</th>\n",
              "      <th>Gender</th>\n",
              "      <th>Designation</th>\n",
              "      <th>Name</th>\n",
              "      <th>Married</th>\n",
              "      <th>Children</th>\n",
              "      <th>Occupation</th>\n",
              "      <th>Mode_transport</th>\n",
              "      <th>cases/1M</th>\n",
              "      <th>Deaths/1M</th>\n",
              "      <th>comorbidity</th>\n",
              "      <th>Age</th>\n",
              "      <th>Coma score</th>\n",
              "      <th>Pulmonary score</th>\n",
              "      <th>cardiological pressure</th>\n",
              "      <th>Diuresis</th>\n",
              "      <th>Platelets</th>\n",
              "      <th>HBB</th>\n",
              "      <th>d-dimer</th>\n",
              "      <th>Heart rate</th>\n",
              "      <th>HDL cholesterol</th>\n",
              "      <th>Charlson Index</th>\n",
              "      <th>Blood Glucose</th>\n",
              "      <th>Insurance</th>\n",
              "      <th>salary</th>\n",
              "      <th>FT/month</th>\n",
              "      <th>Infect_Prob</th>\n",
              "    </tr>\n",
              "  </thead>\n",
              "  <tbody>\n",
              "    <tr>\n",
              "      <th>0</th>\n",
              "      <td>1</td>\n",
              "      <td>Bhubaneshwar</td>\n",
              "      <td>Female</td>\n",
              "      <td>Mrs</td>\n",
              "      <td>mansi</td>\n",
              "      <td>YES</td>\n",
              "      <td>1.0</td>\n",
              "      <td>Farmer</td>\n",
              "      <td>Public</td>\n",
              "      <td>2</td>\n",
              "      <td>0</td>\n",
              "      <td>Hypertension</td>\n",
              "      <td>68</td>\n",
              "      <td>8</td>\n",
              "      <td>&lt;400</td>\n",
              "      <td>Normal</td>\n",
              "      <td>441.0</td>\n",
              "      <td>154.0</td>\n",
              "      <td>93.0</td>\n",
              "      <td>233.0</td>\n",
              "      <td>82.0</td>\n",
              "      <td>58.0</td>\n",
              "      <td>27</td>\n",
              "      <td>7</td>\n",
              "      <td>3600000.0</td>\n",
              "      <td>1300000</td>\n",
              "      <td>2.0</td>\n",
              "      <td>49.135010</td>\n",
              "    </tr>\n",
              "    <tr>\n",
              "      <th>1</th>\n",
              "      <td>2</td>\n",
              "      <td>Bhubaneshwar</td>\n",
              "      <td>Female</td>\n",
              "      <td>Mrs</td>\n",
              "      <td>riya masi</td>\n",
              "      <td>YES</td>\n",
              "      <td>2.0</td>\n",
              "      <td>Farmer</td>\n",
              "      <td>Walk</td>\n",
              "      <td>2</td>\n",
              "      <td>0</td>\n",
              "      <td>Diabetes</td>\n",
              "      <td>64</td>\n",
              "      <td>15</td>\n",
              "      <td>&lt;100</td>\n",
              "      <td>Stage-02</td>\n",
              "      <td>NaN</td>\n",
              "      <td>121.0</td>\n",
              "      <td>56.0</td>\n",
              "      <td>328.0</td>\n",
              "      <td>89.0</td>\n",
              "      <td>68.0</td>\n",
              "      <td>5</td>\n",
              "      <td>6</td>\n",
              "      <td>1600000.0</td>\n",
              "      <td>400000</td>\n",
              "      <td>1.0</td>\n",
              "      <td>51.147880</td>\n",
              "    </tr>\n",
              "    <tr>\n",
              "      <th>2</th>\n",
              "      <td>3</td>\n",
              "      <td>Bhubaneshwar</td>\n",
              "      <td>Female</td>\n",
              "      <td>Mrs</td>\n",
              "      <td>sunita</td>\n",
              "      <td>NO</td>\n",
              "      <td>1.0</td>\n",
              "      <td>Cleaner</td>\n",
              "      <td>Public</td>\n",
              "      <td>2</td>\n",
              "      <td>0</td>\n",
              "      <td>None</td>\n",
              "      <td>19</td>\n",
              "      <td>13</td>\n",
              "      <td>&lt;300</td>\n",
              "      <td>Elevated</td>\n",
              "      <td>416.0</td>\n",
              "      <td>124.0</td>\n",
              "      <td>137.0</td>\n",
              "      <td>213.0</td>\n",
              "      <td>77.0</td>\n",
              "      <td>43.0</td>\n",
              "      <td>40</td>\n",
              "      <td>6</td>\n",
              "      <td>3400000.0</td>\n",
              "      <td>900000</td>\n",
              "      <td>1.0</td>\n",
              "      <td>73.224000</td>\n",
              "    </tr>\n",
              "    <tr>\n",
              "      <th>3</th>\n",
              "      <td>4</td>\n",
              "      <td>Bhubaneshwar</td>\n",
              "      <td>Female</td>\n",
              "      <td>Mrs</td>\n",
              "      <td>anjali @ babli</td>\n",
              "      <td>YES</td>\n",
              "      <td>1.0</td>\n",
              "      <td>Driver</td>\n",
              "      <td>Car</td>\n",
              "      <td>2</td>\n",
              "      <td>0</td>\n",
              "      <td>Coronary Heart Disease</td>\n",
              "      <td>33</td>\n",
              "      <td>9</td>\n",
              "      <td>&lt;200</td>\n",
              "      <td>Stage-01</td>\n",
              "      <td>410.0</td>\n",
              "      <td>98.0</td>\n",
              "      <td>167.0</td>\n",
              "      <td>275.0</td>\n",
              "      <td>64.0</td>\n",
              "      <td>60.0</td>\n",
              "      <td>27</td>\n",
              "      <td>7</td>\n",
              "      <td>700000.0</td>\n",
              "      <td>2300000</td>\n",
              "      <td>1.0</td>\n",
              "      <td>48.779225</td>\n",
              "    </tr>\n",
              "    <tr>\n",
              "      <th>4</th>\n",
              "      <td>5</td>\n",
              "      <td>Bhubaneshwar</td>\n",
              "      <td>Female</td>\n",
              "      <td>Mrs</td>\n",
              "      <td>champa karketta</td>\n",
              "      <td>NO</td>\n",
              "      <td>2.0</td>\n",
              "      <td>Manufacturing</td>\n",
              "      <td>Car</td>\n",
              "      <td>2</td>\n",
              "      <td>0</td>\n",
              "      <td>Diabetes</td>\n",
              "      <td>23</td>\n",
              "      <td>7</td>\n",
              "      <td>&lt;400</td>\n",
              "      <td>Normal</td>\n",
              "      <td>390.0</td>\n",
              "      <td>21.0</td>\n",
              "      <td>153.0</td>\n",
              "      <td>331.0</td>\n",
              "      <td>71.0</td>\n",
              "      <td>64.0</td>\n",
              "      <td>32</td>\n",
              "      <td>7</td>\n",
              "      <td>3200000.0</td>\n",
              "      <td>1100000</td>\n",
              "      <td>1.0</td>\n",
              "      <td>87.868800</td>\n",
              "    </tr>\n",
              "  </tbody>\n",
              "</table>\n",
              "</div>"
            ],
            "text/plain": [
              "   people_ID        Region  Gender  ...   salary FT/month Infect_Prob\n",
              "0          1  Bhubaneshwar  Female  ...  1300000      2.0   49.135010\n",
              "1          2  Bhubaneshwar  Female  ...   400000      1.0   51.147880\n",
              "2          3  Bhubaneshwar  Female  ...   900000      1.0   73.224000\n",
              "3          4  Bhubaneshwar  Female  ...  2300000      1.0   48.779225\n",
              "4          5  Bhubaneshwar  Female  ...  1100000      1.0   87.868800\n",
              "\n",
              "[5 rows x 28 columns]"
            ]
          },
          "metadata": {
            "tags": []
          },
          "execution_count": 57
        }
      ]
    },
    {
      "cell_type": "code",
      "metadata": {
        "id": "Ahnw5E6GYchb",
        "colab_type": "code",
        "outputId": "b4df7c87-b9e1-4898-c89b-19060defdb3e",
        "colab": {
          "base_uri": "https://localhost:8080/",
          "height": 292
        }
      },
      "source": [
        "test.head()"
      ],
      "execution_count": 58,
      "outputs": [
        {
          "output_type": "execute_result",
          "data": {
            "text/html": [
              "<div>\n",
              "<style scoped>\n",
              "    .dataframe tbody tr th:only-of-type {\n",
              "        vertical-align: middle;\n",
              "    }\n",
              "\n",
              "    .dataframe tbody tr th {\n",
              "        vertical-align: top;\n",
              "    }\n",
              "\n",
              "    .dataframe thead th {\n",
              "        text-align: right;\n",
              "    }\n",
              "</style>\n",
              "<table border=\"1\" class=\"dataframe\">\n",
              "  <thead>\n",
              "    <tr style=\"text-align: right;\">\n",
              "      <th></th>\n",
              "      <th>people_ID</th>\n",
              "      <th>Region</th>\n",
              "      <th>Gender</th>\n",
              "      <th>Designation</th>\n",
              "      <th>Name</th>\n",
              "      <th>Married</th>\n",
              "      <th>Children</th>\n",
              "      <th>Occupation</th>\n",
              "      <th>Mode_transport</th>\n",
              "      <th>cases/1M</th>\n",
              "      <th>Deaths/1M</th>\n",
              "      <th>comorbidity</th>\n",
              "      <th>Age</th>\n",
              "      <th>Coma score</th>\n",
              "      <th>Pulmonary score</th>\n",
              "      <th>cardiological pressure</th>\n",
              "      <th>Diuresis</th>\n",
              "      <th>Platelets</th>\n",
              "      <th>HBB</th>\n",
              "      <th>d-dimer</th>\n",
              "      <th>Heart rate</th>\n",
              "      <th>HDL cholesterol</th>\n",
              "      <th>Charlson Index</th>\n",
              "      <th>Blood Glucose</th>\n",
              "      <th>Insurance</th>\n",
              "      <th>salary</th>\n",
              "      <th>FT/month</th>\n",
              "    </tr>\n",
              "  </thead>\n",
              "  <tbody>\n",
              "    <tr>\n",
              "      <th>0</th>\n",
              "      <td>5942</td>\n",
              "      <td>Delhi</td>\n",
              "      <td>Female</td>\n",
              "      <td>Mrs</td>\n",
              "      <td>smt rekha prajapat</td>\n",
              "      <td>YES</td>\n",
              "      <td>2</td>\n",
              "      <td>Driver</td>\n",
              "      <td>Public</td>\n",
              "      <td>4</td>\n",
              "      <td>1</td>\n",
              "      <td>Diabetes</td>\n",
              "      <td>52</td>\n",
              "      <td>3</td>\n",
              "      <td>&lt;200</td>\n",
              "      <td>Stage-01</td>\n",
              "      <td>388</td>\n",
              "      <td>153</td>\n",
              "      <td>196</td>\n",
              "      <td>240</td>\n",
              "      <td>85</td>\n",
              "      <td>53</td>\n",
              "      <td>17</td>\n",
              "      <td>3</td>\n",
              "      <td>3900000</td>\n",
              "      <td>1300000</td>\n",
              "      <td>1</td>\n",
              "    </tr>\n",
              "    <tr>\n",
              "      <th>1</th>\n",
              "      <td>18664</td>\n",
              "      <td>Delhi</td>\n",
              "      <td>Male</td>\n",
              "      <td>Mr</td>\n",
              "      <td>nirmal</td>\n",
              "      <td>YES</td>\n",
              "      <td>2</td>\n",
              "      <td>Legal</td>\n",
              "      <td>Walk</td>\n",
              "      <td>4</td>\n",
              "      <td>1</td>\n",
              "      <td>Diabetes</td>\n",
              "      <td>53</td>\n",
              "      <td>11</td>\n",
              "      <td>&lt;200</td>\n",
              "      <td>Stage-01</td>\n",
              "      <td>409</td>\n",
              "      <td>95</td>\n",
              "      <td>138</td>\n",
              "      <td>241</td>\n",
              "      <td>81</td>\n",
              "      <td>61</td>\n",
              "      <td>2</td>\n",
              "      <td>5</td>\n",
              "      <td>1800000</td>\n",
              "      <td>1300000</td>\n",
              "      <td>1</td>\n",
              "    </tr>\n",
              "    <tr>\n",
              "      <th>2</th>\n",
              "      <td>5603</td>\n",
              "      <td>Delhi</td>\n",
              "      <td>Female</td>\n",
              "      <td>Mrs</td>\n",
              "      <td>pinky</td>\n",
              "      <td>YES</td>\n",
              "      <td>2</td>\n",
              "      <td>Sales</td>\n",
              "      <td>Car</td>\n",
              "      <td>4</td>\n",
              "      <td>1</td>\n",
              "      <td>Diabetes</td>\n",
              "      <td>35</td>\n",
              "      <td>9</td>\n",
              "      <td>&lt;100</td>\n",
              "      <td>Stage-02</td>\n",
              "      <td>440</td>\n",
              "      <td>40</td>\n",
              "      <td>166</td>\n",
              "      <td>236</td>\n",
              "      <td>88</td>\n",
              "      <td>47</td>\n",
              "      <td>24</td>\n",
              "      <td>3</td>\n",
              "      <td>5000000</td>\n",
              "      <td>2000000</td>\n",
              "      <td>2</td>\n",
              "    </tr>\n",
              "    <tr>\n",
              "      <th>3</th>\n",
              "      <td>5649</td>\n",
              "      <td>Delhi</td>\n",
              "      <td>Female</td>\n",
              "      <td>Mrs</td>\n",
              "      <td>pooja @aafrin</td>\n",
              "      <td>YES</td>\n",
              "      <td>2</td>\n",
              "      <td>Sales</td>\n",
              "      <td>Car</td>\n",
              "      <td>4</td>\n",
              "      <td>1</td>\n",
              "      <td>None</td>\n",
              "      <td>31</td>\n",
              "      <td>12</td>\n",
              "      <td>&lt;300</td>\n",
              "      <td>Elevated</td>\n",
              "      <td>206</td>\n",
              "      <td>78</td>\n",
              "      <td>83</td>\n",
              "      <td>211</td>\n",
              "      <td>87</td>\n",
              "      <td>52</td>\n",
              "      <td>13</td>\n",
              "      <td>6</td>\n",
              "      <td>3100000</td>\n",
              "      <td>600000</td>\n",
              "      <td>2</td>\n",
              "    </tr>\n",
              "    <tr>\n",
              "      <th>4</th>\n",
              "      <td>5099</td>\n",
              "      <td>Delhi</td>\n",
              "      <td>Female</td>\n",
              "      <td>Mrs</td>\n",
              "      <td>anjali</td>\n",
              "      <td>YES</td>\n",
              "      <td>2</td>\n",
              "      <td>Business</td>\n",
              "      <td>Car</td>\n",
              "      <td>4</td>\n",
              "      <td>1</td>\n",
              "      <td>Diabetes</td>\n",
              "      <td>51</td>\n",
              "      <td>6</td>\n",
              "      <td>&lt;200</td>\n",
              "      <td>Stage-01</td>\n",
              "      <td>229</td>\n",
              "      <td>109</td>\n",
              "      <td>207</td>\n",
              "      <td>312</td>\n",
              "      <td>94</td>\n",
              "      <td>68</td>\n",
              "      <td>39</td>\n",
              "      <td>5</td>\n",
              "      <td>2300000</td>\n",
              "      <td>1500000</td>\n",
              "      <td>1</td>\n",
              "    </tr>\n",
              "  </tbody>\n",
              "</table>\n",
              "</div>"
            ],
            "text/plain": [
              "   people_ID Region  Gender  ... Insurance   salary FT/month\n",
              "0       5942  Delhi  Female  ...   3900000  1300000        1\n",
              "1      18664  Delhi    Male  ...   1800000  1300000        1\n",
              "2       5603  Delhi  Female  ...   5000000  2000000        2\n",
              "3       5649  Delhi  Female  ...   3100000   600000        2\n",
              "4       5099  Delhi  Female  ...   2300000  1500000        1\n",
              "\n",
              "[5 rows x 27 columns]"
            ]
          },
          "metadata": {
            "tags": []
          },
          "execution_count": 58
        }
      ]
    },
    {
      "cell_type": "markdown",
      "metadata": {
        "id": "6zRFD1BWb6PF",
        "colab_type": "text"
      },
      "source": [
        "## EDA on Training and Testing Data"
      ]
    },
    {
      "cell_type": "code",
      "metadata": {
        "id": "7WtYp_ONYet8",
        "colab_type": "code",
        "outputId": "34bff795-39ad-4b97-9932-7c1d5c6dbaa5",
        "colab": {
          "base_uri": "https://localhost:8080/",
          "height": 527
        }
      },
      "source": [
        "print(train.shape)\n",
        "print(train.nunique())"
      ],
      "execution_count": 59,
      "outputs": [
        {
          "output_type": "stream",
          "text": [
            "(10714, 28)\n",
            "people_ID                 10714\n",
            "Region                        5\n",
            "Gender                        2\n",
            "Designation                   2\n",
            "Name                       6304\n",
            "Married                       2\n",
            "Children                      3\n",
            "Occupation                    9\n",
            "Mode_transport                3\n",
            "cases/1M                      4\n",
            "Deaths/1M                     3\n",
            "comorbidity                   4\n",
            "Age                          53\n",
            "Coma score                   13\n",
            "Pulmonary score               4\n",
            "cardiological pressure        4\n",
            "Diuresis                    341\n",
            "Platelets                   146\n",
            "HBB                         191\n",
            "d-dimer                     151\n",
            "Heart rate                   51\n",
            "HDL cholesterol              36\n",
            "Charlson Index               41\n",
            "Blood Glucose                 5\n",
            "Insurance                    48\n",
            "salary                       21\n",
            "FT/month                      3\n",
            "Infect_Prob                8724\n",
            "dtype: int64\n"
          ],
          "name": "stdout"
        }
      ]
    },
    {
      "cell_type": "code",
      "metadata": {
        "id": "3o1RUZuxcHLK",
        "colab_type": "code",
        "outputId": "3ca76046-1fb1-4ea5-e873-0372b58c5d03",
        "colab": {
          "base_uri": "https://localhost:8080/",
          "height": 510
        }
      },
      "source": [
        "## Estimating Missing Values in Dataset\n",
        "train.isnull().sum()"
      ],
      "execution_count": 60,
      "outputs": [
        {
          "output_type": "execute_result",
          "data": {
            "text/plain": [
              "people_ID                    0\n",
              "Region                       0\n",
              "Gender                       0\n",
              "Designation                  0\n",
              "Name                        20\n",
              "Married                      0\n",
              "Children                   311\n",
              "Occupation                 747\n",
              "Mode_transport               3\n",
              "cases/1M                     0\n",
              "Deaths/1M                    0\n",
              "comorbidity                226\n",
              "Age                          0\n",
              "Coma score                   0\n",
              "Pulmonary score              0\n",
              "cardiological pressure      97\n",
              "Diuresis                   716\n",
              "Platelets                  924\n",
              "HBB                         16\n",
              "d-dimer                   1114\n",
              "Heart rate                1114\n",
              "HDL cholesterol             35\n",
              "Charlson Index               0\n",
              "Blood Glucose                0\n",
              "Insurance                 1090\n",
              "salary                       0\n",
              "FT/month                   723\n",
              "Infect_Prob                  0\n",
              "dtype: int64"
            ]
          },
          "metadata": {
            "tags": []
          },
          "execution_count": 60
        }
      ]
    },
    {
      "cell_type": "code",
      "metadata": {
        "id": "DidW-h_k9RxA",
        "colab_type": "code",
        "outputId": "feffe3b1-b757-4f58-a61f-b5d821fba498",
        "colab": {
          "base_uri": "https://localhost:8080/",
          "height": 493
        }
      },
      "source": [
        "test.isnull().sum()"
      ],
      "execution_count": 61,
      "outputs": [
        {
          "output_type": "execute_result",
          "data": {
            "text/plain": [
              "people_ID                  0\n",
              "Region                     0\n",
              "Gender                     0\n",
              "Designation                0\n",
              "Name                      32\n",
              "Married                    0\n",
              "Children                   0\n",
              "Occupation                 0\n",
              "Mode_transport             0\n",
              "cases/1M                   0\n",
              "Deaths/1M                  0\n",
              "comorbidity                0\n",
              "Age                        0\n",
              "Coma score                 0\n",
              "Pulmonary score            0\n",
              "cardiological pressure     0\n",
              "Diuresis                   0\n",
              "Platelets                  0\n",
              "HBB                        0\n",
              "d-dimer                    0\n",
              "Heart rate                 0\n",
              "HDL cholesterol            0\n",
              "Charlson Index             0\n",
              "Blood Glucose              0\n",
              "Insurance                  0\n",
              "salary                     0\n",
              "FT/month                   0\n",
              "dtype: int64"
            ]
          },
          "metadata": {
            "tags": []
          },
          "execution_count": 61
        }
      ]
    },
    {
      "cell_type": "markdown",
      "metadata": {
        "id": "KSyA5hB19Ykp",
        "colab_type": "text"
      },
      "source": [
        "**Insights**\n",
        "- Clearly test data is clean and ready nut training data need\n",
        "some preprocessing.\n",
        "- Also there are lot of Mising Values in Names in both the data, and Probability will not be dependent on name, so i'll drop the names from both the data from Modelling and Fitting.  "
      ]
    },
    {
      "cell_type": "code",
      "metadata": {
        "id": "H1MiiEi5cPYH",
        "colab_type": "code",
        "outputId": "e9be2f0e-ec3f-4cc8-f48b-51e7093aa9b6",
        "colab": {
          "base_uri": "https://localhost:8080/",
          "height": 85
        }
      },
      "source": [
        "train['Children'].value_counts()"
      ],
      "execution_count": 62,
      "outputs": [
        {
          "output_type": "execute_result",
          "data": {
            "text/plain": [
              "2.0    3829\n",
              "1.0    3398\n",
              "0.0    3176\n",
              "Name: Children, dtype: int64"
            ]
          },
          "metadata": {
            "tags": []
          },
          "execution_count": 62
        }
      ]
    },
    {
      "cell_type": "code",
      "metadata": {
        "id": "a7w6b0DJ7Q0S",
        "colab_type": "code",
        "outputId": "6a3ae573-e002-4182-d985-407b1de9ca42",
        "colab": {
          "base_uri": "https://localhost:8080/",
          "height": 187
        }
      },
      "source": [
        "## Let's See Occupation\n",
        "\n",
        "train['Occupation'].value_counts()"
      ],
      "execution_count": 63,
      "outputs": [
        {
          "output_type": "execute_result",
          "data": {
            "text/plain": [
              "Legal            1174\n",
              "Sales            1131\n",
              "Manufacturing    1120\n",
              "Researcher       1115\n",
              "Farmer           1113\n",
              "Cleaner          1111\n",
              "Clerk            1078\n",
              "Driver           1072\n",
              "Business         1053\n",
              "Name: Occupation, dtype: int64"
            ]
          },
          "metadata": {
            "tags": []
          },
          "execution_count": 63
        }
      ]
    },
    {
      "cell_type": "code",
      "metadata": {
        "id": "6rgrJZV5BCeJ",
        "colab_type": "code",
        "outputId": "64992010-b69b-4b6c-fd41-6ea5c242abb5",
        "colab": {
          "base_uri": "https://localhost:8080/",
          "height": 34
        }
      },
      "source": [
        "train['Occupation'].isnull().sum()"
      ],
      "execution_count": 64,
      "outputs": [
        {
          "output_type": "execute_result",
          "data": {
            "text/plain": [
              "747"
            ]
          },
          "metadata": {
            "tags": []
          },
          "execution_count": 64
        }
      ]
    },
    {
      "cell_type": "markdown",
      "metadata": {
        "id": "7c3JrTIvyIqw",
        "colab_type": "text"
      },
      "source": [
        "## EDA on Children Feature"
      ]
    },
    {
      "cell_type": "code",
      "metadata": {
        "id": "lN4fRpfQBOg_",
        "colab_type": "code",
        "outputId": "8baf8112-cc6f-4108-e299-73bad5de6057",
        "colab": {
          "base_uri": "https://localhost:8080/",
          "height": 296
        }
      },
      "source": [
        "sns.countplot(x='Children',hue='Married',data=train)"
      ],
      "execution_count": 65,
      "outputs": [
        {
          "output_type": "execute_result",
          "data": {
            "text/plain": [
              "<matplotlib.axes._subplots.AxesSubplot at 0x7f8d8a7ace10>"
            ]
          },
          "metadata": {
            "tags": []
          },
          "execution_count": 65
        },
        {
          "output_type": "display_data",
          "data": {
            "image/png": "[encoded data removed]",
            "text/plain": [
              "<Figure size 432x288 with 1 Axes>"
            ]
          },
          "metadata": {
            "tags": []
          }
        }
      ]
    },
    {
      "cell_type": "markdown",
      "metadata": {
        "id": "yejDT_zZ3FD4",
        "colab_type": "text"
      },
      "source": [
        "- There is no conclusive evidence that Not Married person doesn't have a child or Married person definitely have a child."
      ]
    },
    {
      "cell_type": "code",
      "metadata": {
        "id": "6ezoBVJGycuG",
        "colab_type": "code",
        "outputId": "f10b8537-ec1b-46fc-a6b8-0bbaacc020ea",
        "colab": {
          "base_uri": "https://localhost:8080/",
          "height": 297
        }
      },
      "source": [
        "sns.countplot(x='Children',hue='Gender',data=train,palette='RdBu_r')"
      ],
      "execution_count": 66,
      "outputs": [
        {
          "output_type": "execute_result",
          "data": {
            "text/plain": [
              "<matplotlib.axes._subplots.AxesSubplot at 0x7f8d8b35fc18>"
            ]
          },
          "metadata": {
            "tags": []
          },
          "execution_count": 66
        },
        {
          "output_type": "display_data",
          "data": {
            "image/png": "[encoded data removed]",
            "text/plain": [
              "<Figure size 432x288 with 1 Axes>"
            ]
          },
          "metadata": {
            "tags": []
          }
        }
      ]
    },
    {
      "cell_type": "markdown",
      "metadata": {
        "id": "sKdV-QW73-y9",
        "colab_type": "text"
      },
      "source": [
        "- Nothing Interesting. Almost similar for all Categories."
      ]
    },
    {
      "cell_type": "code",
      "metadata": {
        "id": "vrLh8V_TzWUk",
        "colab_type": "code",
        "outputId": "f5d29217-00da-4c41-e7f3-daf5d30d4c1c",
        "colab": {
          "base_uri": "https://localhost:8080/",
          "height": 604
        }
      },
      "source": [
        "## Let's Visualize the Missing Values.\n",
        "\n",
        "dims = (12,8)\n",
        "fig,ax = plt.subplots(figsize=dims)\n",
        "sns.heatmap(train.isnull(),cbar=True,yticklabels=False,cmap='viridis',ax=ax)\n",
        "\n",
        "## Try the cmap=\"YlGnBu\" for different style\n"
      ],
      "execution_count": 67,
      "outputs": [
        {
          "output_type": "execute_result",
          "data": {
            "text/plain": [
              "<matplotlib.axes._subplots.AxesSubplot at 0x7f8d858a9080>"
            ]
          },
          "metadata": {
            "tags": []
          },
          "execution_count": 67
        },
        {
          "output_type": "display_data",
          "data": {
            "image/png": "[encoded data removed]",
            "text/plain": [
              "<Figure size 864x576 with 2 Axes>"
            ]
          },
          "metadata": {
            "tags": []
          }
        }
      ]
    },
    {
      "cell_type": "markdown",
      "metadata": {
        "id": "lnIDoAQ97KsT",
        "colab_type": "text"
      },
      "source": [
        "**Visualizing Missing Values**\n",
        "\n",
        "- The Above Visual displays the missing Values in different Columns and different Positions.\n",
        "- The Horizontal line is a sign of missing Value.\n",
        "- [Seaborn Heatmap Docs](https://seaborn.pydata.org/generated/seaborn.heatmap.html)"
      ]
    },
    {
      "cell_type": "code",
      "metadata": {
        "id": "-SpL9upc5quD",
        "colab_type": "code",
        "outputId": "d3d2f3a8-9e2b-4dfd-8df0-7456cddfa6fc",
        "colab": {
          "base_uri": "https://localhost:8080/",
          "height": 85
        }
      },
      "source": [
        "## As there are no definite answers on how to impute missing Values in Children column\n",
        "## I am gonna go with the Mode.\n",
        "\n",
        "train['Children'].fillna(2,inplace=True)\n",
        "train['Children'].value_counts()"
      ],
      "execution_count": 68,
      "outputs": [
        {
          "output_type": "execute_result",
          "data": {
            "text/plain": [
              "2.0    4140\n",
              "1.0    3398\n",
              "0.0    3176\n",
              "Name: Children, dtype: int64"
            ]
          },
          "metadata": {
            "tags": []
          },
          "execution_count": 68
        }
      ]
    },
    {
      "cell_type": "code",
      "metadata": {
        "id": "lbWZiTqY90Np",
        "colab_type": "code",
        "outputId": "f430cb52-112a-4f9e-ec98-3beed308dd89",
        "colab": {
          "base_uri": "https://localhost:8080/",
          "height": 119
        }
      },
      "source": [
        "print(\"Missing Values in Mode_Transport Column:\",train['Mode_transport'].isnull().sum())\n",
        "print()\n",
        "train['Mode_transport'].value_counts()"
      ],
      "execution_count": 69,
      "outputs": [
        {
          "output_type": "stream",
          "text": [
            "Missing Values in Mode_Transport Column: 3\n",
            "\n"
          ],
          "name": "stdout"
        },
        {
          "output_type": "execute_result",
          "data": {
            "text/plain": [
              "Public    3588\n",
              "Walk      3568\n",
              "Car       3555\n",
              "Name: Mode_transport, dtype: int64"
            ]
          },
          "metadata": {
            "tags": []
          },
          "execution_count": 69
        }
      ]
    },
    {
      "cell_type": "code",
      "metadata": {
        "id": "te082sCh-nAg",
        "colab_type": "code",
        "outputId": "9f760ceb-45ce-4003-e7d5-7f86a9045f02",
        "colab": {
          "base_uri": "https://localhost:8080/",
          "height": 85
        }
      },
      "source": [
        "## As the missing values are only three will go with mode again.\n",
        "\n",
        "train['Mode_transport'].fillna('Public',inplace=True)\n",
        "train['Mode_transport'].value_counts()"
      ],
      "execution_count": 70,
      "outputs": [
        {
          "output_type": "execute_result",
          "data": {
            "text/plain": [
              "Public    3591\n",
              "Walk      3568\n",
              "Car       3555\n",
              "Name: Mode_transport, dtype: int64"
            ]
          },
          "metadata": {
            "tags": []
          },
          "execution_count": 70
        }
      ]
    },
    {
      "cell_type": "markdown",
      "metadata": {
        "id": "L-_7iotXAf8U",
        "colab_type": "text"
      },
      "source": [
        "**OCCUPATION**\n",
        "\n",
        "- Missing Value = 747\n",
        "- Categories    =  9"
      ]
    },
    {
      "cell_type": "code",
      "metadata": {
        "id": "G0kzdc2jAU5C",
        "colab_type": "code",
        "outputId": "7e70cba3-7c7b-4899-ca52-b93421d03e23",
        "colab": {
          "base_uri": "https://localhost:8080/",
          "height": 514
        }
      },
      "source": [
        "dims=(12,8)\n",
        "fig,ax = plt.subplots(figsize=dims)\n",
        "sns.countplot(x='Occupation',hue='Gender',data=train,ax=ax)\n"
      ],
      "execution_count": 71,
      "outputs": [
        {
          "output_type": "execute_result",
          "data": {
            "text/plain": [
              "<matplotlib.axes._subplots.AxesSubplot at 0x7f8d851a5b70>"
            ]
          },
          "metadata": {
            "tags": []
          },
          "execution_count": 71
        },
        {
          "output_type": "display_data",
          "data": {
            "image/png": "[encoded data removed]",
            "text/plain": [
              "<Figure size 864x576 with 1 Axes>"
            ]
          },
          "metadata": {
            "tags": []
          }
        }
      ]
    },
    {
      "cell_type": "code",
      "metadata": {
        "id": "I8A8KjrGBvtx",
        "colab_type": "code",
        "outputId": "237d71f2-f04d-4ea9-9284-fc485b8f3853",
        "colab": {
          "base_uri": "https://localhost:8080/",
          "height": 514
        }
      },
      "source": [
        "dims=(12,8)\n",
        "fig,ax = plt.subplots(figsize=dims)\n",
        "sns.barplot(x='Occupation',y='Infect_Prob',data=train,ax=ax)\n"
      ],
      "execution_count": 72,
      "outputs": [
        {
          "output_type": "execute_result",
          "data": {
            "text/plain": [
              "<matplotlib.axes._subplots.AxesSubplot at 0x7f8d85ce2da0>"
            ]
          },
          "metadata": {
            "tags": []
          },
          "execution_count": 72
        },
        {
          "output_type": "display_data",
          "data": {
            "image/png": "[encoded data removed]",
            "text/plain": [
              "<Figure size 864x576 with 1 Axes>"
            ]
          },
          "metadata": {
            "tags": []
          }
        }
      ]
    },
    {
      "cell_type": "code",
      "metadata": {
        "id": "rRdUzsMHCZXo",
        "colab_type": "code",
        "outputId": "99c89a79-128d-4189-b98e-fe5ec3d64a3b",
        "colab": {
          "base_uri": "https://localhost:8080/",
          "height": 334
        }
      },
      "source": [
        "train.describe()"
      ],
      "execution_count": 73,
      "outputs": [
        {
          "output_type": "execute_result",
          "data": {
            "text/html": [
              "<div>\n",
              "<style scoped>\n",
              "    .dataframe tbody tr th:only-of-type {\n",
              "        vertical-align: middle;\n",
              "    }\n",
              "\n",
              "    .dataframe tbody tr th {\n",
              "        vertical-align: top;\n",
              "    }\n",
              "\n",
              "    .dataframe thead th {\n",
              "        text-align: right;\n",
              "    }\n",
              "</style>\n",
              "<table border=\"1\" class=\"dataframe\">\n",
              "  <thead>\n",
              "    <tr style=\"text-align: right;\">\n",
              "      <th></th>\n",
              "      <th>people_ID</th>\n",
              "      <th>Children</th>\n",
              "      <th>cases/1M</th>\n",
              "      <th>Deaths/1M</th>\n",
              "      <th>Age</th>\n",
              "      <th>Coma score</th>\n",
              "      <th>Diuresis</th>\n",
              "      <th>Platelets</th>\n",
              "      <th>HBB</th>\n",
              "      <th>d-dimer</th>\n",
              "      <th>Heart rate</th>\n",
              "      <th>HDL cholesterol</th>\n",
              "      <th>Charlson Index</th>\n",
              "      <th>Blood Glucose</th>\n",
              "      <th>Insurance</th>\n",
              "      <th>salary</th>\n",
              "      <th>FT/month</th>\n",
              "      <th>Infect_Prob</th>\n",
              "    </tr>\n",
              "  </thead>\n",
              "  <tbody>\n",
              "    <tr>\n",
              "      <th>count</th>\n",
              "      <td>10714.000000</td>\n",
              "      <td>10714.000000</td>\n",
              "      <td>10714.000000</td>\n",
              "      <td>10714.000000</td>\n",
              "      <td>10714.000000</td>\n",
              "      <td>10714.000000</td>\n",
              "      <td>9998.000000</td>\n",
              "      <td>9790.000000</td>\n",
              "      <td>10698.000000</td>\n",
              "      <td>9600.000000</td>\n",
              "      <td>9600.000000</td>\n",
              "      <td>10679.000000</td>\n",
              "      <td>10714.000000</td>\n",
              "      <td>10714.000000</td>\n",
              "      <td>9.624000e+03</td>\n",
              "      <td>1.071400e+04</td>\n",
              "      <td>9991.000000</td>\n",
              "      <td>10714.000000</td>\n",
              "    </tr>\n",
              "    <tr>\n",
              "      <th>mean</th>\n",
              "      <td>10084.893784</td>\n",
              "      <td>1.089976</td>\n",
              "      <td>3.285888</td>\n",
              "      <td>0.523241</td>\n",
              "      <td>42.083722</td>\n",
              "      <td>9.013067</td>\n",
              "      <td>278.806261</td>\n",
              "      <td>87.795812</td>\n",
              "      <td>116.170967</td>\n",
              "      <td>275.292292</td>\n",
              "      <td>74.847396</td>\n",
              "      <td>52.632737</td>\n",
              "      <td>20.028094</td>\n",
              "      <td>5.015027</td>\n",
              "      <td>2.644919e+06</td>\n",
              "      <td>1.304713e+06</td>\n",
              "      <td>1.004604</td>\n",
              "      <td>52.280680</td>\n",
              "    </tr>\n",
              "    <tr>\n",
              "      <th>std</th>\n",
              "      <td>7108.663645</td>\n",
              "      <td>0.821470</td>\n",
              "      <td>2.721274</td>\n",
              "      <td>0.854303</td>\n",
              "      <td>15.323397</td>\n",
              "      <td>3.714970</td>\n",
              "      <td>97.985526</td>\n",
              "      <td>41.851103</td>\n",
              "      <td>55.178811</td>\n",
              "      <td>43.669692</td>\n",
              "      <td>14.869104</td>\n",
              "      <td>10.434293</td>\n",
              "      <td>11.828445</td>\n",
              "      <td>1.399770</td>\n",
              "      <td>1.383346e+06</td>\n",
              "      <td>6.075947e+05</td>\n",
              "      <td>0.815257</td>\n",
              "      <td>10.674667</td>\n",
              "    </tr>\n",
              "    <tr>\n",
              "      <th>min</th>\n",
              "      <td>1.000000</td>\n",
              "      <td>0.000000</td>\n",
              "      <td>1.000000</td>\n",
              "      <td>0.000000</td>\n",
              "      <td>16.000000</td>\n",
              "      <td>3.000000</td>\n",
              "      <td>110.000000</td>\n",
              "      <td>15.000000</td>\n",
              "      <td>20.000000</td>\n",
              "      <td>200.000000</td>\n",
              "      <td>50.000000</td>\n",
              "      <td>35.000000</td>\n",
              "      <td>0.000000</td>\n",
              "      <td>3.000000</td>\n",
              "      <td>3.000000e+05</td>\n",
              "      <td>3.000000e+05</td>\n",
              "      <td>0.000000</td>\n",
              "      <td>29.289600</td>\n",
              "    </tr>\n",
              "    <tr>\n",
              "      <th>25%</th>\n",
              "      <td>2679.250000</td>\n",
              "      <td>0.000000</td>\n",
              "      <td>2.000000</td>\n",
              "      <td>0.000000</td>\n",
              "      <td>29.000000</td>\n",
              "      <td>6.000000</td>\n",
              "      <td>194.000000</td>\n",
              "      <td>52.000000</td>\n",
              "      <td>68.000000</td>\n",
              "      <td>237.000000</td>\n",
              "      <td>62.000000</td>\n",
              "      <td>44.000000</td>\n",
              "      <td>10.000000</td>\n",
              "      <td>4.000000</td>\n",
              "      <td>1.400000e+06</td>\n",
              "      <td>8.000000e+05</td>\n",
              "      <td>0.000000</td>\n",
              "      <td>47.277426</td>\n",
              "    </tr>\n",
              "    <tr>\n",
              "      <th>50%</th>\n",
              "      <td>10003.500000</td>\n",
              "      <td>1.000000</td>\n",
              "      <td>2.000000</td>\n",
              "      <td>0.000000</td>\n",
              "      <td>42.000000</td>\n",
              "      <td>9.000000</td>\n",
              "      <td>276.000000</td>\n",
              "      <td>88.000000</td>\n",
              "      <td>117.000000</td>\n",
              "      <td>276.000000</td>\n",
              "      <td>75.000000</td>\n",
              "      <td>53.000000</td>\n",
              "      <td>20.000000</td>\n",
              "      <td>5.000000</td>\n",
              "      <td>2.600000e+06</td>\n",
              "      <td>1.300000e+06</td>\n",
              "      <td>1.000000</td>\n",
              "      <td>49.008389</td>\n",
              "    </tr>\n",
              "    <tr>\n",
              "      <th>75%</th>\n",
              "      <td>15141.750000</td>\n",
              "      <td>2.000000</td>\n",
              "      <td>4.000000</td>\n",
              "      <td>1.000000</td>\n",
              "      <td>55.000000</td>\n",
              "      <td>12.000000</td>\n",
              "      <td>364.000000</td>\n",
              "      <td>124.000000</td>\n",
              "      <td>165.000000</td>\n",
              "      <td>313.000000</td>\n",
              "      <td>88.000000</td>\n",
              "      <td>62.000000</td>\n",
              "      <td>30.000000</td>\n",
              "      <td>6.000000</td>\n",
              "      <td>3.800000e+06</td>\n",
              "      <td>1.800000e+06</td>\n",
              "      <td>2.000000</td>\n",
              "      <td>52.762313</td>\n",
              "    </tr>\n",
              "    <tr>\n",
              "      <th>max</th>\n",
              "      <td>22695.000000</td>\n",
              "      <td>2.000000</td>\n",
              "      <td>8.000000</td>\n",
              "      <td>2.000000</td>\n",
              "      <td>68.000000</td>\n",
              "      <td>15.000000</td>\n",
              "      <td>450.000000</td>\n",
              "      <td>160.000000</td>\n",
              "      <td>210.000000</td>\n",
              "      <td>350.000000</td>\n",
              "      <td>100.000000</td>\n",
              "      <td>70.000000</td>\n",
              "      <td>40.000000</td>\n",
              "      <td>7.000000</td>\n",
              "      <td>5.000000e+06</td>\n",
              "      <td>2.300000e+06</td>\n",
              "      <td>2.000000</td>\n",
              "      <td>97.632000</td>\n",
              "    </tr>\n",
              "  </tbody>\n",
              "</table>\n",
              "</div>"
            ],
            "text/plain": [
              "          people_ID      Children  ...     FT/month   Infect_Prob\n",
              "count  10714.000000  10714.000000  ...  9991.000000  10714.000000\n",
              "mean   10084.893784      1.089976  ...     1.004604     52.280680\n",
              "std     7108.663645      0.821470  ...     0.815257     10.674667\n",
              "min        1.000000      0.000000  ...     0.000000     29.289600\n",
              "25%     2679.250000      0.000000  ...     0.000000     47.277426\n",
              "50%    10003.500000      1.000000  ...     1.000000     49.008389\n",
              "75%    15141.750000      2.000000  ...     2.000000     52.762313\n",
              "max    22695.000000      2.000000  ...     2.000000     97.632000\n",
              "\n",
              "[8 rows x 18 columns]"
            ]
          },
          "metadata": {
            "tags": []
          },
          "execution_count": 73
        }
      ]
    },
    {
      "cell_type": "code",
      "metadata": {
        "id": "nx9vS4TkCoj9",
        "colab_type": "code",
        "outputId": "3fbcb2fe-70e8-40c8-9ae8-48cd2f063aca",
        "colab": {
          "base_uri": "https://localhost:8080/",
          "height": 514
        }
      },
      "source": [
        "plt.figure(figsize=(12,8))\n",
        "sns.boxplot(x='Occupation',y='Age',data=train)"
      ],
      "execution_count": 74,
      "outputs": [
        {
          "output_type": "execute_result",
          "data": {
            "text/plain": [
              "<matplotlib.axes._subplots.AxesSubplot at 0x7f8d85ce2d30>"
            ]
          },
          "metadata": {
            "tags": []
          },
          "execution_count": 74
        },
        {
          "output_type": "display_data",
          "data": {
            "image/png": "[encoded data removed]",
            "text/plain": [
              "<Figure size 864x576 with 1 Axes>"
            ]
          },
          "metadata": {
            "tags": []
          }
        }
      ]
    },
    {
      "cell_type": "markdown",
      "metadata": {
        "id": "CfQFNw5qV6ly",
        "colab_type": "text"
      },
      "source": [
        "**Comorbidity**\n",
        "\n",
        "- Missing Values = 226\n",
        "\n",
        "- Classes  = 4"
      ]
    },
    {
      "cell_type": "code",
      "metadata": {
        "id": "d83v9n4RD879",
        "colab_type": "code",
        "outputId": "f43c41e8-203c-4751-d669-0a118a3a502f",
        "colab": {
          "base_uri": "https://localhost:8080/",
          "height": 102
        }
      },
      "source": [
        "train['comorbidity'].value_counts()"
      ],
      "execution_count": 75,
      "outputs": [
        {
          "output_type": "execute_result",
          "data": {
            "text/plain": [
              "Hypertension              2642\n",
              "None                      2637\n",
              "Diabetes                  2614\n",
              "Coronary Heart Disease    2595\n",
              "Name: comorbidity, dtype: int64"
            ]
          },
          "metadata": {
            "tags": []
          },
          "execution_count": 75
        }
      ]
    },
    {
      "cell_type": "code",
      "metadata": {
        "id": "NHfNePnmGA-b",
        "colab_type": "code",
        "outputId": "1b3fcc47-e274-42e8-a1c6-72188a9f2fbf",
        "colab": {
          "base_uri": "https://localhost:8080/",
          "height": 298
        }
      },
      "source": [
        "sns.boxplot(x='comorbidity',y='Age',data=train,palette='rainbow')"
      ],
      "execution_count": 76,
      "outputs": [
        {
          "output_type": "execute_result",
          "data": {
            "text/plain": [
              "<matplotlib.axes._subplots.AxesSubplot at 0x7f8d85920be0>"
            ]
          },
          "metadata": {
            "tags": []
          },
          "execution_count": 76
        },
        {
          "output_type": "display_data",
          "data": {
            "image/png": "[encoded data removed]",
            "text/plain": [
              "<Figure size 432x288 with 1 Axes>"
            ]
          },
          "metadata": {
            "tags": []
          }
        }
      ]
    },
    {
      "cell_type": "code",
      "metadata": {
        "id": "vl_qTZIZGUmD",
        "colab_type": "code",
        "outputId": "ca8e3d94-c57d-46ac-f75a-ade390ddd4c2",
        "colab": {
          "base_uri": "https://localhost:8080/",
          "height": 119
        }
      },
      "source": [
        "train['Region'].value_counts()"
      ],
      "execution_count": 77,
      "outputs": [
        {
          "output_type": "execute_result",
          "data": {
            "text/plain": [
              "Chennai         2581\n",
              "Bengaluru       2573\n",
              "Chandigarh      2563\n",
              "Bhubaneshwar    2537\n",
              "Delhi            460\n",
              "Name: Region, dtype: int64"
            ]
          },
          "metadata": {
            "tags": []
          },
          "execution_count": 77
        }
      ]
    },
    {
      "cell_type": "code",
      "metadata": {
        "id": "qQ7AC0LFJrTs",
        "colab_type": "code",
        "outputId": "f465fb9d-11f2-49e2-f7ae-c49b549f8c0b",
        "colab": {
          "base_uri": "https://localhost:8080/",
          "height": 514
        }
      },
      "source": [
        "plt.figure(figsize=(12,8))\n",
        "sns.countplot(x='comorbidity',hue='Region',data=train)"
      ],
      "execution_count": 78,
      "outputs": [
        {
          "output_type": "execute_result",
          "data": {
            "text/plain": [
              "<matplotlib.axes._subplots.AxesSubplot at 0x7f8d8594e5f8>"
            ]
          },
          "metadata": {
            "tags": []
          },
          "execution_count": 78
        },
        {
          "output_type": "display_data",
          "data": {
            "image/png": "[encoded data removed]",
            "text/plain": [
              "<Figure size 864x576 with 1 Axes>"
            ]
          },
          "metadata": {
            "tags": []
          }
        }
      ]
    },
    {
      "cell_type": "code",
      "metadata": {
        "id": "lD_TtQFPmJdV",
        "colab_type": "code",
        "colab": {}
      },
      "source": [
        ""
      ],
      "execution_count": 0,
      "outputs": []
    },
    {
      "cell_type": "markdown",
      "metadata": {
        "id": "K2UZLi3SmKKu",
        "colab_type": "text"
      },
      "source": [
        "- As there is no other feature that provide comorbidity, i will use Region for filling the missing values.\n",
        "- People belonging to Bhubaneshwar will be given value Diabetes.\n",
        "- Else: all will be given Chandigarh"
      ]
    },
    {
      "cell_type": "code",
      "metadata": {
        "id": "K__1M2h8nhTr",
        "colab_type": "code",
        "colab": {}
      },
      "source": [
        "def impute_comorbidity(cols):\n",
        "    comorbidity = cols[0]\n",
        "    Region = cols[1]\n",
        "    \n",
        "    if pd.isnull(comorbidity):\n",
        "\n",
        "        if Region == \"Bhubaneshwar\" or \"Chennai\":\n",
        "            return \"Diabetes\"\n",
        "\n",
        "        elif Region == \"Bangalore\":\n",
        "            return \"Coronary Heart Disease\"\n",
        "\n",
        "        elif Region == \"Chandigarh\":\n",
        "            return \"Hypertension\"      \n",
        "        \n",
        "        else:\n",
        "            return \"None\"\n",
        "\n",
        "    else:\n",
        "        return comorbidity"
      ],
      "execution_count": 0,
      "outputs": []
    },
    {
      "cell_type": "code",
      "metadata": {
        "id": "NFJu_6xWqkxI",
        "colab_type": "code",
        "colab": {}
      },
      "source": [
        "train['comorbidity'] = train[['comorbidity','Region']].apply(impute_comorbidity,axis=1)"
      ],
      "execution_count": 0,
      "outputs": []
    },
    {
      "cell_type": "code",
      "metadata": {
        "id": "TnlWt7DtrvR3",
        "colab_type": "code",
        "colab": {
          "base_uri": "https://localhost:8080/",
          "height": 136
        },
        "outputId": "3b926421-a9da-4711-ba1c-59f40e235dc9"
      },
      "source": [
        "train.columns"
      ],
      "execution_count": 81,
      "outputs": [
        {
          "output_type": "execute_result",
          "data": {
            "text/plain": [
              "Index(['people_ID', 'Region', 'Gender', 'Designation', 'Name', 'Married',\n",
              "       'Children', 'Occupation', 'Mode_transport', 'cases/1M', 'Deaths/1M',\n",
              "       'comorbidity', 'Age', 'Coma score', 'Pulmonary score',\n",
              "       'cardiological pressure', 'Diuresis', 'Platelets', 'HBB', 'd-dimer',\n",
              "       'Heart rate', 'HDL cholesterol', 'Charlson Index', 'Blood Glucose',\n",
              "       'Insurance', 'salary', 'FT/month', 'Infect_Prob'],\n",
              "      dtype='object')"
            ]
          },
          "metadata": {
            "tags": []
          },
          "execution_count": 81
        }
      ]
    },
    {
      "cell_type": "code",
      "metadata": {
        "id": "ecFZQkz3t1SB",
        "colab_type": "code",
        "colab": {}
      },
      "source": [
        ""
      ],
      "execution_count": 0,
      "outputs": []
    },
    {
      "cell_type": "code",
      "metadata": {
        "id": "UhB-3rf8rwNP",
        "colab_type": "code",
        "colab": {
          "base_uri": "https://localhost:8080/",
          "height": 514
        },
        "outputId": "7e567678-0b9c-4ea0-bb90-36fc5768b04d"
      },
      "source": [
        "plt.figure(figsize=(12,8))\n",
        "sns.countplot(x='Occupation',hue='Mode_transport',data=train,palette='winter')"
      ],
      "execution_count": 82,
      "outputs": [
        {
          "output_type": "execute_result",
          "data": {
            "text/plain": [
              "<matplotlib.axes._subplots.AxesSubplot at 0x7f8d85af7e80>"
            ]
          },
          "metadata": {
            "tags": []
          },
          "execution_count": 82
        },
        {
          "output_type": "display_data",
          "data": {
            "image/png": "[encoded data removed]",
            "text/plain": [
              "<Figure size 864x576 with 1 Axes>"
            ]
          },
          "metadata": {
            "tags": []
          }
        }
      ]
    },
    {
      "cell_type": "code",
      "metadata": {
        "id": "P8xfAOiKvOZm",
        "colab_type": "code",
        "colab": {
          "base_uri": "https://localhost:8080/",
          "height": 518
        },
        "outputId": "0a3cb15d-965e-4418-df8d-154700c3cf7f"
      },
      "source": [
        "plt.figure(figsize=(12,8))\n",
        "sns.countplot(x='Occupation',hue='FT/month',data=train,palette='winter')"
      ],
      "execution_count": 83,
      "outputs": [
        {
          "output_type": "execute_result",
          "data": {
            "text/plain": [
              "<matplotlib.axes._subplots.AxesSubplot at 0x7f8d85892d30>"
            ]
          },
          "metadata": {
            "tags": []
          },
          "execution_count": 83
        },
        {
          "output_type": "display_data",
          "data": {
            "image/png": "[encoded data removed]",
            "text/plain": [
              "<Figure size 864x576 with 1 Axes>"
            ]
          },
          "metadata": {
            "tags": []
          }
        }
      ]
    },
    {
      "cell_type": "markdown",
      "metadata": {
        "id": "CQl2njbh91Xa",
        "colab_type": "text"
      },
      "source": [
        "**Diuresis Column**\n",
        "\n",
        "- Missing Values = 716\n",
        "- Mean = 276.00"
      ]
    },
    {
      "cell_type": "code",
      "metadata": {
        "id": "m2MC2-2cvqFU",
        "colab_type": "code",
        "colab": {
          "base_uri": "https://localhost:8080/",
          "height": 296
        },
        "outputId": "aa170b48-833b-4445-b095-101693416818"
      },
      "source": [
        "sns.boxplot(x='Diuresis',data=train)"
      ],
      "execution_count": 84,
      "outputs": [
        {
          "output_type": "execute_result",
          "data": {
            "text/plain": [
              "<matplotlib.axes._subplots.AxesSubplot at 0x7f8d85cffbe0>"
            ]
          },
          "metadata": {
            "tags": []
          },
          "execution_count": 84
        },
        {
          "output_type": "display_data",
          "data": {
            "image/png": "[encoded data removed]",
            "text/plain": [
              "<Figure size 432x288 with 1 Axes>"
            ]
          },
          "metadata": {
            "tags": []
          }
        }
      ]
    },
    {
      "cell_type": "code",
      "metadata": {
        "id": "H_NsNa7o6YMP",
        "colab_type": "code",
        "colab": {
          "base_uri": "https://localhost:8080/",
          "height": 285
        },
        "outputId": "8ce8983b-b43a-4757-d11a-cfa9f205841b"
      },
      "source": [
        "temp=train['Diuresis'].head(500)\n",
        "temp.hist(bins=30,color='darkred',alpha=0.3)\n"
      ],
      "execution_count": 85,
      "outputs": [
        {
          "output_type": "execute_result",
          "data": {
            "text/plain": [
              "<matplotlib.axes._subplots.AxesSubplot at 0x7f8d85e936d8>"
            ]
          },
          "metadata": {
            "tags": []
          },
          "execution_count": 85
        },
        {
          "output_type": "display_data",
          "data": {
            "image/png": "[encoded data removed]",
            "text/plain": [
              "<Figure size 432x288 with 1 Axes>"
            ]
          },
          "metadata": {
            "tags": []
          }
        }
      ]
    },
    {
      "cell_type": "markdown",
      "metadata": {
        "id": "xX5Wgcdq9GOs",
        "colab_type": "text"
      },
      "source": [
        "- Diuresis is somehow normally distributed.\n",
        "- Let's fill the missing values with mean.\n",
        " "
      ]
    },
    {
      "cell_type": "markdown",
      "metadata": {
        "id": "jHOcHyTB-h1c",
        "colab_type": "text"
      },
      "source": [
        "**Platelets**\n",
        "\n",
        "- Missing Value = 924\n"
      ]
    },
    {
      "cell_type": "code",
      "metadata": {
        "id": "-_dFfPOH-1Kl",
        "colab_type": "code",
        "colab": {
          "base_uri": "https://localhost:8080/",
          "height": 170
        },
        "outputId": "89be8307-571a-4429-b4ee-4a15909a1975"
      },
      "source": [
        "train['Platelets'].describe()"
      ],
      "execution_count": 86,
      "outputs": [
        {
          "output_type": "execute_result",
          "data": {
            "text/plain": [
              "count    9790.000000\n",
              "mean       87.795812\n",
              "std        41.851103\n",
              "min        15.000000\n",
              "25%        52.000000\n",
              "50%        88.000000\n",
              "75%       124.000000\n",
              "max       160.000000\n",
              "Name: Platelets, dtype: float64"
            ]
          },
          "metadata": {
            "tags": []
          },
          "execution_count": 86
        }
      ]
    },
    {
      "cell_type": "code",
      "metadata": {
        "id": "Xsfc4AkI-1Zx",
        "colab_type": "code",
        "colab": {
          "base_uri": "https://localhost:8080/",
          "height": 500
        },
        "outputId": "072fe2ba-c57d-4a96-eb71-90432d6aefaf"
      },
      "source": [
        "train['Platelets'].hist(bins=40,color='green',alpha=0.3,figsize=(12,8))"
      ],
      "execution_count": 87,
      "outputs": [
        {
          "output_type": "execute_result",
          "data": {
            "text/plain": [
              "<matplotlib.axes._subplots.AxesSubplot at 0x7f8d85912668>"
            ]
          },
          "metadata": {
            "tags": []
          },
          "execution_count": 87
        },
        {
          "output_type": "display_data",
          "data": {
            "image/png": "[encoded data removed]",
            "text/plain": [
              "<Figure size 864x576 with 1 Axes>"
            ]
          },
          "metadata": {
            "tags": []
          }
        }
      ]
    },
    {
      "cell_type": "markdown",
      "metadata": {
        "id": "kuMSkx4C_wsD",
        "colab_type": "text"
      },
      "source": [
        "- Distribution is quite Uniform so we can fill the missing values by mean."
      ]
    },
    {
      "cell_type": "markdown",
      "metadata": {
        "id": "XhUu-hELBCjd",
        "colab_type": "text"
      },
      "source": [
        "**HBB Column**\n",
        "\n",
        "- Missing Value = 16"
      ]
    },
    {
      "cell_type": "code",
      "metadata": {
        "id": "1n_eCzdiBJq2",
        "colab_type": "code",
        "colab": {
          "base_uri": "https://localhost:8080/",
          "height": 170
        },
        "outputId": "621452da-63c1-4e4a-9c62-d43c06d5af56"
      },
      "source": [
        "train['HBB'].describe()"
      ],
      "execution_count": 88,
      "outputs": [
        {
          "output_type": "execute_result",
          "data": {
            "text/plain": [
              "count    10698.000000\n",
              "mean       116.170967\n",
              "std         55.178811\n",
              "min         20.000000\n",
              "25%         68.000000\n",
              "50%        117.000000\n",
              "75%        165.000000\n",
              "max        210.000000\n",
              "Name: HBB, dtype: float64"
            ]
          },
          "metadata": {
            "tags": []
          },
          "execution_count": 88
        }
      ]
    },
    {
      "cell_type": "code",
      "metadata": {
        "id": "vnVlUBDXBJ3S",
        "colab_type": "code",
        "colab": {
          "base_uri": "https://localhost:8080/",
          "height": 296
        },
        "outputId": "df679d23-778e-49fd-b55d-a7c4d78e7e5e"
      },
      "source": [
        "sns.boxplot(x='HBB',data=train)"
      ],
      "execution_count": 89,
      "outputs": [
        {
          "output_type": "execute_result",
          "data": {
            "text/plain": [
              "<matplotlib.axes._subplots.AxesSubplot at 0x7f8d859de748>"
            ]
          },
          "metadata": {
            "tags": []
          },
          "execution_count": 89
        },
        {
          "output_type": "display_data",
          "data": {
            "image/png": "[encoded data removed]",
            "text/plain": [
              "<Figure size 432x288 with 1 Axes>"
            ]
          },
          "metadata": {
            "tags": []
          }
        }
      ]
    },
    {
      "cell_type": "code",
      "metadata": {
        "id": "7gl1RlwBBKE_",
        "colab_type": "code",
        "colab": {
          "base_uri": "https://localhost:8080/",
          "height": 500
        },
        "outputId": "9cd4681b-185a-4e53-f91d-bcc665c5eedc"
      },
      "source": [
        "train['HBB'].hist(bins=40,color='violet',figsize=(12,8))"
      ],
      "execution_count": 90,
      "outputs": [
        {
          "output_type": "execute_result",
          "data": {
            "text/plain": [
              "<matplotlib.axes._subplots.AxesSubplot at 0x7f8d85dfbeb8>"
            ]
          },
          "metadata": {
            "tags": []
          },
          "execution_count": 90
        },
        {
          "output_type": "display_data",
          "data": {
            "image/png": "[encoded data removed]",
            "text/plain": [
              "<Figure size 864x576 with 1 Axes>"
            ]
          },
          "metadata": {
            "tags": []
          }
        }
      ]
    },
    {
      "cell_type": "code",
      "metadata": {
        "id": "xKhcWE1FEyVz",
        "colab_type": "code",
        "colab": {
          "base_uri": "https://localhost:8080/",
          "height": 510
        },
        "outputId": "5c877159-3cf2-4a8a-a9a9-eeb189c948d9"
      },
      "source": [
        "train.dtypes"
      ],
      "execution_count": 91,
      "outputs": [
        {
          "output_type": "execute_result",
          "data": {
            "text/plain": [
              "people_ID                   int64\n",
              "Region                     object\n",
              "Gender                     object\n",
              "Designation                object\n",
              "Name                       object\n",
              "Married                    object\n",
              "Children                  float64\n",
              "Occupation                 object\n",
              "Mode_transport             object\n",
              "cases/1M                    int64\n",
              "Deaths/1M                   int64\n",
              "comorbidity                object\n",
              "Age                         int64\n",
              "Coma score                  int64\n",
              "Pulmonary score            object\n",
              "cardiological pressure     object\n",
              "Diuresis                  float64\n",
              "Platelets                 float64\n",
              "HBB                       float64\n",
              "d-dimer                   float64\n",
              "Heart rate                float64\n",
              "HDL cholesterol           float64\n",
              "Charlson Index              int64\n",
              "Blood Glucose               int64\n",
              "Insurance                 float64\n",
              "salary                      int64\n",
              "FT/month                  float64\n",
              "Infect_Prob               float64\n",
              "dtype: object"
            ]
          },
          "metadata": {
            "tags": []
          },
          "execution_count": 91
        }
      ]
    },
    {
      "cell_type": "code",
      "metadata": {
        "id": "NKjtg10P64zO",
        "colab_type": "code",
        "colab": {
          "base_uri": "https://localhost:8080/",
          "height": 514
        },
        "outputId": "0fbfacb7-558f-48a5-9174-1dc382cdc0ba"
      },
      "source": [
        "plt.figure(figsize=(8,8))\n",
        "sns.countplot(x='cardiological pressure',hue='comorbidity',data=train,palette='RdBu_r')"
      ],
      "execution_count": 92,
      "outputs": [
        {
          "output_type": "execute_result",
          "data": {
            "text/plain": [
              "<matplotlib.axes._subplots.AxesSubplot at 0x7f8d85b77438>"
            ]
          },
          "metadata": {
            "tags": []
          },
          "execution_count": 92
        },
        {
          "output_type": "display_data",
          "data": {
            "image/png": "[encoded data removed]",
            "text/plain": [
              "<Figure size 576x576 with 1 Axes>"
            ]
          },
          "metadata": {
            "tags": []
          }
        }
      ]
    },
    {
      "cell_type": "code",
      "metadata": {
        "id": "sh0w3eW9NGqf",
        "colab_type": "code",
        "colab": {
          "base_uri": "https://localhost:8080/",
          "height": 136
        },
        "outputId": "c9aa4a51-05cd-48ba-86d5-470b1cee0ccc"
      },
      "source": [
        "train.columns"
      ],
      "execution_count": 93,
      "outputs": [
        {
          "output_type": "execute_result",
          "data": {
            "text/plain": [
              "Index(['people_ID', 'Region', 'Gender', 'Designation', 'Name', 'Married',\n",
              "       'Children', 'Occupation', 'Mode_transport', 'cases/1M', 'Deaths/1M',\n",
              "       'comorbidity', 'Age', 'Coma score', 'Pulmonary score',\n",
              "       'cardiological pressure', 'Diuresis', 'Platelets', 'HBB', 'd-dimer',\n",
              "       'Heart rate', 'HDL cholesterol', 'Charlson Index', 'Blood Glucose',\n",
              "       'Insurance', 'salary', 'FT/month', 'Infect_Prob'],\n",
              "      dtype='object')"
            ]
          },
          "metadata": {
            "tags": []
          },
          "execution_count": 93
        }
      ]
    },
    {
      "cell_type": "code",
      "metadata": {
        "id": "0U6_RHH3wflt",
        "colab_type": "code",
        "colab": {}
      },
      "source": [
        "# ## FILLED WITH MEAN\n",
        "train['HBB'].fillna(117.000000,inplace=True)\n",
        "train['Platelets'].fillna(88.000000,inplace=True)\n",
        "train['Diuresis'].fillna(276.0000,inplace=True)\n",
        "train['d-dimer'].fillna(276.000000,inplace=True)\n",
        "train['Heart rate'].fillna(75.000000,inplace=True)\n",
        "train['HDL cholesterol'].fillna(53.0000000,inplace=True)\n",
        "train['Insurance'].fillna(2.600000e+06,inplace=True)\n",
        "\n",
        "# train.fillna(train.mean,inplace=True)\n",
        "\n",
        "## MEAN OF VARIOUS COLUMNS:\n",
        "\n",
        "# Diuresis: 276.000000\t\n",
        "# Platelets: 88.000000\n",
        "# HBB :\t117.000000\n",
        "# d-dimer :\t276.000000\n",
        "# Heart rate :\t75.000000\n",
        "# HDL cholestrol :\t53.000000\n",
        "# Insurance : 2.600000e+06\n",
        "\n",
        "\n",
        "## FILLED WITH MODE\n",
        "train['cardiological pressure'].fillna('Normal',inplace=True) \n",
        "train['FT/month'].fillna(2.0,inplace=True)\n",
        "train['Occupation'].fillna('Legal',inplace=True)\n",
        "\n",
        "\n"
      ],
      "execution_count": 0,
      "outputs": []
    },
    {
      "cell_type": "code",
      "metadata": {
        "id": "VgjXQVmlPchs",
        "colab_type": "code",
        "colab": {
          "base_uri": "https://localhost:8080/",
          "height": 309
        },
        "outputId": "7d1f4179-5ffc-420c-8126-0366e2a0bf0c"
      },
      "source": [
        "train.head()"
      ],
      "execution_count": 95,
      "outputs": [
        {
          "output_type": "execute_result",
          "data": {
            "text/html": [
              "<div>\n",
              "<style scoped>\n",
              "    .dataframe tbody tr th:only-of-type {\n",
              "        vertical-align: middle;\n",
              "    }\n",
              "\n",
              "    .dataframe tbody tr th {\n",
              "        vertical-align: top;\n",
              "    }\n",
              "\n",
              "    .dataframe thead th {\n",
              "        text-align: right;\n",
              "    }\n",
              "</style>\n",
              "<table border=\"1\" class=\"dataframe\">\n",
              "  <thead>\n",
              "    <tr style=\"text-align: right;\">\n",
              "      <th></th>\n",
              "      <th>people_ID</th>\n",
              "      <th>Region</th>\n",
              "      <th>Gender</th>\n",
              "      <th>Designation</th>\n",
              "      <th>Name</th>\n",
              "      <th>Married</th>\n",
              "      <th>Children</th>\n",
              "      <th>Occupation</th>\n",
              "      <th>Mode_transport</th>\n",
              "      <th>cases/1M</th>\n",
              "      <th>Deaths/1M</th>\n",
              "      <th>comorbidity</th>\n",
              "      <th>Age</th>\n",
              "      <th>Coma score</th>\n",
              "      <th>Pulmonary score</th>\n",
              "      <th>cardiological pressure</th>\n",
              "      <th>Diuresis</th>\n",
              "      <th>Platelets</th>\n",
              "      <th>HBB</th>\n",
              "      <th>d-dimer</th>\n",
              "      <th>Heart rate</th>\n",
              "      <th>HDL cholesterol</th>\n",
              "      <th>Charlson Index</th>\n",
              "      <th>Blood Glucose</th>\n",
              "      <th>Insurance</th>\n",
              "      <th>salary</th>\n",
              "      <th>FT/month</th>\n",
              "      <th>Infect_Prob</th>\n",
              "    </tr>\n",
              "  </thead>\n",
              "  <tbody>\n",
              "    <tr>\n",
              "      <th>0</th>\n",
              "      <td>1</td>\n",
              "      <td>Bhubaneshwar</td>\n",
              "      <td>Female</td>\n",
              "      <td>Mrs</td>\n",
              "      <td>mansi</td>\n",
              "      <td>YES</td>\n",
              "      <td>1.0</td>\n",
              "      <td>Farmer</td>\n",
              "      <td>Public</td>\n",
              "      <td>2</td>\n",
              "      <td>0</td>\n",
              "      <td>Hypertension</td>\n",
              "      <td>68</td>\n",
              "      <td>8</td>\n",
              "      <td>&lt;400</td>\n",
              "      <td>Normal</td>\n",
              "      <td>441.0</td>\n",
              "      <td>154.0</td>\n",
              "      <td>93.0</td>\n",
              "      <td>233.0</td>\n",
              "      <td>82.0</td>\n",
              "      <td>58.0</td>\n",
              "      <td>27</td>\n",
              "      <td>7</td>\n",
              "      <td>3600000.0</td>\n",
              "      <td>1300000</td>\n",
              "      <td>2.0</td>\n",
              "      <td>49.135010</td>\n",
              "    </tr>\n",
              "    <tr>\n",
              "      <th>1</th>\n",
              "      <td>2</td>\n",
              "      <td>Bhubaneshwar</td>\n",
              "      <td>Female</td>\n",
              "      <td>Mrs</td>\n",
              "      <td>riya masi</td>\n",
              "      <td>YES</td>\n",
              "      <td>2.0</td>\n",
              "      <td>Farmer</td>\n",
              "      <td>Walk</td>\n",
              "      <td>2</td>\n",
              "      <td>0</td>\n",
              "      <td>Diabetes</td>\n",
              "      <td>64</td>\n",
              "      <td>15</td>\n",
              "      <td>&lt;100</td>\n",
              "      <td>Stage-02</td>\n",
              "      <td>276.0</td>\n",
              "      <td>121.0</td>\n",
              "      <td>56.0</td>\n",
              "      <td>328.0</td>\n",
              "      <td>89.0</td>\n",
              "      <td>68.0</td>\n",
              "      <td>5</td>\n",
              "      <td>6</td>\n",
              "      <td>1600000.0</td>\n",
              "      <td>400000</td>\n",
              "      <td>1.0</td>\n",
              "      <td>51.147880</td>\n",
              "    </tr>\n",
              "    <tr>\n",
              "      <th>2</th>\n",
              "      <td>3</td>\n",
              "      <td>Bhubaneshwar</td>\n",
              "      <td>Female</td>\n",
              "      <td>Mrs</td>\n",
              "      <td>sunita</td>\n",
              "      <td>NO</td>\n",
              "      <td>1.0</td>\n",
              "      <td>Cleaner</td>\n",
              "      <td>Public</td>\n",
              "      <td>2</td>\n",
              "      <td>0</td>\n",
              "      <td>None</td>\n",
              "      <td>19</td>\n",
              "      <td>13</td>\n",
              "      <td>&lt;300</td>\n",
              "      <td>Elevated</td>\n",
              "      <td>416.0</td>\n",
              "      <td>124.0</td>\n",
              "      <td>137.0</td>\n",
              "      <td>213.0</td>\n",
              "      <td>77.0</td>\n",
              "      <td>43.0</td>\n",
              "      <td>40</td>\n",
              "      <td>6</td>\n",
              "      <td>3400000.0</td>\n",
              "      <td>900000</td>\n",
              "      <td>1.0</td>\n",
              "      <td>73.224000</td>\n",
              "    </tr>\n",
              "    <tr>\n",
              "      <th>3</th>\n",
              "      <td>4</td>\n",
              "      <td>Bhubaneshwar</td>\n",
              "      <td>Female</td>\n",
              "      <td>Mrs</td>\n",
              "      <td>anjali @ babli</td>\n",
              "      <td>YES</td>\n",
              "      <td>1.0</td>\n",
              "      <td>Driver</td>\n",
              "      <td>Car</td>\n",
              "      <td>2</td>\n",
              "      <td>0</td>\n",
              "      <td>Coronary Heart Disease</td>\n",
              "      <td>33</td>\n",
              "      <td>9</td>\n",
              "      <td>&lt;200</td>\n",
              "      <td>Stage-01</td>\n",
              "      <td>410.0</td>\n",
              "      <td>98.0</td>\n",
              "      <td>167.0</td>\n",
              "      <td>275.0</td>\n",
              "      <td>64.0</td>\n",
              "      <td>60.0</td>\n",
              "      <td>27</td>\n",
              "      <td>7</td>\n",
              "      <td>700000.0</td>\n",
              "      <td>2300000</td>\n",
              "      <td>1.0</td>\n",
              "      <td>48.779225</td>\n",
              "    </tr>\n",
              "    <tr>\n",
              "      <th>4</th>\n",
              "      <td>5</td>\n",
              "      <td>Bhubaneshwar</td>\n",
              "      <td>Female</td>\n",
              "      <td>Mrs</td>\n",
              "      <td>champa karketta</td>\n",
              "      <td>NO</td>\n",
              "      <td>2.0</td>\n",
              "      <td>Manufacturing</td>\n",
              "      <td>Car</td>\n",
              "      <td>2</td>\n",
              "      <td>0</td>\n",
              "      <td>Diabetes</td>\n",
              "      <td>23</td>\n",
              "      <td>7</td>\n",
              "      <td>&lt;400</td>\n",
              "      <td>Normal</td>\n",
              "      <td>390.0</td>\n",
              "      <td>21.0</td>\n",
              "      <td>153.0</td>\n",
              "      <td>331.0</td>\n",
              "      <td>71.0</td>\n",
              "      <td>64.0</td>\n",
              "      <td>32</td>\n",
              "      <td>7</td>\n",
              "      <td>3200000.0</td>\n",
              "      <td>1100000</td>\n",
              "      <td>1.0</td>\n",
              "      <td>87.868800</td>\n",
              "    </tr>\n",
              "  </tbody>\n",
              "</table>\n",
              "</div>"
            ],
            "text/plain": [
              "   people_ID        Region  Gender  ...   salary FT/month Infect_Prob\n",
              "0          1  Bhubaneshwar  Female  ...  1300000      2.0   49.135010\n",
              "1          2  Bhubaneshwar  Female  ...   400000      1.0   51.147880\n",
              "2          3  Bhubaneshwar  Female  ...   900000      1.0   73.224000\n",
              "3          4  Bhubaneshwar  Female  ...  2300000      1.0   48.779225\n",
              "4          5  Bhubaneshwar  Female  ...  1100000      1.0   87.868800\n",
              "\n",
              "[5 rows x 28 columns]"
            ]
          },
          "metadata": {
            "tags": []
          },
          "execution_count": 95
        }
      ]
    },
    {
      "cell_type": "code",
      "metadata": {
        "id": "qGm5xZHEwmV7",
        "colab_type": "code",
        "outputId": "cf995667-1445-44d4-ce7a-d02d8f17b154",
        "colab": {
          "base_uri": "https://localhost:8080/",
          "height": 510
        }
      },
      "source": [
        "train.isnull().sum()"
      ],
      "execution_count": 96,
      "outputs": [
        {
          "output_type": "execute_result",
          "data": {
            "text/plain": [
              "people_ID                  0\n",
              "Region                     0\n",
              "Gender                     0\n",
              "Designation                0\n",
              "Name                      20\n",
              "Married                    0\n",
              "Children                   0\n",
              "Occupation                 0\n",
              "Mode_transport             0\n",
              "cases/1M                   0\n",
              "Deaths/1M                  0\n",
              "comorbidity                0\n",
              "Age                        0\n",
              "Coma score                 0\n",
              "Pulmonary score            0\n",
              "cardiological pressure     0\n",
              "Diuresis                   0\n",
              "Platelets                  0\n",
              "HBB                        0\n",
              "d-dimer                    0\n",
              "Heart rate                 0\n",
              "HDL cholesterol            0\n",
              "Charlson Index             0\n",
              "Blood Glucose              0\n",
              "Insurance                  0\n",
              "salary                     0\n",
              "FT/month                   0\n",
              "Infect_Prob                0\n",
              "dtype: int64"
            ]
          },
          "metadata": {
            "tags": []
          },
          "execution_count": 96
        }
      ]
    },
    {
      "cell_type": "code",
      "metadata": {
        "id": "tMb2LIG8K5co",
        "colab_type": "code",
        "colab": {
          "base_uri": "https://localhost:8080/",
          "height": 604
        },
        "outputId": "57843498-b304-4e32-bede-ef651c9b22cf"
      },
      "source": [
        "## Let's Visualize the Missing Values.\n",
        "\n",
        "dims = (12,8)\n",
        "fig,ax = plt.subplots(figsize=dims)\n",
        "sns.heatmap(train.isnull(),cbar=True,yticklabels=False,cmap='viridis',ax=ax)\n",
        "\n",
        "## Try the cmap=\"YlGnBu\" for different style\n"
      ],
      "execution_count": 97,
      "outputs": [
        {
          "output_type": "execute_result",
          "data": {
            "text/plain": [
              "<matplotlib.axes._subplots.AxesSubplot at 0x7f8d8a62e0b8>"
            ]
          },
          "metadata": {
            "tags": []
          },
          "execution_count": 97
        },
        {
          "output_type": "display_data",
          "data": {
            "image/png": "[encoded data removed]",
            "text/plain": [
              "<Figure size 864x576 with 2 Axes>"
            ]
          },
          "metadata": {
            "tags": []
          }
        }
      ]
    },
    {
      "cell_type": "markdown",
      "metadata": {
        "id": "UTwrwdNYf_MT",
        "colab_type": "text"
      },
      "source": [
        "### One Hot Encoding:\n",
        "\n",
        "**Converting Categorical Features into Numerical**"
      ]
    },
    {
      "cell_type": "code",
      "metadata": {
        "id": "KSt-VYBqmNir",
        "colab_type": "code",
        "outputId": "c4b69539-3dc9-4e1f-e2dc-c06f801d8c4b",
        "colab": {
          "base_uri": "https://localhost:8080/",
          "height": 510
        }
      },
      "source": [
        "## In order to create a model:\n",
        "## Need to convert all these object dtypes columns into numerical(int or float) \n",
        "train.dtypes"
      ],
      "execution_count": 98,
      "outputs": [
        {
          "output_type": "execute_result",
          "data": {
            "text/plain": [
              "people_ID                   int64\n",
              "Region                     object\n",
              "Gender                     object\n",
              "Designation                object\n",
              "Name                       object\n",
              "Married                    object\n",
              "Children                  float64\n",
              "Occupation                 object\n",
              "Mode_transport             object\n",
              "cases/1M                    int64\n",
              "Deaths/1M                   int64\n",
              "comorbidity                object\n",
              "Age                         int64\n",
              "Coma score                  int64\n",
              "Pulmonary score            object\n",
              "cardiological pressure     object\n",
              "Diuresis                  float64\n",
              "Platelets                 float64\n",
              "HBB                       float64\n",
              "d-dimer                   float64\n",
              "Heart rate                float64\n",
              "HDL cholesterol           float64\n",
              "Charlson Index              int64\n",
              "Blood Glucose               int64\n",
              "Insurance                 float64\n",
              "salary                      int64\n",
              "FT/month                  float64\n",
              "Infect_Prob               float64\n",
              "dtype: object"
            ]
          },
          "metadata": {
            "tags": []
          },
          "execution_count": 98
        }
      ]
    },
    {
      "cell_type": "code",
      "metadata": {
        "id": "IXLcIOrerFV6",
        "colab_type": "code",
        "outputId": "f898925c-6971-47d0-dce2-6a05a3eb5bf2",
        "colab": {
          "base_uri": "https://localhost:8080/",
          "height": 102
        }
      },
      "source": [
        "train['Pulmonary score'].value_counts()"
      ],
      "execution_count": 99,
      "outputs": [
        {
          "output_type": "execute_result",
          "data": {
            "text/plain": [
              "<400    2702\n",
              "<200    2677\n",
              "<300    2671\n",
              "<100    2664\n",
              "Name: Pulmonary score, dtype: int64"
            ]
          },
          "metadata": {
            "tags": []
          },
          "execution_count": 99
        }
      ]
    },
    {
      "cell_type": "markdown",
      "metadata": {
        "id": "QLEA7Gp4oi6j",
        "colab_type": "text"
      },
      "source": [
        "**Label Encoding of Two Categories Features**\n",
        "\n",
        "- 1. Gender: Male = 0 , Female = 1\n",
        "\n",
        "- 2. Designation: Mr. = 0 , Mrs = 1\n",
        "\n",
        "- 3. Married: No = 0 ,Yes = 1"
      ]
    },
    {
      "cell_type": "code",
      "metadata": {
        "id": "0CaQvXoEmNez",
        "colab_type": "code",
        "outputId": "b327a2bb-189e-4692-93fb-8d5ee36c1174",
        "colab": {
          "base_uri": "https://localhost:8080/",
          "height": 309
        }
      },
      "source": [
        "train['Gender'].replace(to_replace=['Male','Female'], value=[0,1],inplace=True)\n",
        "train['Designation'].replace(to_replace=['Mr','Mrs'], value=[0,1],inplace=True)\n",
        "train['Married'].replace(to_replace=['NO','YES'], value=[0,1],inplace=True)\n",
        "train.head()"
      ],
      "execution_count": 100,
      "outputs": [
        {
          "output_type": "execute_result",
          "data": {
            "text/html": [
              "<div>\n",
              "<style scoped>\n",
              "    .dataframe tbody tr th:only-of-type {\n",
              "        vertical-align: middle;\n",
              "    }\n",
              "\n",
              "    .dataframe tbody tr th {\n",
              "        vertical-align: top;\n",
              "    }\n",
              "\n",
              "    .dataframe thead th {\n",
              "        text-align: right;\n",
              "    }\n",
              "</style>\n",
              "<table border=\"1\" class=\"dataframe\">\n",
              "  <thead>\n",
              "    <tr style=\"text-align: right;\">\n",
              "      <th></th>\n",
              "      <th>people_ID</th>\n",
              "      <th>Region</th>\n",
              "      <th>Gender</th>\n",
              "      <th>Designation</th>\n",
              "      <th>Name</th>\n",
              "      <th>Married</th>\n",
              "      <th>Children</th>\n",
              "      <th>Occupation</th>\n",
              "      <th>Mode_transport</th>\n",
              "      <th>cases/1M</th>\n",
              "      <th>Deaths/1M</th>\n",
              "      <th>comorbidity</th>\n",
              "      <th>Age</th>\n",
              "      <th>Coma score</th>\n",
              "      <th>Pulmonary score</th>\n",
              "      <th>cardiological pressure</th>\n",
              "      <th>Diuresis</th>\n",
              "      <th>Platelets</th>\n",
              "      <th>HBB</th>\n",
              "      <th>d-dimer</th>\n",
              "      <th>Heart rate</th>\n",
              "      <th>HDL cholesterol</th>\n",
              "      <th>Charlson Index</th>\n",
              "      <th>Blood Glucose</th>\n",
              "      <th>Insurance</th>\n",
              "      <th>salary</th>\n",
              "      <th>FT/month</th>\n",
              "      <th>Infect_Prob</th>\n",
              "    </tr>\n",
              "  </thead>\n",
              "  <tbody>\n",
              "    <tr>\n",
              "      <th>0</th>\n",
              "      <td>1</td>\n",
              "      <td>Bhubaneshwar</td>\n",
              "      <td>1</td>\n",
              "      <td>1</td>\n",
              "      <td>mansi</td>\n",
              "      <td>1</td>\n",
              "      <td>1.0</td>\n",
              "      <td>Farmer</td>\n",
              "      <td>Public</td>\n",
              "      <td>2</td>\n",
              "      <td>0</td>\n",
              "      <td>Hypertension</td>\n",
              "      <td>68</td>\n",
              "      <td>8</td>\n",
              "      <td>&lt;400</td>\n",
              "      <td>Normal</td>\n",
              "      <td>441.0</td>\n",
              "      <td>154.0</td>\n",
              "      <td>93.0</td>\n",
              "      <td>233.0</td>\n",
              "      <td>82.0</td>\n",
              "      <td>58.0</td>\n",
              "      <td>27</td>\n",
              "      <td>7</td>\n",
              "      <td>3600000.0</td>\n",
              "      <td>1300000</td>\n",
              "      <td>2.0</td>\n",
              "      <td>49.135010</td>\n",
              "    </tr>\n",
              "    <tr>\n",
              "      <th>1</th>\n",
              "      <td>2</td>\n",
              "      <td>Bhubaneshwar</td>\n",
              "      <td>1</td>\n",
              "      <td>1</td>\n",
              "      <td>riya masi</td>\n",
              "      <td>1</td>\n",
              "      <td>2.0</td>\n",
              "      <td>Farmer</td>\n",
              "      <td>Walk</td>\n",
              "      <td>2</td>\n",
              "      <td>0</td>\n",
              "      <td>Diabetes</td>\n",
              "      <td>64</td>\n",
              "      <td>15</td>\n",
              "      <td>&lt;100</td>\n",
              "      <td>Stage-02</td>\n",
              "      <td>276.0</td>\n",
              "      <td>121.0</td>\n",
              "      <td>56.0</td>\n",
              "      <td>328.0</td>\n",
              "      <td>89.0</td>\n",
              "      <td>68.0</td>\n",
              "      <td>5</td>\n",
              "      <td>6</td>\n",
              "      <td>1600000.0</td>\n",
              "      <td>400000</td>\n",
              "      <td>1.0</td>\n",
              "      <td>51.147880</td>\n",
              "    </tr>\n",
              "    <tr>\n",
              "      <th>2</th>\n",
              "      <td>3</td>\n",
              "      <td>Bhubaneshwar</td>\n",
              "      <td>1</td>\n",
              "      <td>1</td>\n",
              "      <td>sunita</td>\n",
              "      <td>0</td>\n",
              "      <td>1.0</td>\n",
              "      <td>Cleaner</td>\n",
              "      <td>Public</td>\n",
              "      <td>2</td>\n",
              "      <td>0</td>\n",
              "      <td>None</td>\n",
              "      <td>19</td>\n",
              "      <td>13</td>\n",
              "      <td>&lt;300</td>\n",
              "      <td>Elevated</td>\n",
              "      <td>416.0</td>\n",
              "      <td>124.0</td>\n",
              "      <td>137.0</td>\n",
              "      <td>213.0</td>\n",
              "      <td>77.0</td>\n",
              "      <td>43.0</td>\n",
              "      <td>40</td>\n",
              "      <td>6</td>\n",
              "      <td>3400000.0</td>\n",
              "      <td>900000</td>\n",
              "      <td>1.0</td>\n",
              "      <td>73.224000</td>\n",
              "    </tr>\n",
              "    <tr>\n",
              "      <th>3</th>\n",
              "      <td>4</td>\n",
              "      <td>Bhubaneshwar</td>\n",
              "      <td>1</td>\n",
              "      <td>1</td>\n",
              "      <td>anjali @ babli</td>\n",
              "      <td>1</td>\n",
              "      <td>1.0</td>\n",
              "      <td>Driver</td>\n",
              "      <td>Car</td>\n",
              "      <td>2</td>\n",
              "      <td>0</td>\n",
              "      <td>Coronary Heart Disease</td>\n",
              "      <td>33</td>\n",
              "      <td>9</td>\n",
              "      <td>&lt;200</td>\n",
              "      <td>Stage-01</td>\n",
              "      <td>410.0</td>\n",
              "      <td>98.0</td>\n",
              "      <td>167.0</td>\n",
              "      <td>275.0</td>\n",
              "      <td>64.0</td>\n",
              "      <td>60.0</td>\n",
              "      <td>27</td>\n",
              "      <td>7</td>\n",
              "      <td>700000.0</td>\n",
              "      <td>2300000</td>\n",
              "      <td>1.0</td>\n",
              "      <td>48.779225</td>\n",
              "    </tr>\n",
              "    <tr>\n",
              "      <th>4</th>\n",
              "      <td>5</td>\n",
              "      <td>Bhubaneshwar</td>\n",
              "      <td>1</td>\n",
              "      <td>1</td>\n",
              "      <td>champa karketta</td>\n",
              "      <td>0</td>\n",
              "      <td>2.0</td>\n",
              "      <td>Manufacturing</td>\n",
              "      <td>Car</td>\n",
              "      <td>2</td>\n",
              "      <td>0</td>\n",
              "      <td>Diabetes</td>\n",
              "      <td>23</td>\n",
              "      <td>7</td>\n",
              "      <td>&lt;400</td>\n",
              "      <td>Normal</td>\n",
              "      <td>390.0</td>\n",
              "      <td>21.0</td>\n",
              "      <td>153.0</td>\n",
              "      <td>331.0</td>\n",
              "      <td>71.0</td>\n",
              "      <td>64.0</td>\n",
              "      <td>32</td>\n",
              "      <td>7</td>\n",
              "      <td>3200000.0</td>\n",
              "      <td>1100000</td>\n",
              "      <td>1.0</td>\n",
              "      <td>87.868800</td>\n",
              "    </tr>\n",
              "  </tbody>\n",
              "</table>\n",
              "</div>"
            ],
            "text/plain": [
              "   people_ID        Region  Gender  ...   salary FT/month  Infect_Prob\n",
              "0          1  Bhubaneshwar       1  ...  1300000      2.0    49.135010\n",
              "1          2  Bhubaneshwar       1  ...   400000      1.0    51.147880\n",
              "2          3  Bhubaneshwar       1  ...   900000      1.0    73.224000\n",
              "3          4  Bhubaneshwar       1  ...  2300000      1.0    48.779225\n",
              "4          5  Bhubaneshwar       1  ...  1100000      1.0    87.868800\n",
              "\n",
              "[5 rows x 28 columns]"
            ]
          },
          "metadata": {
            "tags": []
          },
          "execution_count": 100
        }
      ]
    },
    {
      "cell_type": "code",
      "metadata": {
        "id": "kfeGYYH8qBRs",
        "colab_type": "code",
        "colab": {}
      },
      "source": [
        ""
      ],
      "execution_count": 0,
      "outputs": []
    },
    {
      "cell_type": "code",
      "metadata": {
        "id": "CSu76lfepny2",
        "colab_type": "code",
        "colab": {}
      },
      "source": [
        ""
      ],
      "execution_count": 0,
      "outputs": []
    },
    {
      "cell_type": "markdown",
      "metadata": {
        "id": "jayxKEyvpoob",
        "colab_type": "text"
      },
      "source": [
        "**One Hot Encoding of Features with More than 2 Categorical Values**\n",
        "\n",
        "1. Region\n",
        "2. Occupation \n",
        "3. comorbidity\n",
        "4. Mode_transport\n",
        "5. cardiological pressure\n",
        "6. Pulmonary score"
      ]
    },
    {
      "cell_type": "code",
      "metadata": {
        "id": "HXmrzHT9mNcC",
        "colab_type": "code",
        "colab": {}
      },
      "source": [
        "train = pd.get_dummies(data=train, columns=['Region', 'Occupation','comorbidity','Mode_transport','Pulmonary score','cardiological pressure'],drop_first=True)\n"
      ],
      "execution_count": 0,
      "outputs": []
    },
    {
      "cell_type": "code",
      "metadata": {
        "id": "MWctktOxPNNH",
        "colab_type": "code",
        "colab": {
          "base_uri": "https://localhost:8080/",
          "height": 309
        },
        "outputId": "95d2e2c5-0f94-43ad-b629-3aeb1b8f449a"
      },
      "source": [
        "train.head()"
      ],
      "execution_count": 102,
      "outputs": [
        {
          "output_type": "execute_result",
          "data": {
            "text/html": [
              "<div>\n",
              "<style scoped>\n",
              "    .dataframe tbody tr th:only-of-type {\n",
              "        vertical-align: middle;\n",
              "    }\n",
              "\n",
              "    .dataframe tbody tr th {\n",
              "        vertical-align: top;\n",
              "    }\n",
              "\n",
              "    .dataframe thead th {\n",
              "        text-align: right;\n",
              "    }\n",
              "</style>\n",
              "<table border=\"1\" class=\"dataframe\">\n",
              "  <thead>\n",
              "    <tr style=\"text-align: right;\">\n",
              "      <th></th>\n",
              "      <th>people_ID</th>\n",
              "      <th>Gender</th>\n",
              "      <th>Designation</th>\n",
              "      <th>Name</th>\n",
              "      <th>Married</th>\n",
              "      <th>Children</th>\n",
              "      <th>cases/1M</th>\n",
              "      <th>Deaths/1M</th>\n",
              "      <th>Age</th>\n",
              "      <th>Coma score</th>\n",
              "      <th>Diuresis</th>\n",
              "      <th>Platelets</th>\n",
              "      <th>HBB</th>\n",
              "      <th>d-dimer</th>\n",
              "      <th>Heart rate</th>\n",
              "      <th>HDL cholesterol</th>\n",
              "      <th>Charlson Index</th>\n",
              "      <th>Blood Glucose</th>\n",
              "      <th>Insurance</th>\n",
              "      <th>salary</th>\n",
              "      <th>FT/month</th>\n",
              "      <th>Infect_Prob</th>\n",
              "      <th>Region_Bhubaneshwar</th>\n",
              "      <th>Region_Chandigarh</th>\n",
              "      <th>Region_Chennai</th>\n",
              "      <th>Region_Delhi</th>\n",
              "      <th>Occupation_Cleaner</th>\n",
              "      <th>Occupation_Clerk</th>\n",
              "      <th>Occupation_Driver</th>\n",
              "      <th>Occupation_Farmer</th>\n",
              "      <th>Occupation_Legal</th>\n",
              "      <th>Occupation_Manufacturing</th>\n",
              "      <th>Occupation_Researcher</th>\n",
              "      <th>Occupation_Sales</th>\n",
              "      <th>comorbidity_Diabetes</th>\n",
              "      <th>comorbidity_Hypertension</th>\n",
              "      <th>comorbidity_None</th>\n",
              "      <th>Mode_transport_Public</th>\n",
              "      <th>Mode_transport_Walk</th>\n",
              "      <th>Pulmonary score_&lt;200</th>\n",
              "      <th>Pulmonary score_&lt;300</th>\n",
              "      <th>Pulmonary score_&lt;400</th>\n",
              "      <th>cardiological pressure_Normal</th>\n",
              "      <th>cardiological pressure_Stage-01</th>\n",
              "      <th>cardiological pressure_Stage-02</th>\n",
              "    </tr>\n",
              "  </thead>\n",
              "  <tbody>\n",
              "    <tr>\n",
              "      <th>0</th>\n",
              "      <td>1</td>\n",
              "      <td>1</td>\n",
              "      <td>1</td>\n",
              "      <td>mansi</td>\n",
              "      <td>1</td>\n",
              "      <td>1.0</td>\n",
              "      <td>2</td>\n",
              "      <td>0</td>\n",
              "      <td>68</td>\n",
              "      <td>8</td>\n",
              "      <td>441.0</td>\n",
              "      <td>154.0</td>\n",
              "      <td>93.0</td>\n",
              "      <td>233.0</td>\n",
              "      <td>82.0</td>\n",
              "      <td>58.0</td>\n",
              "      <td>27</td>\n",
              "      <td>7</td>\n",
              "      <td>3600000.0</td>\n",
              "      <td>1300000</td>\n",
              "      <td>2.0</td>\n",
              "      <td>49.135010</td>\n",
              "      <td>1</td>\n",
              "      <td>0</td>\n",
              "      <td>0</td>\n",
              "      <td>0</td>\n",
              "      <td>0</td>\n",
              "      <td>0</td>\n",
              "      <td>0</td>\n",
              "      <td>1</td>\n",
              "      <td>0</td>\n",
              "      <td>0</td>\n",
              "      <td>0</td>\n",
              "      <td>0</td>\n",
              "      <td>0</td>\n",
              "      <td>1</td>\n",
              "      <td>0</td>\n",
              "      <td>1</td>\n",
              "      <td>0</td>\n",
              "      <td>0</td>\n",
              "      <td>0</td>\n",
              "      <td>1</td>\n",
              "      <td>1</td>\n",
              "      <td>0</td>\n",
              "      <td>0</td>\n",
              "    </tr>\n",
              "    <tr>\n",
              "      <th>1</th>\n",
              "      <td>2</td>\n",
              "      <td>1</td>\n",
              "      <td>1</td>\n",
              "      <td>riya masi</td>\n",
              "      <td>1</td>\n",
              "      <td>2.0</td>\n",
              "      <td>2</td>\n",
              "      <td>0</td>\n",
              "      <td>64</td>\n",
              "      <td>15</td>\n",
              "      <td>276.0</td>\n",
              "      <td>121.0</td>\n",
              "      <td>56.0</td>\n",
              "      <td>328.0</td>\n",
              "      <td>89.0</td>\n",
              "      <td>68.0</td>\n",
              "      <td>5</td>\n",
              "      <td>6</td>\n",
              "      <td>1600000.0</td>\n",
              "      <td>400000</td>\n",
              "      <td>1.0</td>\n",
              "      <td>51.147880</td>\n",
              "      <td>1</td>\n",
              "      <td>0</td>\n",
              "      <td>0</td>\n",
              "      <td>0</td>\n",
              "      <td>0</td>\n",
              "      <td>0</td>\n",
              "      <td>0</td>\n",
              "      <td>1</td>\n",
              "      <td>0</td>\n",
              "      <td>0</td>\n",
              "      <td>0</td>\n",
              "      <td>0</td>\n",
              "      <td>1</td>\n",
              "      <td>0</td>\n",
              "      <td>0</td>\n",
              "      <td>0</td>\n",
              "      <td>1</td>\n",
              "      <td>0</td>\n",
              "      <td>0</td>\n",
              "      <td>0</td>\n",
              "      <td>0</td>\n",
              "      <td>0</td>\n",
              "      <td>1</td>\n",
              "    </tr>\n",
              "    <tr>\n",
              "      <th>2</th>\n",
              "      <td>3</td>\n",
              "      <td>1</td>\n",
              "      <td>1</td>\n",
              "      <td>sunita</td>\n",
              "      <td>0</td>\n",
              "      <td>1.0</td>\n",
              "      <td>2</td>\n",
              "      <td>0</td>\n",
              "      <td>19</td>\n",
              "      <td>13</td>\n",
              "      <td>416.0</td>\n",
              "      <td>124.0</td>\n",
              "      <td>137.0</td>\n",
              "      <td>213.0</td>\n",
              "      <td>77.0</td>\n",
              "      <td>43.0</td>\n",
              "      <td>40</td>\n",
              "      <td>6</td>\n",
              "      <td>3400000.0</td>\n",
              "      <td>900000</td>\n",
              "      <td>1.0</td>\n",
              "      <td>73.224000</td>\n",
              "      <td>1</td>\n",
              "      <td>0</td>\n",
              "      <td>0</td>\n",
              "      <td>0</td>\n",
              "      <td>1</td>\n",
              "      <td>0</td>\n",
              "      <td>0</td>\n",
              "      <td>0</td>\n",
              "      <td>0</td>\n",
              "      <td>0</td>\n",
              "      <td>0</td>\n",
              "      <td>0</td>\n",
              "      <td>0</td>\n",
              "      <td>0</td>\n",
              "      <td>1</td>\n",
              "      <td>1</td>\n",
              "      <td>0</td>\n",
              "      <td>0</td>\n",
              "      <td>1</td>\n",
              "      <td>0</td>\n",
              "      <td>0</td>\n",
              "      <td>0</td>\n",
              "      <td>0</td>\n",
              "    </tr>\n",
              "    <tr>\n",
              "      <th>3</th>\n",
              "      <td>4</td>\n",
              "      <td>1</td>\n",
              "      <td>1</td>\n",
              "      <td>anjali @ babli</td>\n",
              "      <td>1</td>\n",
              "      <td>1.0</td>\n",
              "      <td>2</td>\n",
              "      <td>0</td>\n",
              "      <td>33</td>\n",
              "      <td>9</td>\n",
              "      <td>410.0</td>\n",
              "      <td>98.0</td>\n",
              "      <td>167.0</td>\n",
              "      <td>275.0</td>\n",
              "      <td>64.0</td>\n",
              "      <td>60.0</td>\n",
              "      <td>27</td>\n",
              "      <td>7</td>\n",
              "      <td>700000.0</td>\n",
              "      <td>2300000</td>\n",
              "      <td>1.0</td>\n",
              "      <td>48.779225</td>\n",
              "      <td>1</td>\n",
              "      <td>0</td>\n",
              "      <td>0</td>\n",
              "      <td>0</td>\n",
              "      <td>0</td>\n",
              "      <td>0</td>\n",
              "      <td>1</td>\n",
              "      <td>0</td>\n",
              "      <td>0</td>\n",
              "      <td>0</td>\n",
              "      <td>0</td>\n",
              "      <td>0</td>\n",
              "      <td>0</td>\n",
              "      <td>0</td>\n",
              "      <td>0</td>\n",
              "      <td>0</td>\n",
              "      <td>0</td>\n",
              "      <td>1</td>\n",
              "      <td>0</td>\n",
              "      <td>0</td>\n",
              "      <td>0</td>\n",
              "      <td>1</td>\n",
              "      <td>0</td>\n",
              "    </tr>\n",
              "    <tr>\n",
              "      <th>4</th>\n",
              "      <td>5</td>\n",
              "      <td>1</td>\n",
              "      <td>1</td>\n",
              "      <td>champa karketta</td>\n",
              "      <td>0</td>\n",
              "      <td>2.0</td>\n",
              "      <td>2</td>\n",
              "      <td>0</td>\n",
              "      <td>23</td>\n",
              "      <td>7</td>\n",
              "      <td>390.0</td>\n",
              "      <td>21.0</td>\n",
              "      <td>153.0</td>\n",
              "      <td>331.0</td>\n",
              "      <td>71.0</td>\n",
              "      <td>64.0</td>\n",
              "      <td>32</td>\n",
              "      <td>7</td>\n",
              "      <td>3200000.0</td>\n",
              "      <td>1100000</td>\n",
              "      <td>1.0</td>\n",
              "      <td>87.868800</td>\n",
              "      <td>1</td>\n",
              "      <td>0</td>\n",
              "      <td>0</td>\n",
              "      <td>0</td>\n",
              "      <td>0</td>\n",
              "      <td>0</td>\n",
              "      <td>0</td>\n",
              "      <td>0</td>\n",
              "      <td>0</td>\n",
              "      <td>1</td>\n",
              "      <td>0</td>\n",
              "      <td>0</td>\n",
              "      <td>1</td>\n",
              "      <td>0</td>\n",
              "      <td>0</td>\n",
              "      <td>0</td>\n",
              "      <td>0</td>\n",
              "      <td>0</td>\n",
              "      <td>0</td>\n",
              "      <td>1</td>\n",
              "      <td>1</td>\n",
              "      <td>0</td>\n",
              "      <td>0</td>\n",
              "    </tr>\n",
              "  </tbody>\n",
              "</table>\n",
              "</div>"
            ],
            "text/plain": [
              "   people_ID  ...  cardiological pressure_Stage-02\n",
              "0          1  ...                                0\n",
              "1          2  ...                                1\n",
              "2          3  ...                                0\n",
              "3          4  ...                                0\n",
              "4          5  ...                                0\n",
              "\n",
              "[5 rows x 45 columns]"
            ]
          },
          "metadata": {
            "tags": []
          },
          "execution_count": 102
        }
      ]
    },
    {
      "cell_type": "markdown",
      "metadata": {
        "id": "OyLCZt6UsN-R",
        "colab_type": "text"
      },
      "source": [
        "**If  the values are 5 the dummies created are 4, that's in order to avoid dummy trap** \n",
        "\n",
        "Read More here:\n",
        "- [Dummy Variable Trap](https://www.geeksforgeeks.org/ml-dummy-variable-trap-in-regression-models/)"
      ]
    },
    {
      "cell_type": "markdown",
      "metadata": {
        "id": "jz0BEnT2WdrT",
        "colab_type": "text"
      },
      "source": [
        "## Modelling:\n",
        "\n",
        "### 1. Train-Test Split."
      ]
    },
    {
      "cell_type": "code",
      "metadata": {
        "id": "vmKui-1wVgoE",
        "colab_type": "code",
        "outputId": "bae65204-7634-4126-aede-b2afef0de96b",
        "colab": {
          "base_uri": "https://localhost:8080/",
          "height": 255
        }
      },
      "source": [
        "train.columns"
      ],
      "execution_count": 103,
      "outputs": [
        {
          "output_type": "execute_result",
          "data": {
            "text/plain": [
              "Index(['people_ID', 'Gender', 'Designation', 'Name', 'Married', 'Children',\n",
              "       'cases/1M', 'Deaths/1M', 'Age', 'Coma score', 'Diuresis', 'Platelets',\n",
              "       'HBB', 'd-dimer', 'Heart rate', 'HDL cholesterol', 'Charlson Index',\n",
              "       'Blood Glucose', 'Insurance', 'salary', 'FT/month', 'Infect_Prob',\n",
              "       'Region_Bhubaneshwar', 'Region_Chandigarh', 'Region_Chennai',\n",
              "       'Region_Delhi', 'Occupation_Cleaner', 'Occupation_Clerk',\n",
              "       'Occupation_Driver', 'Occupation_Farmer', 'Occupation_Legal',\n",
              "       'Occupation_Manufacturing', 'Occupation_Researcher', 'Occupation_Sales',\n",
              "       'comorbidity_Diabetes', 'comorbidity_Hypertension', 'comorbidity_None',\n",
              "       'Mode_transport_Public', 'Mode_transport_Walk', 'Pulmonary score_<200',\n",
              "       'Pulmonary score_<300', 'Pulmonary score_<400',\n",
              "       'cardiological pressure_Normal', 'cardiological pressure_Stage-01',\n",
              "       'cardiological pressure_Stage-02'],\n",
              "      dtype='object')"
            ]
          },
          "metadata": {
            "tags": []
          },
          "execution_count": 103
        }
      ]
    },
    {
      "cell_type": "code",
      "metadata": {
        "id": "JgfnTsHYYcbP",
        "colab_type": "code",
        "colab": {
          "base_uri": "https://localhost:8080/",
          "height": 119
        },
        "outputId": "f23aef9e-153e-45b5-c3c5-ef8e004f6ade"
      },
      "source": [
        "y = train[\"Infect_Prob\"]\n",
        "y.head()"
      ],
      "execution_count": 104,
      "outputs": [
        {
          "output_type": "execute_result",
          "data": {
            "text/plain": [
              "0    49.135010\n",
              "1    51.147880\n",
              "2    73.224000\n",
              "3    48.779225\n",
              "4    87.868800\n",
              "Name: Infect_Prob, dtype: float64"
            ]
          },
          "metadata": {
            "tags": []
          },
          "execution_count": 104
        }
      ]
    },
    {
      "cell_type": "code",
      "metadata": {
        "id": "dwRY01j2XySp",
        "colab_type": "code",
        "outputId": "5a68c8c8-bb71-4944-fe77-13debeed110a",
        "colab": {
          "base_uri": "https://localhost:8080/",
          "height": 258
        }
      },
      "source": [
        "\n",
        "x=train\n",
        "x.drop(['Name','Infect_Prob'],axis=1,inplace=True)\n",
        "x.head()\n"
      ],
      "execution_count": 105,
      "outputs": [
        {
          "output_type": "execute_result",
          "data": {
            "text/html": [
              "<div>\n",
              "<style scoped>\n",
              "    .dataframe tbody tr th:only-of-type {\n",
              "        vertical-align: middle;\n",
              "    }\n",
              "\n",
              "    .dataframe tbody tr th {\n",
              "        vertical-align: top;\n",
              "    }\n",
              "\n",
              "    .dataframe thead th {\n",
              "        text-align: right;\n",
              "    }\n",
              "</style>\n",
              "<table border=\"1\" class=\"dataframe\">\n",
              "  <thead>\n",
              "    <tr style=\"text-align: right;\">\n",
              "      <th></th>\n",
              "      <th>people_ID</th>\n",
              "      <th>Gender</th>\n",
              "      <th>Designation</th>\n",
              "      <th>Married</th>\n",
              "      <th>Children</th>\n",
              "      <th>cases/1M</th>\n",
              "      <th>Deaths/1M</th>\n",
              "      <th>Age</th>\n",
              "      <th>Coma score</th>\n",
              "      <th>Diuresis</th>\n",
              "      <th>Platelets</th>\n",
              "      <th>HBB</th>\n",
              "      <th>d-dimer</th>\n",
              "      <th>Heart rate</th>\n",
              "      <th>HDL cholesterol</th>\n",
              "      <th>Charlson Index</th>\n",
              "      <th>Blood Glucose</th>\n",
              "      <th>Insurance</th>\n",
              "      <th>salary</th>\n",
              "      <th>FT/month</th>\n",
              "      <th>Region_Bhubaneshwar</th>\n",
              "      <th>Region_Chandigarh</th>\n",
              "      <th>Region_Chennai</th>\n",
              "      <th>Region_Delhi</th>\n",
              "      <th>Occupation_Cleaner</th>\n",
              "      <th>Occupation_Clerk</th>\n",
              "      <th>Occupation_Driver</th>\n",
              "      <th>Occupation_Farmer</th>\n",
              "      <th>Occupation_Legal</th>\n",
              "      <th>Occupation_Manufacturing</th>\n",
              "      <th>Occupation_Researcher</th>\n",
              "      <th>Occupation_Sales</th>\n",
              "      <th>comorbidity_Diabetes</th>\n",
              "      <th>comorbidity_Hypertension</th>\n",
              "      <th>comorbidity_None</th>\n",
              "      <th>Mode_transport_Public</th>\n",
              "      <th>Mode_transport_Walk</th>\n",
              "      <th>Pulmonary score_&lt;200</th>\n",
              "      <th>Pulmonary score_&lt;300</th>\n",
              "      <th>Pulmonary score_&lt;400</th>\n",
              "      <th>cardiological pressure_Normal</th>\n",
              "      <th>cardiological pressure_Stage-01</th>\n",
              "      <th>cardiological pressure_Stage-02</th>\n",
              "    </tr>\n",
              "  </thead>\n",
              "  <tbody>\n",
              "    <tr>\n",
              "      <th>0</th>\n",
              "      <td>1</td>\n",
              "      <td>1</td>\n",
              "      <td>1</td>\n",
              "      <td>1</td>\n",
              "      <td>1.0</td>\n",
              "      <td>2</td>\n",
              "      <td>0</td>\n",
              "      <td>68</td>\n",
              "      <td>8</td>\n",
              "      <td>441.0</td>\n",
              "      <td>154.0</td>\n",
              "      <td>93.0</td>\n",
              "      <td>233.0</td>\n",
              "      <td>82.0</td>\n",
              "      <td>58.0</td>\n",
              "      <td>27</td>\n",
              "      <td>7</td>\n",
              "      <td>3600000.0</td>\n",
              "      <td>1300000</td>\n",
              "      <td>2.0</td>\n",
              "      <td>1</td>\n",
              "      <td>0</td>\n",
              "      <td>0</td>\n",
              "      <td>0</td>\n",
              "      <td>0</td>\n",
              "      <td>0</td>\n",
              "      <td>0</td>\n",
              "      <td>1</td>\n",
              "      <td>0</td>\n",
              "      <td>0</td>\n",
              "      <td>0</td>\n",
              "      <td>0</td>\n",
              "      <td>0</td>\n",
              "      <td>1</td>\n",
              "      <td>0</td>\n",
              "      <td>1</td>\n",
              "      <td>0</td>\n",
              "      <td>0</td>\n",
              "      <td>0</td>\n",
              "      <td>1</td>\n",
              "      <td>1</td>\n",
              "      <td>0</td>\n",
              "      <td>0</td>\n",
              "    </tr>\n",
              "    <tr>\n",
              "      <th>1</th>\n",
              "      <td>2</td>\n",
              "      <td>1</td>\n",
              "      <td>1</td>\n",
              "      <td>1</td>\n",
              "      <td>2.0</td>\n",
              "      <td>2</td>\n",
              "      <td>0</td>\n",
              "      <td>64</td>\n",
              "      <td>15</td>\n",
              "      <td>276.0</td>\n",
              "      <td>121.0</td>\n",
              "      <td>56.0</td>\n",
              "      <td>328.0</td>\n",
              "      <td>89.0</td>\n",
              "      <td>68.0</td>\n",
              "      <td>5</td>\n",
              "      <td>6</td>\n",
              "      <td>1600000.0</td>\n",
              "      <td>400000</td>\n",
              "      <td>1.0</td>\n",
              "      <td>1</td>\n",
              "      <td>0</td>\n",
              "      <td>0</td>\n",
              "      <td>0</td>\n",
              "      <td>0</td>\n",
              "      <td>0</td>\n",
              "      <td>0</td>\n",
              "      <td>1</td>\n",
              "      <td>0</td>\n",
              "      <td>0</td>\n",
              "      <td>0</td>\n",
              "      <td>0</td>\n",
              "      <td>1</td>\n",
              "      <td>0</td>\n",
              "      <td>0</td>\n",
              "      <td>0</td>\n",
              "      <td>1</td>\n",
              "      <td>0</td>\n",
              "      <td>0</td>\n",
              "      <td>0</td>\n",
              "      <td>0</td>\n",
              "      <td>0</td>\n",
              "      <td>1</td>\n",
              "    </tr>\n",
              "    <tr>\n",
              "      <th>2</th>\n",
              "      <td>3</td>\n",
              "      <td>1</td>\n",
              "      <td>1</td>\n",
              "      <td>0</td>\n",
              "      <td>1.0</td>\n",
              "      <td>2</td>\n",
              "      <td>0</td>\n",
              "      <td>19</td>\n",
              "      <td>13</td>\n",
              "      <td>416.0</td>\n",
              "      <td>124.0</td>\n",
              "      <td>137.0</td>\n",
              "      <td>213.0</td>\n",
              "      <td>77.0</td>\n",
              "      <td>43.0</td>\n",
              "      <td>40</td>\n",
              "      <td>6</td>\n",
              "      <td>3400000.0</td>\n",
              "      <td>900000</td>\n",
              "      <td>1.0</td>\n",
              "      <td>1</td>\n",
              "      <td>0</td>\n",
              "      <td>0</td>\n",
              "      <td>0</td>\n",
              "      <td>1</td>\n",
              "      <td>0</td>\n",
              "      <td>0</td>\n",
              "      <td>0</td>\n",
              "      <td>0</td>\n",
              "      <td>0</td>\n",
              "      <td>0</td>\n",
              "      <td>0</td>\n",
              "      <td>0</td>\n",
              "      <td>0</td>\n",
              "      <td>1</td>\n",
              "      <td>1</td>\n",
              "      <td>0</td>\n",
              "      <td>0</td>\n",
              "      <td>1</td>\n",
              "      <td>0</td>\n",
              "      <td>0</td>\n",
              "      <td>0</td>\n",
              "      <td>0</td>\n",
              "    </tr>\n",
              "    <tr>\n",
              "      <th>3</th>\n",
              "      <td>4</td>\n",
              "      <td>1</td>\n",
              "      <td>1</td>\n",
              "      <td>1</td>\n",
              "      <td>1.0</td>\n",
              "      <td>2</td>\n",
              "      <td>0</td>\n",
              "      <td>33</td>\n",
              "      <td>9</td>\n",
              "      <td>410.0</td>\n",
              "      <td>98.0</td>\n",
              "      <td>167.0</td>\n",
              "      <td>275.0</td>\n",
              "      <td>64.0</td>\n",
              "      <td>60.0</td>\n",
              "      <td>27</td>\n",
              "      <td>7</td>\n",
              "      <td>700000.0</td>\n",
              "      <td>2300000</td>\n",
              "      <td>1.0</td>\n",
              "      <td>1</td>\n",
              "      <td>0</td>\n",
              "      <td>0</td>\n",
              "      <td>0</td>\n",
              "      <td>0</td>\n",
              "      <td>0</td>\n",
              "      <td>1</td>\n",
              "      <td>0</td>\n",
              "      <td>0</td>\n",
              "      <td>0</td>\n",
              "      <td>0</td>\n",
              "      <td>0</td>\n",
              "      <td>0</td>\n",
              "      <td>0</td>\n",
              "      <td>0</td>\n",
              "      <td>0</td>\n",
              "      <td>0</td>\n",
              "      <td>1</td>\n",
              "      <td>0</td>\n",
              "      <td>0</td>\n",
              "      <td>0</td>\n",
              "      <td>1</td>\n",
              "      <td>0</td>\n",
              "    </tr>\n",
              "    <tr>\n",
              "      <th>4</th>\n",
              "      <td>5</td>\n",
              "      <td>1</td>\n",
              "      <td>1</td>\n",
              "      <td>0</td>\n",
              "      <td>2.0</td>\n",
              "      <td>2</td>\n",
              "      <td>0</td>\n",
              "      <td>23</td>\n",
              "      <td>7</td>\n",
              "      <td>390.0</td>\n",
              "      <td>21.0</td>\n",
              "      <td>153.0</td>\n",
              "      <td>331.0</td>\n",
              "      <td>71.0</td>\n",
              "      <td>64.0</td>\n",
              "      <td>32</td>\n",
              "      <td>7</td>\n",
              "      <td>3200000.0</td>\n",
              "      <td>1100000</td>\n",
              "      <td>1.0</td>\n",
              "      <td>1</td>\n",
              "      <td>0</td>\n",
              "      <td>0</td>\n",
              "      <td>0</td>\n",
              "      <td>0</td>\n",
              "      <td>0</td>\n",
              "      <td>0</td>\n",
              "      <td>0</td>\n",
              "      <td>0</td>\n",
              "      <td>1</td>\n",
              "      <td>0</td>\n",
              "      <td>0</td>\n",
              "      <td>1</td>\n",
              "      <td>0</td>\n",
              "      <td>0</td>\n",
              "      <td>0</td>\n",
              "      <td>0</td>\n",
              "      <td>0</td>\n",
              "      <td>0</td>\n",
              "      <td>1</td>\n",
              "      <td>1</td>\n",
              "      <td>0</td>\n",
              "      <td>0</td>\n",
              "    </tr>\n",
              "  </tbody>\n",
              "</table>\n",
              "</div>"
            ],
            "text/plain": [
              "   people_ID  ...  cardiological pressure_Stage-02\n",
              "0          1  ...                                0\n",
              "1          2  ...                                1\n",
              "2          3  ...                                0\n",
              "3          4  ...                                0\n",
              "4          5  ...                                0\n",
              "\n",
              "[5 rows x 43 columns]"
            ]
          },
          "metadata": {
            "tags": []
          },
          "execution_count": 105
        }
      ]
    },
    {
      "cell_type": "code",
      "metadata": {
        "id": "g1u7-y8QY_qn",
        "colab_type": "code",
        "colab": {}
      },
      "source": [
        "train_x,test_x,train_y,test_y = train_test_split(x,y,test_size=0.2,random_state=10)"
      ],
      "execution_count": 0,
      "outputs": []
    },
    {
      "cell_type": "code",
      "metadata": {
        "id": "PlWuWnBKZXM1",
        "colab_type": "code",
        "outputId": "b1c4b941-0f64-409c-97ca-9546198b3e15",
        "colab": {
          "base_uri": "https://localhost:8080/",
          "height": 85
        }
      },
      "source": [
        "print(\"Shape of Train-x:\",train_x.shape)\n",
        "print(\"Shape of Train-y:\",train_y.shape)\n",
        "print(\"Shape of Test-x:\",test_x.shape)\n",
        "print(\"Shape of Test-y:\",test_y.shape)"
      ],
      "execution_count": 107,
      "outputs": [
        {
          "output_type": "stream",
          "text": [
            "Shape of Train-x: (8571, 43)\n",
            "Shape of Train-y: (8571,)\n",
            "Shape of Test-x: (2143, 43)\n",
            "Shape of Test-y: (2143,)\n"
          ],
          "name": "stdout"
        }
      ]
    },
    {
      "cell_type": "markdown",
      "metadata": {
        "id": "l5NBCQI3aBIS",
        "colab_type": "text"
      },
      "source": [
        "### 2. Build a Model"
      ]
    },
    {
      "cell_type": "code",
      "metadata": {
        "id": "2eVM2CMxZpPu",
        "colab_type": "code",
        "outputId": "ca392d25-6bc2-459e-f79d-038e12742e4d",
        "colab": {
          "base_uri": "https://localhost:8080/",
          "height": 34
        }
      },
      "source": [
        "lr = LinearRegression()\n",
        "lr.fit(train_x,train_y)\n",
        "pred = lr.predict(test_x)\n",
        "pred.shape"
      ],
      "execution_count": 108,
      "outputs": [
        {
          "output_type": "execute_result",
          "data": {
            "text/plain": [
              "(2143,)"
            ]
          },
          "metadata": {
            "tags": []
          },
          "execution_count": 108
        }
      ]
    },
    {
      "cell_type": "code",
      "metadata": {
        "id": "cjINbsZvcbxl",
        "colab_type": "code",
        "outputId": "5b013bf5-9caf-48c3-d6fd-ff6c77482fcd",
        "colab": {
          "base_uri": "https://localhost:8080/",
          "height": 34
        }
      },
      "source": [
        "lr.score(test_x,test_y)"
      ],
      "execution_count": 109,
      "outputs": [
        {
          "output_type": "execute_result",
          "data": {
            "text/plain": [
              "0.2662817471204182"
            ]
          },
          "metadata": {
            "tags": []
          },
          "execution_count": 109
        }
      ]
    },
    {
      "cell_type": "code",
      "metadata": {
        "id": "tZqvInN6w10U",
        "colab_type": "code",
        "colab": {}
      },
      "source": [
        ""
      ],
      "execution_count": 0,
      "outputs": []
    }
  ]
}