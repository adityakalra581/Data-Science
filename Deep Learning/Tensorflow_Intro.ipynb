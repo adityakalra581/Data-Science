{
  "nbformat": 4,
  "nbformat_minor": 0,
  "metadata": {
    "colab": {
      "name": "Tensorflow_Intro",
      "provenance": [],
      "authorship_tag": "ABX9TyOVH3pVwg7Slx/y3J/x1iCc",
      "include_colab_link": true
    },
    "kernelspec": {
      "name": "python3",
      "display_name": "Python 3"
    }
  },
  "cells": [
    {
      "cell_type": "markdown",
      "metadata": {
        "id": "view-in-github",
        "colab_type": "text"
      },
      "source": [
        "<a href=\"https://colab.research.google.com/github/adityakalra581/Data-Science/blob/master/Deep%20Learning/Tensorflow_Intro.ipynb\" target=\"_parent\"><img src=\"https://colab.research.google.com/assets/colab-badge.svg\" alt=\"Open In Colab\"/></a>"
      ]
    },
    {
      "cell_type": "markdown",
      "metadata": {
        "id": "-DfWNFwhUpze",
        "colab_type": "text"
      },
      "source": [
        "## [TENSORFLOW TUTORIAL](https://www.tensorflow.org/api_docs)\n",
        "\n",
        "- The Code is Updated as Tensorflow 2.x"
      ]
    },
    {
      "cell_type": "code",
      "metadata": {
        "id": "wZMmj-WH6ceI",
        "colab_type": "code",
        "colab": {}
      },
      "source": [
        "import pandas as pd\n",
        "import numpy as np\n",
        "import tensorflow as tf\n"
      ],
      "execution_count": 0,
      "outputs": []
    },
    {
      "cell_type": "code",
      "metadata": {
        "id": "IkYIfw_SQV6h",
        "colab_type": "code",
        "colab": {
          "base_uri": "https://localhost:8080/",
          "height": 34
        },
        "outputId": "3c5352e4-f1c0-42c5-d7fa-f92467ad643f"
      },
      "source": [
        "tf.__version__"
      ],
      "execution_count": 11,
      "outputs": [
        {
          "output_type": "execute_result",
          "data": {
            "text/plain": [
              "'2.2.0-rc2'"
            ]
          },
          "metadata": {
            "tags": []
          },
          "execution_count": 11
        }
      ]
    },
    {
      "cell_type": "markdown",
      "metadata": {
        "id": "HWmvhzMK8VRH",
        "colab_type": "text"
      },
      "source": [
        "Writing and running programs in TensorFlow has the following steps:\n",
        "\n",
        "1. Create Tensors (variables) that are not yet executed/evaluated. \n",
        "2. Write operations between those Tensors.\n",
        "3. Initialize your Tensors. \n",
        "4. No need to create Sessions now.\n"
      ]
    },
    {
      "cell_type": "code",
      "metadata": {
        "id": "NWj--BCM7jeq",
        "colab_type": "code",
        "outputId": "7785f8e8-e3d0-4745-88da-d49517199b9a",
        "colab": {
          "base_uri": "https://localhost:8080/",
          "height": 34
        }
      },
      "source": [
        "x= tf.constant(2,name='x')\n",
        "y= tf.constant(5,name='y')\n",
        "z=tf.add(x,y)\n",
        "print(z)\n"
      ],
      "execution_count": 8,
      "outputs": [
        {
          "output_type": "stream",
          "text": [
            "tf.Tensor(7, shape=(), dtype=int32)\n"
          ],
          "name": "stdout"
        }
      ]
    },
    {
      "cell_type": "code",
      "metadata": {
        "id": "Vq6Y5yy5QCl1",
        "colab_type": "code",
        "colab": {
          "base_uri": "https://localhost:8080/",
          "height": 34
        },
        "outputId": "b1462ca4-f626-45a5-d346-6ea1cef29d28"
      },
      "source": [
        "x= tf.constant(2,name='x')\n",
        "y= tf.constant(5,name='y')\n",
        "z=tf.add(x,y)\n",
        "tf.print(z)"
      ],
      "execution_count": 10,
      "outputs": [
        {
          "output_type": "stream",
          "text": [
            "7\n"
          ],
          "name": "stdout"
        }
      ]
    },
    {
      "cell_type": "markdown",
      "metadata": {
        "id": "rd9aXPUw85xX",
        "colab_type": "text"
      },
      "source": [
        "Let's Calculate the Loss:\n",
        "$$loss = \\mathcal{L}(\\hat{y}, y) = (\\hat y^{(i)} - y^{(i)})^2 \\tag{1}$$"
      ]
    },
    {
      "cell_type": "code",
      "metadata": {
        "id": "6wfIDXSK8Nb3",
        "colab_type": "code",
        "outputId": "54c78439-1dc2-458c-ea18-6b13f6c1adeb",
        "colab": {
          "base_uri": "https://localhost:8080/",
          "height": 51
        }
      },
      "source": [
        "X=tf.constant(36,name='X')\n",
        "Y=tf.constant(39,name=\"Y\")\n",
        "loss=(tf.subtract(X,Y)**2)   \n",
        "print(\"The Loss is equal to : \")\n",
        "tf.print(loss) \n",
        "  "
      ],
      "execution_count": 15,
      "outputs": [
        {
          "output_type": "stream",
          "text": [
            "The Loss is equal to : \n",
            "9\n"
          ],
          "name": "stdout"
        }
      ]
    },
    {
      "cell_type": "markdown",
      "metadata": {
        "id": "Zfdo5_35BUTa",
        "colab_type": "text"
      },
      "source": [
        "Multiplying two constants!!!"
      ]
    },
    {
      "cell_type": "code",
      "metadata": {
        "id": "FKCMw2St_FU_",
        "colab_type": "code",
        "outputId": "c2ffe9da-a209-4bf0-d936-79d1fd9c584d",
        "colab": {
          "base_uri": "https://localhost:8080/",
          "height": 51
        }
      },
      "source": [
        "a = tf.constant(2)\n",
        "b = tf.constant(10)\n",
        "c = tf.multiply(a,b)\n",
        "\n",
        "## Printing the Tensor\n",
        "print(c)\n",
        "\n",
        "## Printing the Value inside a Tensor.\n",
        "tf.print(c)"
      ],
      "execution_count": 17,
      "outputs": [
        {
          "output_type": "stream",
          "text": [
            "tf.Tensor(20, shape=(), dtype=int32)\n",
            "20\n"
          ],
          "name": "stdout"
        }
      ]
    },
    {
      "cell_type": "markdown",
      "metadata": {
        "id": "0-cujKt5EePK",
        "colab_type": "text"
      },
      "source": [
        "just checking"
      ]
    },
    {
      "cell_type": "markdown",
      "metadata": {
        "id": "uMiapRCygrSi",
        "colab_type": "text"
      },
      "source": [
        "Let's create a single layer single neuron neural network."
      ]
    },
    {
      "cell_type": "code",
      "metadata": {
        "id": "tBPblRVrC9Ib",
        "colab_type": "code",
        "colab": {}
      },
      "source": [
        "import tensorflow.keras as keras\n",
        "import numpy as np\n",
        "\n",
        "model = keras.Sequential([keras.layers.Dense(units=1,input_shape=[1])])\n",
        "model.compile(optimizer='sgd',loss='mean_squared_error')\n",
        "\n",
        "x = np.array([-1,1,3,5,7,9],dtype=int)\n",
        "y=np.array([-3,0,5,9,13,17],dtype=int)\n",
        "\n",
        "model.fit(x,y,epochs = 500)\n"
      ],
      "execution_count": 0,
      "outputs": []
    },
    {
      "cell_type": "code",
      "metadata": {
        "id": "yzHta5EnkHV3",
        "colab_type": "code",
        "outputId": "07845766-16bc-4303-90da-8be92184d540",
        "colab": {
          "base_uri": "https://localhost:8080/",
          "height": 34
        }
      },
      "source": [
        "print(model.predict([10]))"
      ],
      "execution_count": 23,
      "outputs": [
        {
          "output_type": "stream",
          "text": [
            "[[19.079174]]\n"
          ],
          "name": "stdout"
        }
      ]
    },
    {
      "cell_type": "code",
      "metadata": {
        "id": "NTBFu_xYimXC",
        "colab_type": "code",
        "colab": {}
      },
      "source": [
        "## Clearly the pattern between the two arrays is y=2x-1\n",
        "## So the correct answer for x=10 is y=19.\n",
        "## For 500 epochs the loss is quite minimized.\n",
        "## I tried 10,100,500 \n",
        "# And with 500 i got the best results. "
      ],
      "execution_count": 0,
      "outputs": []
    },
    {
      "cell_type": "code",
      "metadata": {
        "id": "Yks4QZYONbp6",
        "colab_type": "code",
        "colab": {}
      },
      "source": [
        "import tensorflow as tf"
      ],
      "execution_count": 0,
      "outputs": []
    },
    {
      "cell_type": "markdown",
      "metadata": {
        "id": "XOjvRxY5Nmg_",
        "colab_type": "text"
      },
      "source": [
        "## [tf.subtract](https://www.tensorflow.org/api_docs/python/tf/math/subtract)\n",
        "\n",
        "* It's mentioned tf.math.subtract but use tf.subtract instead.\n",
        "* NOTE: Subtract supports broadcasting. More about broadcasting here\n",
        "\n",
        "- Args:\n",
        "- x: A Tensor. Must be one of the following types: \n",
        "\n",
        "bfloat16, half, float32, float64, uint8, int8, uint16, int16, int32, int64, complex64, complex128.\n",
        "\n",
        "- y: A Tensor. Must have the same type as x.\n"
      ]
    },
    {
      "cell_type": "code",
      "metadata": {
        "id": "n8rPALJSNcBF",
        "colab_type": "code",
        "colab": {
          "base_uri": "https://localhost:8080/",
          "height": 51
        },
        "outputId": "11bb6a4a-2b82-41cc-b0ea-3e09b071ba11"
      },
      "source": [
        "a = [32,32,16]\n",
        "b = [28,28,8]\n",
        "\n",
        "sub = tf.subtract(a,b)\n",
        "print(\"The Resultant Tensor is:\")\n",
        "tf.print(sub)"
      ],
      "execution_count": 25,
      "outputs": [
        {
          "output_type": "stream",
          "text": [
            "The Resultant Tensor is:\n",
            "[4 4 8]\n"
          ],
          "name": "stdout"
        }
      ]
    },
    {
      "cell_type": "code",
      "metadata": {
        "id": "qDtn7v-LNcMR",
        "colab_type": "code",
        "colab": {
          "base_uri": "https://localhost:8080/",
          "height": 85
        },
        "outputId": "8cd0bbe8-02f5-4da2-a691-4ad5d110a0e5"
      },
      "source": [
        "## Multidimensional:\n",
        "\n",
        "x = [[[10,12,23],\n",
        "     [45,56,67],\n",
        "     [12,23,22]]]\n",
        "\n",
        "y = [[[2,3,4],\n",
        "      [1,2,3],\n",
        "      [5,7,8]]]\n",
        "\n",
        "result = tf.subtract(x,y)\n",
        "print(\"The Resultant Tensor is:\")\n",
        "tf.print(result)"
      ],
      "execution_count": 28,
      "outputs": [
        {
          "output_type": "stream",
          "text": [
            "The Resultant Tensor is:\n",
            "[[[8 9 19]\n",
            "  [44 54 64]\n",
            "  [7 16 14]]]\n"
          ],
          "name": "stdout"
        }
      ]
    },
    {
      "cell_type": "code",
      "metadata": {
        "id": "iM2tTJWDNcQC",
        "colab_type": "code",
        "colab": {}
      },
      "source": [
        ""
      ],
      "execution_count": 0,
      "outputs": []
    },
    {
      "cell_type": "code",
      "metadata": {
        "id": "pF7llOLtNcUM",
        "colab_type": "code",
        "colab": {}
      },
      "source": [
        ""
      ],
      "execution_count": 0,
      "outputs": []
    }
  ]
}