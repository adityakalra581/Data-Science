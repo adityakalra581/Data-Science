{
  "nbformat": 4,
  "nbformat_minor": 0,
  "metadata": {
    "colab": {
      "name": "NLP_INTRO.ipynb",
      "provenance": [],
      "collapsed_sections": [],
      "authorship_tag": "ABX9TyMcCQ2DIWNWElEmDulkXBfy",
      "include_colab_link": true
    },
    "kernelspec": {
      "name": "python3",
      "display_name": "Python 3"
    }
  },
  "cells": [
    {
      "cell_type": "markdown",
      "metadata": {
        "id": "view-in-github",
        "colab_type": "text"
      },
      "source": [
        "<a href=\"https://colab.research.google.com/github/adityakalra581/Data-Science/blob/master/Deep%20Learning/NLP/NLP_INTRO.ipynb\" target=\"_parent\"><img src=\"https://colab.research.google.com/assets/colab-badge.svg\" alt=\"Open In Colab\"/></a>"
      ]
    },
    {
      "cell_type": "markdown",
      "metadata": {
        "id": "ZkiOikzAfO13",
        "colab_type": "text"
      },
      "source": [
        "**FIRST ATTEMPT TOWARDS NLP**\n",
        "\n",
        "- Natural Language processing is considered a difficult problem in computer science. It's the nature of the human language that makes NLP difficult.\n",
        "While humans can easily master a language, the ambiguity and imprecise characteristics of the natural languages are what make NLP difficult for machines to implement.\n",
        "\n",
        "- Playing with words is difficult for Neural Networks as we can't feed the Words into the Neural Network, so there is a need to convert those words into Numbers for Perceptrons to understand. "
      ]
    },
    {
      "cell_type": "code",
      "metadata": {
        "id": "5U4jaS1EfIaS",
        "colab_type": "code",
        "outputId": "47fc2070-0554-486c-9c07-27775f913a3c",
        "colab": {
          "base_uri": "https://localhost:8080/",
          "height": 34
        }
      },
      "source": [
        "### FIRST EXERCISE:\n",
        "# Try to count the different words in multiple sentences using Keras \n",
        "\n",
        "\n",
        "\n",
        "from tensorflow.keras.preprocessing.text import Tokenizer\n",
        "\n",
        "sentences=[\n",
        "           \"Hi my name is Aditya\",\n",
        "           \"Hi my name is Jason\",\n",
        "           \"I have a dog\"\n",
        "]\n",
        "\n",
        "tokenizer = Tokenizer(num_words=100)\n",
        "tokenizer.fit_on_texts(sentences)\n",
        "word_index = tokenizer.word_index\n",
        "print(word_index)"
      ],
      "execution_count": 0,
      "outputs": [
        {
          "output_type": "stream",
          "text": [
            "{'hi': 1, 'my': 2, 'name': 3, 'is': 4, 'aditya': 5, 'jason': 6, 'i': 7, 'have': 8, 'a': 9, 'dog': 10}\n"
          ],
          "name": "stdout"
        }
      ]
    },
    {
      "cell_type": "markdown",
      "metadata": {
        "id": "vn4bTEJSfquy",
        "colab_type": "text"
      },
      "source": [
        "- Tokenization is a necessary first step in many natural language processing tasks, such as word counting, parsing, spell checking, corpus generation, and statistical analysis of text.\n",
        "\n",
        "REFERENCE: https://keras.io/preprocessing/text/\n",
        "\n"
      ]
    },
    {
      "cell_type": "code",
      "metadata": {
        "id": "H7tG54UeeXZQ",
        "colab_type": "code",
        "colab": {
          "base_uri": "https://localhost:8080/",
          "height": 106
        },
        "outputId": "41fc7a5b-ca37-45dc-b1c2-cc20b737cbf8"
      },
      "source": [
        "## SECOND EXERCISE:\n",
        "## PRINT SEQUENCES AS WELL.\n",
        "## That means Sentence into Numbers and then we get collection of numbers.\n",
        "\n",
        "\n",
        "from tensorflow.keras.preprocessing.text import Tokenizer\n",
        "\n",
        "sentences=[\n",
        "           \"Hi my name is Aditya\",\n",
        "           \"Hi my name is Jason\",\n",
        "           \"I have a dog\",\n",
        "           \"Neural Networks are a Hoax\",\n",
        "           \"I have a cat\",\n",
        "           \"A Single Neuron is known as Perceptron\"\n",
        "]\n",
        "\n",
        "tokenizer = Tokenizer(num_words=100)\n",
        "tokenizer.fit_on_texts(sentences)\n",
        "word_index = tokenizer.word_index\n",
        "seq = tokenizer.texts_to_sequences(sentences)\n",
        "\n",
        "print(word_index)\n",
        "print()\n",
        "print(seq)\n",
        "print()\n",
        "\n"
      ],
      "execution_count": 10,
      "outputs": [
        {
          "output_type": "stream",
          "text": [
            "{'a': 1, 'is': 2, 'hi': 3, 'my': 4, 'name': 5, 'i': 6, 'have': 7, 'aditya': 8, 'jason': 9, 'dog': 10, 'neural': 11, 'networks': 12, 'are': 13, 'hoax': 14, 'cat': 15, 'single': 16, 'neuron': 17, 'known': 18, 'as': 19, 'perceptron': 20}\n",
            "\n",
            "[[3, 4, 5, 2, 8], [3, 4, 5, 2, 9], [6, 7, 1, 10], [11, 12, 13, 1, 14], [6, 7, 1, 15], [1, 16, 17, 2, 18, 19, 20]]\n",
            "\n"
          ],
          "name": "stdout"
        }
      ]
    },
    {
      "cell_type": "markdown",
      "metadata": {
        "id": "yJ-UFacSltvf",
        "colab_type": "text"
      },
      "source": [
        "- See carefully that there is no Duplicacy in word and Index Dictionary. \n",
        "- In the next cell examine the sequences and verify it from the above cell."
      ]
    },
    {
      "cell_type": "code",
      "metadata": {
        "id": "lk9rXZS4knpj",
        "colab_type": "code",
        "colab": {
          "base_uri": "https://localhost:8080/",
          "height": 139
        },
        "outputId": "5c1bb9f3-bd3a-45c2-cf4d-480e9967277c"
      },
      "source": [
        "print(\"Sentences\",'\\t','\\t','\\t',\"Sequences\")\n",
        "for i in range(len(sentences)):\n",
        "  print(sentences[i],'\\t','\\t',seq[i])"
      ],
      "execution_count": 11,
      "outputs": [
        {
          "output_type": "stream",
          "text": [
            "Sentences \t \t \t Sequences\n",
            "Hi my name is Aditya \t \t [3, 4, 5, 2, 8]\n",
            "Hi my name is Jason \t \t [3, 4, 5, 2, 9]\n",
            "I have a dog \t \t [6, 7, 1, 10]\n",
            "Neural Networks are a Hoax \t \t [11, 12, 13, 1, 14]\n",
            "I have a cat \t \t [6, 7, 1, 15]\n",
            "A Single Neuron is known as Perceptron \t \t [1, 16, 17, 2, 18, 19, 20]\n"
          ],
          "name": "stdout"
        }
      ]
    },
    {
      "cell_type": "code",
      "metadata": {
        "id": "szjGQTlWmcK7",
        "colab_type": "code",
        "colab": {}
      },
      "source": [
        ""
      ],
      "execution_count": 0,
      "outputs": []
    }
  ]
}