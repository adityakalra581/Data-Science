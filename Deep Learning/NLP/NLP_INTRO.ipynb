{
  "nbformat": 4,
  "nbformat_minor": 0,
  "metadata": {
    "colab": {
      "name": "NLP_INTRO.ipynb",
      "provenance": [],
      "collapsed_sections": [],
      "authorship_tag": "ABX9TyPoewPlOt6HvhI2qzzeiIgk",
      "include_colab_link": true
    },
    "kernelspec": {
      "name": "python3",
      "display_name": "Python 3"
    }
  },
  "cells": [
    {
      "cell_type": "markdown",
      "metadata": {
        "id": "view-in-github",
        "colab_type": "text"
      },
      "source": [
        "<a href=\"https://colab.research.google.com/github/adityakalra581/Data-Science/blob/master/Deep%20Learning/NLP/NLP_INTRO.ipynb\" target=\"_parent\"><img src=\"https://colab.research.google.com/assets/colab-badge.svg\" alt=\"Open In Colab\"/></a>"
      ]
    },
    {
      "cell_type": "markdown",
      "metadata": {
        "id": "ZkiOikzAfO13",
        "colab_type": "text"
      },
      "source": [
        "**FIRST ATTEMPT TOWARDS NLP**\n",
        "\n",
        "- Natural Language processing is considered a difficult problem in computer science. It's the nature of the human language that makes NLP difficult.\n",
        "While humans can easily master a language, the ambiguity and imprecise characteristics of the natural languages are what make NLP difficult for machines to implement.\n",
        "\n",
        "- Playing with words is difficult for Neural Networks as we can't feed the Words into the Neural Network, so there is a need to convert those words into Numbers for Perceptrons to understand. "
      ]
    },
    {
      "cell_type": "code",
      "metadata": {
        "id": "5U4jaS1EfIaS",
        "colab_type": "code",
        "outputId": "610c8a18-4820-4951-d707-fecff12e279d",
        "colab": {
          "base_uri": "https://localhost:8080/",
          "height": 81
        }
      },
      "source": [
        "### FIRST EXERCISE:\n",
        "# Try to count the different words in multiple sentences using Keras \n",
        "\n",
        "\n",
        "\n",
        "from tensorflow.keras.preprocessing.text import Tokenizer\n",
        "\n",
        "sentences=[\n",
        "           \"Hi my name is Aditya\",\n",
        "           \"Hi my name is Jason\",\n",
        "           \"I have a dog\"\n",
        "]\n",
        "\n",
        "tokenizer = Tokenizer(num_words=100)\n",
        "tokenizer.fit_on_texts(sentences)\n",
        "word_index = tokenizer.word_index\n",
        "print(word_index)"
      ],
      "execution_count": 1,
      "outputs": [
        {
          "output_type": "display_data",
          "data": {
            "text/html": [
              "<p style=\"color: red;\">\n",
              "The default version of TensorFlow in Colab will soon switch to TensorFlow 2.x.<br>\n",
              "We recommend you <a href=\"https://www.tensorflow.org/guide/migrate\" target=\"_blank\">upgrade</a> now \n",
              "or ensure your notebook will continue to use TensorFlow 1.x via the <code>%tensorflow_version 1.x</code> magic:\n",
              "<a href=\"https://colab.research.google.com/notebooks/tensorflow_version.ipynb\" target=\"_blank\">more info</a>.</p>\n"
            ],
            "text/plain": [
              "<IPython.core.display.HTML object>"
            ]
          },
          "metadata": {
            "tags": []
          }
        },
        {
          "output_type": "stream",
          "text": [
            "{'hi': 1, 'my': 2, 'name': 3, 'is': 4, 'aditya': 5, 'jason': 6, 'i': 7, 'have': 8, 'a': 9, 'dog': 10}\n"
          ],
          "name": "stdout"
        }
      ]
    },
    {
      "cell_type": "markdown",
      "metadata": {
        "id": "vn4bTEJSfquy",
        "colab_type": "text"
      },
      "source": [
        "- Tokenization is a necessary first step in many natural language processing tasks, such as word counting, parsing, spell checking, corpus generation, and statistical analysis of text.\n",
        "\n",
        "REFERENCE: https://keras.io/preprocessing/text/\n",
        "\n"
      ]
    },
    {
      "cell_type": "code",
      "metadata": {
        "id": "H7tG54UeeXZQ",
        "colab_type": "code",
        "outputId": "513f5f93-d967-4242-ba4b-3466d524de62",
        "colab": {
          "base_uri": "https://localhost:8080/",
          "height": 106
        }
      },
      "source": [
        "## SECOND EXERCISE:\n",
        "## PRINT SEQUENCES AS WELL.\n",
        "## That means Sentence into Numbers and then we get collection of numbers.\n",
        "\n",
        "\n",
        "from tensorflow.keras.preprocessing.text import Tokenizer\n",
        "\n",
        "sentences=[\n",
        "           \"Hi my name is Aditya\",\n",
        "           \"Hi my name is Jason\",\n",
        "           \"I have a dog\",\n",
        "           \"Neural Networks are a Hoax\",\n",
        "           \"I have a cat\",\n",
        "           \"A Single Neuron is known as Perceptron\"\n",
        "]\n",
        "\n",
        "tokenizer = Tokenizer(num_words=100)\n",
        "tokenizer.fit_on_texts(sentences)\n",
        "word_index = tokenizer.word_index\n",
        "seq = tokenizer.texts_to_sequences(sentences)\n",
        "\n",
        "print(word_index)\n",
        "print()\n",
        "print(seq)\n",
        "print()\n",
        "\n"
      ],
      "execution_count": 2,
      "outputs": [
        {
          "output_type": "stream",
          "text": [
            "{'a': 1, 'is': 2, 'hi': 3, 'my': 4, 'name': 5, 'i': 6, 'have': 7, 'aditya': 8, 'jason': 9, 'dog': 10, 'neural': 11, 'networks': 12, 'are': 13, 'hoax': 14, 'cat': 15, 'single': 16, 'neuron': 17, 'known': 18, 'as': 19, 'perceptron': 20}\n",
            "\n",
            "[[3, 4, 5, 2, 8], [3, 4, 5, 2, 9], [6, 7, 1, 10], [11, 12, 13, 1, 14], [6, 7, 1, 15], [1, 16, 17, 2, 18, 19, 20]]\n",
            "\n"
          ],
          "name": "stdout"
        }
      ]
    },
    {
      "cell_type": "markdown",
      "metadata": {
        "id": "yJ-UFacSltvf",
        "colab_type": "text"
      },
      "source": [
        "- See carefully that there is no Duplicacy in word and Index Dictionary. \n",
        "- In the next cell examine the sequences and verify it from the above cell."
      ]
    },
    {
      "cell_type": "code",
      "metadata": {
        "id": "lk9rXZS4knpj",
        "colab_type": "code",
        "outputId": "018eb344-21d8-4736-8d4e-d08256148ad8",
        "colab": {
          "base_uri": "https://localhost:8080/",
          "height": 139
        }
      },
      "source": [
        "print(\"Sentences\",'\\t','\\t','\\t',\"Sequences\")\n",
        "for i in range(len(sentences)):\n",
        "  print(sentences[i],'\\t','\\t',seq[i])"
      ],
      "execution_count": 3,
      "outputs": [
        {
          "output_type": "stream",
          "text": [
            "Sentences \t \t \t Sequences\n",
            "Hi my name is Aditya \t \t [3, 4, 5, 2, 8]\n",
            "Hi my name is Jason \t \t [3, 4, 5, 2, 9]\n",
            "I have a dog \t \t [6, 7, 1, 10]\n",
            "Neural Networks are a Hoax \t \t [11, 12, 13, 1, 14]\n",
            "I have a cat \t \t [6, 7, 1, 15]\n",
            "A Single Neuron is known as Perceptron \t \t [1, 16, 17, 2, 18, 19, 20]\n"
          ],
          "name": "stdout"
        }
      ]
    },
    {
      "cell_type": "code",
      "metadata": {
        "id": "szjGQTlWmcK7",
        "colab_type": "code",
        "colab": {
          "base_uri": "https://localhost:8080/",
          "height": 124
        },
        "outputId": "e475e096-28a3-44f6-c664-d6d6018480c5"
      },
      "source": [
        "### EXERCISE 3: \n",
        "## Give the word_index some testing data to check it's validity.\n",
        "\n",
        "\n",
        "test_data = [\n",
        "             \"hi, my name is Shaw\",\n",
        "             \"Welcome Aditya,\",\n",
        "             \"do you have a dog\"\n",
        "]   \n",
        "test_seq = tokenizer.texts_to_sequences(test_data)\n",
        "\n",
        "\n",
        "for i in range(len(test_seq)):\n",
        "  print(test_data[i],\"------\",test_seq[i])\n",
        "print()\n",
        "print(word_index)\n",
        "\n",
        "\n",
        "\n",
        "\n"
      ],
      "execution_count": 8,
      "outputs": [
        {
          "output_type": "stream",
          "text": [
            "hi, my name is Shaw ------ [3, 4, 5, 2]\n",
            "Welcome Aditya, ------ [8]\n",
            "do you have a dog ------ [7, 1, 10]\n",
            "\n",
            "{'a': 1, 'is': 2, 'hi': 3, 'my': 4, 'name': 5, 'i': 6, 'have': 7, 'aditya': 8, 'jason': 9, 'dog': 10, 'neural': 11, 'networks': 12, 'are': 13, 'hoax': 14, 'cat': 15, 'single': 16, 'neuron': 17, 'known': 18, 'as': 19, 'perceptron': 20}\n"
          ],
          "name": "stdout"
        }
      ]
    },
    {
      "cell_type": "markdown",
      "metadata": {
        "id": "wr9iUEOPRKd8",
        "colab_type": "text"
      },
      "source": [
        "- Now, let's match:\n",
        "\n",
        "hi, my name is Shaw ------ [3, 4, 5, 2]\n",
        "\n",
        "In word_index: 3 = hi , 4 = my , 5 = name , 2 = is\n",
        "\n",
        "Which Means:\n",
        "\n",
        "the algorithm detected: \"hi my name is\" only and left out shaw as it is.\n",
        "\n",
        "**Thus the words which are not available in the index will not be numbered or detected**\n",
        "\n",
        "\n",
        "Welcome Aditya, ------ [8]\n",
        "\n",
        "Only aditya is detected as welcome is not in the index.\n",
        "\n"
      ]
    },
    {
      "cell_type": "code",
      "metadata": {
        "id": "dGk67WYkREx4",
        "colab_type": "code",
        "colab": {
          "base_uri": "https://localhost:8080/",
          "height": 104
        },
        "outputId": "6845c85a-5cb6-4d29-8fad-10c1f87993d1"
      },
      "source": [
        "## EXERCISE 4:\n",
        "## Setup a token which will be indicated when there is no matching of words.\n",
        "\n",
        "## Step1: Need to create tokenizer again with oov_token\n",
        "\n",
        "from tensorflow.keras.preprocessing.text import Tokenizer\n",
        "\n",
        "sentences=[\n",
        "           \"Hi my name is Aditya\",\n",
        "           \"Hi my name is Jason\",\n",
        "           \"I have a dog\"\n",
        "]\n",
        "\n",
        "tokenizer = Tokenizer(num_words=100,oov_token=\"<OOV>\")\n",
        "tokenizer.fit_on_texts(sentences)\n",
        "word_index = tokenizer.word_index\n",
        "\n",
        "## tokenizer here is like a virtual model which is \n",
        "## fit on training data[here sentences].\n",
        "\n",
        "\n",
        "\n",
        "\n",
        "test_data = [\n",
        "             \"hi, my name is Shaw\",\n",
        "             \"Welcome Aditya,\",\n",
        "             \"do you have a dog\"\n",
        "]   \n",
        "\n",
        "\n",
        "test_seq = tokenizer.texts_to_sequences(test_data)\n",
        "\n",
        "\n",
        "for i in range(len(test_seq)):\n",
        "  print(test_data[i],\"------\",test_seq[i])\n",
        "print()\n",
        "\n",
        "print(\"Index Dictionary: \", word_index)\n",
        "\n",
        "\n",
        "\n",
        "\n"
      ],
      "execution_count": 11,
      "outputs": [
        {
          "output_type": "stream",
          "text": [
            "hi, my name is Shaw ------ [2, 3, 4, 5, 1]\n",
            "Welcome Aditya, ------ [1, 6]\n",
            "do you have a dog ------ [1, 1, 9, 10, 11]\n",
            "\n",
            "Index Dictionary:  {'<OOV>': 1, 'hi': 2, 'my': 3, 'name': 4, 'is': 5, 'aditya': 6, 'jason': 7, 'i': 8, 'have': 9, 'a': 10, 'dog': 11}\n"
          ],
          "name": "stdout"
        }
      ]
    },
    {
      "cell_type": "markdown",
      "metadata": {
        "id": "r52aeEGMVHjB",
        "colab_type": "text"
      },
      "source": [
        "- Here, whenever there is a missing word(Word which is not in index dictionary) there will be 1 indicated which is simply a token.  "
      ]
    },
    {
      "cell_type": "markdown",
      "metadata": {
        "id": "T8nZaQdFYJfj",
        "colab_type": "text"
      },
      "source": [
        "## PADDING:\n",
        "\n",
        "- In the case of variable length sequence prediction problems, this requires that your data be transformed such that each sequence has the same length.\n",
        "\n",
        "- This vectorization allows code to efficiently perform the matrix operations in batch for your chosen deep learning algorithms.\n",
        "\n",
        "Reference:[https://machinelearningmastery.com/data-preparation-variable-length-input-sequences-sequence-prediction/]"
      ]
    },
    {
      "cell_type": "code",
      "metadata": {
        "id": "dN8miTu1UmpM",
        "colab_type": "code",
        "colab": {
          "base_uri": "https://localhost:8080/",
          "height": 121
        },
        "outputId": "4cdc81d1-3fe1-4522-c401-439191766c29"
      },
      "source": [
        "\n",
        "from tensorflow.keras.preprocessing.text import Tokenizer\n",
        "from tensorflow.keras.preprocessing.sequence import pad_sequences\n",
        "sentences=[\n",
        "           \"Hi my name is Aditya\",\n",
        "           \"Hi my name is Jason\",\n",
        "           \"I have a dog\",\n",
        "           \"Neural Networks are a Hoax\",\n",
        "           \"I have a cat\",\n",
        "           \"A Single Neuron is known as Perceptron\"\n",
        "]\n",
        "\n",
        "tokenizer = Tokenizer(num_words=100)\n",
        "tokenizer.fit_on_texts(sentences)\n",
        "word_index = tokenizer.word_index\n",
        "seq = tokenizer.texts_to_sequences(sentences)\n",
        "\n",
        "\n",
        "\n",
        "padded = pad_sequences(seq)\n",
        "\n",
        "\n",
        "print(padded)\n",
        "# print()\n",
        "# print(word_index)\n",
        "# print()\n",
        "# print(seq)\n",
        "# print()\n",
        "\n"
      ],
      "execution_count": 14,
      "outputs": [
        {
          "output_type": "stream",
          "text": [
            "[[ 0  0  3  4  5  2  8]\n",
            " [ 0  0  3  4  5  2  9]\n",
            " [ 0  0  0  6  7  1 10]\n",
            " [ 0  0 11 12 13  1 14]\n",
            " [ 0  0  0  6  7  1 15]\n",
            " [ 1 16 17  2 18 19 20]]\n"
          ],
          "name": "stdout"
        }
      ]
    },
    {
      "cell_type": "markdown",
      "metadata": {
        "id": "-8DykahyZJ4g",
        "colab_type": "text"
      },
      "source": [
        ""
      ]
    },
    {
      "cell_type": "code",
      "metadata": {
        "id": "Sdh65q9NZCXx",
        "colab_type": "code",
        "colab": {}
      },
      "source": [
        ""
      ],
      "execution_count": 0,
      "outputs": []
    }
  ]
}